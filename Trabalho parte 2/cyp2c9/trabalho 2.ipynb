{
 "cells": [
  {
   "attachments": {},
   "cell_type": "markdown",
   "metadata": {},
   "source": [
    "# Trabalho ECDB\n",
    "\n",
    "## Grupo 2\n",
    "\n",
    "\n",
    "## Alunos: \n",
    "\n",
    "- Bruno Sá (Pg48932)\n",
    "- Gonçalo Cardoso (Pg49034)\n",
    "- Joana Gonçalves (Pg49835)\n",
    "- Luís Ferreira (Pg49840)\n",
    "\n"
   ]
  },
  {
   "attachments": {},
   "cell_type": "markdown",
   "metadata": {},
   "source": [
    "# CYP P450 2C9 Inhibition_ Information\n",
    "\n",
    "## Dataset Description: \n",
    "\n",
    "The CYP P450 genes are involved in the formation and breakdown (metabolism) of various molecules and chemicals within cells. Specifically, the CYP P450 2C9 plays a major role in the oxidation of both xenobiotic and endogenous compounds.\n",
    "\n",
    "## Task Description: \n",
    "\n",
    "Binary Classification. Given a drug SMILES string, predict CYP2C9 inhibition.\n",
    "\n",
    "## Dataset Statistics: \n",
    "\n",
    "11,934 drugs.\n",
    "\n",
    "## References:\n",
    "\n",
    "[1] Veith, Henrike et al. “Comprehensive characterization of cytochrome P450 isozyme selectivity across chemical libraries.” Nature biotechnology vol. 27,11 (2009): 1050-5.\n"
   ]
  },
  {
   "attachments": {},
   "cell_type": "markdown",
   "metadata": {},
   "source": [
    "Tópicos (apagar depois):\n",
    "\n",
    "-análise do conjunto de dados e sua breve descrição\n",
    "- tarefas de pré-processamento dos dados (as que julgar necessárias)\n",
    "- sumarização dos dados (estatística descritiva, exploração com recurso\n",
    "a gráficos)\n",
    "- análise estatística univariada (e.g. análise de “expressão” diferencial)\n",
    "- análise estatística multivariada (não supervisionada): clustering,\n",
    "redução de dimensionalidade/ visualização"
   ]
  },
  {
   "cell_type": "code",
   "execution_count": 196,
   "metadata": {},
   "outputs": [],
   "source": [
    "#Librarys\n",
    "import scipy.stats as stats\n",
    "import numpy as np\n",
    "import seaborn as sns\n",
    "import pandas as pd\n",
    "import matplotlib.pyplot as plt\n",
    "from sklearn.decomposition import PCA\n",
    "from sklearn.manifold import TSNE\n",
    "from sklearn.cluster import KMeans\n",
    "from scipy.stats import ttest_ind, mannwhitneyu, shapiro, chisquare\n",
    "from sklearn.preprocessing import StandardScaler"
   ]
  },
  {
   "attachments": {},
   "cell_type": "markdown",
   "metadata": {},
   "source": [
    "# 1. Importação dos dados e a sua Visualização"
   ]
  },
  {
   "cell_type": "code",
   "execution_count": 197,
   "metadata": {},
   "outputs": [],
   "source": [
    "df_cyp2c9 = pd.read_csv(\"cyp2c9.csv\")"
   ]
  },
  {
   "cell_type": "code",
   "execution_count": 198,
   "metadata": {},
   "outputs": [],
   "source": [
    "df_features = pd.read_csv(\"cyp2c9_features.csv\")"
   ]
  },
  {
   "cell_type": "code",
   "execution_count": 199,
   "metadata": {},
   "outputs": [
    {
     "data": {
      "text/html": [
       "<div>\n",
       "<style scoped>\n",
       "    .dataframe tbody tr th:only-of-type {\n",
       "        vertical-align: middle;\n",
       "    }\n",
       "\n",
       "    .dataframe tbody tr th {\n",
       "        vertical-align: top;\n",
       "    }\n",
       "\n",
       "    .dataframe thead th {\n",
       "        text-align: right;\n",
       "    }\n",
       "</style>\n",
       "<table border=\"1\" class=\"dataframe\">\n",
       "  <thead>\n",
       "    <tr style=\"text-align: right;\">\n",
       "      <th></th>\n",
       "      <th>ids</th>\n",
       "      <th>smiles</th>\n",
       "      <th>Y</th>\n",
       "    </tr>\n",
       "  </thead>\n",
       "  <tbody>\n",
       "    <tr>\n",
       "      <th>0</th>\n",
       "      <td>1960010.0</td>\n",
       "      <td>CCN1C(=O)/C(=C2\\SC(=S)N(CCCOC)C2=O)c2ccccc21</td>\n",
       "      <td>1</td>\n",
       "    </tr>\n",
       "    <tr>\n",
       "      <th>1</th>\n",
       "      <td>644851.0</td>\n",
       "      <td>Clc1ccccc1-c1nc(-c2ccccc2)n[nH]1</td>\n",
       "      <td>1</td>\n",
       "    </tr>\n",
       "    <tr>\n",
       "      <th>2</th>\n",
       "      <td>644890.0</td>\n",
       "      <td>COc1ccccc1C(c1nnnn1C(C)(C)C)N1CCN(Cc2ccncc2)CC1</td>\n",
       "      <td>1</td>\n",
       "    </tr>\n",
       "    <tr>\n",
       "      <th>3</th>\n",
       "      <td>644968.0</td>\n",
       "      <td>COc1ccccc1CNC(=O)Cn1nnc(-c2ccncc2)n1</td>\n",
       "      <td>1</td>\n",
       "    </tr>\n",
       "    <tr>\n",
       "      <th>4</th>\n",
       "      <td>645164.0</td>\n",
       "      <td>CCC(c1nnnn1CC1CCCO1)N(CCN1CCOCC1)Cc1cc2cc(C)cc...</td>\n",
       "      <td>0</td>\n",
       "    </tr>\n",
       "    <tr>\n",
       "      <th>...</th>\n",
       "      <td>...</td>\n",
       "      <td>...</td>\n",
       "      <td>...</td>\n",
       "    </tr>\n",
       "    <tr>\n",
       "      <th>11929</th>\n",
       "      <td>16758814.0</td>\n",
       "      <td>CCN1C(=O)[C@@H]2[C@@H](CC[C@@H]3C(=O)C=C[C@@H]...</td>\n",
       "      <td>0</td>\n",
       "    </tr>\n",
       "    <tr>\n",
       "      <th>11930</th>\n",
       "      <td>16758815.0</td>\n",
       "      <td>C=CC1=C[C@@H](O)[C@@H]2O[C@@H]2C12OCCCO2</td>\n",
       "      <td>0</td>\n",
       "    </tr>\n",
       "    <tr>\n",
       "      <th>11931</th>\n",
       "      <td>16758816.0</td>\n",
       "      <td>O=C1[C@H]2CC=C3[C@@H]([C@H](O)[C@H]4O[C@@H]4C3...</td>\n",
       "      <td>0</td>\n",
       "    </tr>\n",
       "    <tr>\n",
       "      <th>11932</th>\n",
       "      <td>16758818.0</td>\n",
       "      <td>C[C@H](c1ccccc1)N1C(=O)[C@@H]2[C@@H](CC[C@@H]3...</td>\n",
       "      <td>0</td>\n",
       "    </tr>\n",
       "    <tr>\n",
       "      <th>11933</th>\n",
       "      <td>10847630.0</td>\n",
       "      <td>COC(=O)NC/C=C\\c1nc(CCCO)co1</td>\n",
       "      <td>0</td>\n",
       "    </tr>\n",
       "  </tbody>\n",
       "</table>\n",
       "<p>11934 rows × 3 columns</p>\n",
       "</div>"
      ],
      "text/plain": [
       "              ids                                             smiles  Y\n",
       "0       1960010.0       CCN1C(=O)/C(=C2\\SC(=S)N(CCCOC)C2=O)c2ccccc21  1\n",
       "1        644851.0                   Clc1ccccc1-c1nc(-c2ccccc2)n[nH]1  1\n",
       "2        644890.0    COc1ccccc1C(c1nnnn1C(C)(C)C)N1CCN(Cc2ccncc2)CC1  1\n",
       "3        644968.0               COc1ccccc1CNC(=O)Cn1nnc(-c2ccncc2)n1  1\n",
       "4        645164.0  CCC(c1nnnn1CC1CCCO1)N(CCN1CCOCC1)Cc1cc2cc(C)cc...  0\n",
       "...           ...                                                ... ..\n",
       "11929  16758814.0  CCN1C(=O)[C@@H]2[C@@H](CC[C@@H]3C(=O)C=C[C@@H]...  0\n",
       "11930  16758815.0           C=CC1=C[C@@H](O)[C@@H]2O[C@@H]2C12OCCCO2  0\n",
       "11931  16758816.0  O=C1[C@H]2CC=C3[C@@H]([C@H](O)[C@H]4O[C@@H]4C3...  0\n",
       "11932  16758818.0  C[C@H](c1ccccc1)N1C(=O)[C@@H]2[C@@H](CC[C@@H]3...  0\n",
       "11933  10847630.0                        COC(=O)NC/C=C\\c1nc(CCCO)co1  0\n",
       "\n",
       "[11934 rows x 3 columns]"
      ]
     },
     "execution_count": 199,
     "metadata": {},
     "output_type": "execute_result"
    }
   ],
   "source": [
    "df_cyp2c9"
   ]
  },
  {
   "cell_type": "code",
   "execution_count": 200,
   "metadata": {},
   "outputs": [
    {
     "data": {
      "text/html": [
       "<div>\n",
       "<style scoped>\n",
       "    .dataframe tbody tr th:only-of-type {\n",
       "        vertical-align: middle;\n",
       "    }\n",
       "\n",
       "    .dataframe tbody tr th {\n",
       "        vertical-align: top;\n",
       "    }\n",
       "\n",
       "    .dataframe thead th {\n",
       "        text-align: right;\n",
       "    }\n",
       "</style>\n",
       "<table border=\"1\" class=\"dataframe\">\n",
       "  <thead>\n",
       "    <tr style=\"text-align: right;\">\n",
       "      <th></th>\n",
       "      <th>MaxEStateIndex</th>\n",
       "      <th>MinEStateIndex</th>\n",
       "      <th>MaxAbsEStateIndex</th>\n",
       "      <th>MinAbsEStateIndex</th>\n",
       "      <th>qed</th>\n",
       "      <th>MolWt</th>\n",
       "      <th>HeavyAtomMolWt</th>\n",
       "      <th>ExactMolWt</th>\n",
       "      <th>NumValenceElectrons</th>\n",
       "      <th>NumRadicalElectrons</th>\n",
       "      <th>...</th>\n",
       "      <th>fr_sulfide</th>\n",
       "      <th>fr_sulfonamd</th>\n",
       "      <th>fr_sulfone</th>\n",
       "      <th>fr_term_acetylene</th>\n",
       "      <th>fr_tetrazole</th>\n",
       "      <th>fr_thiazole</th>\n",
       "      <th>fr_thiocyan</th>\n",
       "      <th>fr_thiophene</th>\n",
       "      <th>fr_unbrch_alkane</th>\n",
       "      <th>fr_urea</th>\n",
       "    </tr>\n",
       "  </thead>\n",
       "  <tbody>\n",
       "    <tr>\n",
       "      <th>0</th>\n",
       "      <td>12.820479</td>\n",
       "      <td>-0.183140</td>\n",
       "      <td>12.820479</td>\n",
       "      <td>0.128619</td>\n",
       "      <td>0.457873</td>\n",
       "      <td>362.476</td>\n",
       "      <td>344.332</td>\n",
       "      <td>362.07590</td>\n",
       "      <td>126.0</td>\n",
       "      <td>0.0</td>\n",
       "      <td>...</td>\n",
       "      <td>1.0</td>\n",
       "      <td>0.0</td>\n",
       "      <td>0.0</td>\n",
       "      <td>0.0</td>\n",
       "      <td>0.0</td>\n",
       "      <td>0.0</td>\n",
       "      <td>0.0</td>\n",
       "      <td>0.0</td>\n",
       "      <td>1.0</td>\n",
       "      <td>0.0</td>\n",
       "    </tr>\n",
       "    <tr>\n",
       "      <th>1</th>\n",
       "      <td>6.126257</td>\n",
       "      <td>0.660427</td>\n",
       "      <td>6.126257</td>\n",
       "      <td>0.660427</td>\n",
       "      <td>0.756902</td>\n",
       "      <td>255.708</td>\n",
       "      <td>245.628</td>\n",
       "      <td>255.05632</td>\n",
       "      <td>88.0</td>\n",
       "      <td>0.0</td>\n",
       "      <td>...</td>\n",
       "      <td>0.0</td>\n",
       "      <td>0.0</td>\n",
       "      <td>0.0</td>\n",
       "      <td>0.0</td>\n",
       "      <td>0.0</td>\n",
       "      <td>0.0</td>\n",
       "      <td>0.0</td>\n",
       "      <td>0.0</td>\n",
       "      <td>0.0</td>\n",
       "      <td>0.0</td>\n",
       "    </tr>\n",
       "    <tr>\n",
       "      <th>2</th>\n",
       "      <td>5.719940</td>\n",
       "      <td>-0.219974</td>\n",
       "      <td>5.719940</td>\n",
       "      <td>0.075509</td>\n",
       "      <td>0.605920</td>\n",
       "      <td>421.549</td>\n",
       "      <td>390.301</td>\n",
       "      <td>421.25900</td>\n",
       "      <td>164.0</td>\n",
       "      <td>0.0</td>\n",
       "      <td>...</td>\n",
       "      <td>0.0</td>\n",
       "      <td>0.0</td>\n",
       "      <td>0.0</td>\n",
       "      <td>0.0</td>\n",
       "      <td>1.0</td>\n",
       "      <td>0.0</td>\n",
       "      <td>0.0</td>\n",
       "      <td>0.0</td>\n",
       "      <td>0.0</td>\n",
       "      <td>0.0</td>\n",
       "    </tr>\n",
       "    <tr>\n",
       "      <th>3</th>\n",
       "      <td>12.040634</td>\n",
       "      <td>-0.208718</td>\n",
       "      <td>12.040634</td>\n",
       "      <td>0.006714</td>\n",
       "      <td>0.728361</td>\n",
       "      <td>324.344</td>\n",
       "      <td>308.216</td>\n",
       "      <td>324.13348</td>\n",
       "      <td>122.0</td>\n",
       "      <td>0.0</td>\n",
       "      <td>...</td>\n",
       "      <td>0.0</td>\n",
       "      <td>0.0</td>\n",
       "      <td>0.0</td>\n",
       "      <td>0.0</td>\n",
       "      <td>1.0</td>\n",
       "      <td>0.0</td>\n",
       "      <td>0.0</td>\n",
       "      <td>0.0</td>\n",
       "      <td>0.0</td>\n",
       "      <td>0.0</td>\n",
       "    </tr>\n",
       "    <tr>\n",
       "      <th>4</th>\n",
       "      <td>13.082813</td>\n",
       "      <td>-0.044883</td>\n",
       "      <td>13.082813</td>\n",
       "      <td>0.018472</td>\n",
       "      <td>0.457249</td>\n",
       "      <td>495.628</td>\n",
       "      <td>458.332</td>\n",
       "      <td>495.29578</td>\n",
       "      <td>194.0</td>\n",
       "      <td>0.0</td>\n",
       "      <td>...</td>\n",
       "      <td>0.0</td>\n",
       "      <td>0.0</td>\n",
       "      <td>0.0</td>\n",
       "      <td>0.0</td>\n",
       "      <td>1.0</td>\n",
       "      <td>0.0</td>\n",
       "      <td>0.0</td>\n",
       "      <td>0.0</td>\n",
       "      <td>0.0</td>\n",
       "      <td>0.0</td>\n",
       "    </tr>\n",
       "    <tr>\n",
       "      <th>...</th>\n",
       "      <td>...</td>\n",
       "      <td>...</td>\n",
       "      <td>...</td>\n",
       "      <td>...</td>\n",
       "      <td>...</td>\n",
       "      <td>...</td>\n",
       "      <td>...</td>\n",
       "      <td>...</td>\n",
       "      <td>...</td>\n",
       "      <td>...</td>\n",
       "      <td>...</td>\n",
       "      <td>...</td>\n",
       "      <td>...</td>\n",
       "      <td>...</td>\n",
       "      <td>...</td>\n",
       "      <td>...</td>\n",
       "      <td>...</td>\n",
       "      <td>...</td>\n",
       "      <td>...</td>\n",
       "      <td>...</td>\n",
       "      <td>...</td>\n",
       "    </tr>\n",
       "    <tr>\n",
       "      <th>11929</th>\n",
       "      <td>12.346902</td>\n",
       "      <td>-0.801800</td>\n",
       "      <td>12.346902</td>\n",
       "      <td>0.024123</td>\n",
       "      <td>0.682518</td>\n",
       "      <td>263.293</td>\n",
       "      <td>246.157</td>\n",
       "      <td>263.11575</td>\n",
       "      <td>102.0</td>\n",
       "      <td>0.0</td>\n",
       "      <td>...</td>\n",
       "      <td>0.0</td>\n",
       "      <td>0.0</td>\n",
       "      <td>0.0</td>\n",
       "      <td>0.0</td>\n",
       "      <td>0.0</td>\n",
       "      <td>0.0</td>\n",
       "      <td>0.0</td>\n",
       "      <td>0.0</td>\n",
       "      <td>0.0</td>\n",
       "      <td>0.0</td>\n",
       "    </tr>\n",
       "    <tr>\n",
       "      <th>11930</th>\n",
       "      <td>9.674588</td>\n",
       "      <td>-0.801690</td>\n",
       "      <td>9.674588</td>\n",
       "      <td>0.174259</td>\n",
       "      <td>0.635371</td>\n",
       "      <td>210.229</td>\n",
       "      <td>196.117</td>\n",
       "      <td>210.08920</td>\n",
       "      <td>82.0</td>\n",
       "      <td>0.0</td>\n",
       "      <td>...</td>\n",
       "      <td>0.0</td>\n",
       "      <td>0.0</td>\n",
       "      <td>0.0</td>\n",
       "      <td>0.0</td>\n",
       "      <td>0.0</td>\n",
       "      <td>0.0</td>\n",
       "      <td>0.0</td>\n",
       "      <td>0.0</td>\n",
       "      <td>0.0</td>\n",
       "      <td>0.0</td>\n",
       "    </tr>\n",
       "    <tr>\n",
       "      <th>11931</th>\n",
       "      <td>13.390758</td>\n",
       "      <td>-1.019880</td>\n",
       "      <td>13.390758</td>\n",
       "      <td>0.162294</td>\n",
       "      <td>0.455270</td>\n",
       "      <td>397.427</td>\n",
       "      <td>374.243</td>\n",
       "      <td>397.15253</td>\n",
       "      <td>152.0</td>\n",
       "      <td>0.0</td>\n",
       "      <td>...</td>\n",
       "      <td>0.0</td>\n",
       "      <td>0.0</td>\n",
       "      <td>0.0</td>\n",
       "      <td>0.0</td>\n",
       "      <td>0.0</td>\n",
       "      <td>0.0</td>\n",
       "      <td>0.0</td>\n",
       "      <td>0.0</td>\n",
       "      <td>0.0</td>\n",
       "      <td>0.0</td>\n",
       "    </tr>\n",
       "    <tr>\n",
       "      <th>11932</th>\n",
       "      <td>13.179767</td>\n",
       "      <td>-1.161112</td>\n",
       "      <td>13.179767</td>\n",
       "      <td>0.077392</td>\n",
       "      <td>0.772281</td>\n",
       "      <td>357.406</td>\n",
       "      <td>334.222</td>\n",
       "      <td>357.15762</td>\n",
       "      <td>138.0</td>\n",
       "      <td>0.0</td>\n",
       "      <td>...</td>\n",
       "      <td>0.0</td>\n",
       "      <td>0.0</td>\n",
       "      <td>0.0</td>\n",
       "      <td>0.0</td>\n",
       "      <td>0.0</td>\n",
       "      <td>0.0</td>\n",
       "      <td>0.0</td>\n",
       "      <td>0.0</td>\n",
       "      <td>0.0</td>\n",
       "      <td>0.0</td>\n",
       "    </tr>\n",
       "    <tr>\n",
       "      <th>11933</th>\n",
       "      <td>10.715530</td>\n",
       "      <td>-0.480844</td>\n",
       "      <td>10.715530</td>\n",
       "      <td>0.139962</td>\n",
       "      <td>0.773508</td>\n",
       "      <td>240.259</td>\n",
       "      <td>224.131</td>\n",
       "      <td>240.11101</td>\n",
       "      <td>94.0</td>\n",
       "      <td>0.0</td>\n",
       "      <td>...</td>\n",
       "      <td>0.0</td>\n",
       "      <td>0.0</td>\n",
       "      <td>0.0</td>\n",
       "      <td>0.0</td>\n",
       "      <td>0.0</td>\n",
       "      <td>0.0</td>\n",
       "      <td>0.0</td>\n",
       "      <td>0.0</td>\n",
       "      <td>0.0</td>\n",
       "      <td>0.0</td>\n",
       "    </tr>\n",
       "  </tbody>\n",
       "</table>\n",
       "<p>11934 rows × 208 columns</p>\n",
       "</div>"
      ],
      "text/plain": [
       "       MaxEStateIndex  MinEStateIndex  MaxAbsEStateIndex  MinAbsEStateIndex  \\\n",
       "0           12.820479       -0.183140          12.820479           0.128619   \n",
       "1            6.126257        0.660427           6.126257           0.660427   \n",
       "2            5.719940       -0.219974           5.719940           0.075509   \n",
       "3           12.040634       -0.208718          12.040634           0.006714   \n",
       "4           13.082813       -0.044883          13.082813           0.018472   \n",
       "...               ...             ...                ...                ...   \n",
       "11929       12.346902       -0.801800          12.346902           0.024123   \n",
       "11930        9.674588       -0.801690           9.674588           0.174259   \n",
       "11931       13.390758       -1.019880          13.390758           0.162294   \n",
       "11932       13.179767       -1.161112          13.179767           0.077392   \n",
       "11933       10.715530       -0.480844          10.715530           0.139962   \n",
       "\n",
       "            qed    MolWt  HeavyAtomMolWt  ExactMolWt  NumValenceElectrons  \\\n",
       "0      0.457873  362.476         344.332   362.07590                126.0   \n",
       "1      0.756902  255.708         245.628   255.05632                 88.0   \n",
       "2      0.605920  421.549         390.301   421.25900                164.0   \n",
       "3      0.728361  324.344         308.216   324.13348                122.0   \n",
       "4      0.457249  495.628         458.332   495.29578                194.0   \n",
       "...         ...      ...             ...         ...                  ...   \n",
       "11929  0.682518  263.293         246.157   263.11575                102.0   \n",
       "11930  0.635371  210.229         196.117   210.08920                 82.0   \n",
       "11931  0.455270  397.427         374.243   397.15253                152.0   \n",
       "11932  0.772281  357.406         334.222   357.15762                138.0   \n",
       "11933  0.773508  240.259         224.131   240.11101                 94.0   \n",
       "\n",
       "       NumRadicalElectrons  ...  fr_sulfide  fr_sulfonamd  fr_sulfone  \\\n",
       "0                      0.0  ...         1.0           0.0         0.0   \n",
       "1                      0.0  ...         0.0           0.0         0.0   \n",
       "2                      0.0  ...         0.0           0.0         0.0   \n",
       "3                      0.0  ...         0.0           0.0         0.0   \n",
       "4                      0.0  ...         0.0           0.0         0.0   \n",
       "...                    ...  ...         ...           ...         ...   \n",
       "11929                  0.0  ...         0.0           0.0         0.0   \n",
       "11930                  0.0  ...         0.0           0.0         0.0   \n",
       "11931                  0.0  ...         0.0           0.0         0.0   \n",
       "11932                  0.0  ...         0.0           0.0         0.0   \n",
       "11933                  0.0  ...         0.0           0.0         0.0   \n",
       "\n",
       "       fr_term_acetylene  fr_tetrazole  fr_thiazole  fr_thiocyan  \\\n",
       "0                    0.0           0.0          0.0          0.0   \n",
       "1                    0.0           0.0          0.0          0.0   \n",
       "2                    0.0           1.0          0.0          0.0   \n",
       "3                    0.0           1.0          0.0          0.0   \n",
       "4                    0.0           1.0          0.0          0.0   \n",
       "...                  ...           ...          ...          ...   \n",
       "11929                0.0           0.0          0.0          0.0   \n",
       "11930                0.0           0.0          0.0          0.0   \n",
       "11931                0.0           0.0          0.0          0.0   \n",
       "11932                0.0           0.0          0.0          0.0   \n",
       "11933                0.0           0.0          0.0          0.0   \n",
       "\n",
       "       fr_thiophene  fr_unbrch_alkane  fr_urea  \n",
       "0               0.0               1.0      0.0  \n",
       "1               0.0               0.0      0.0  \n",
       "2               0.0               0.0      0.0  \n",
       "3               0.0               0.0      0.0  \n",
       "4               0.0               0.0      0.0  \n",
       "...             ...               ...      ...  \n",
       "11929           0.0               0.0      0.0  \n",
       "11930           0.0               0.0      0.0  \n",
       "11931           0.0               0.0      0.0  \n",
       "11932           0.0               0.0      0.0  \n",
       "11933           0.0               0.0      0.0  \n",
       "\n",
       "[11934 rows x 208 columns]"
      ]
     },
     "execution_count": 200,
     "metadata": {},
     "output_type": "execute_result"
    }
   ],
   "source": [
    "df_features\n"
   ]
  },
  {
   "attachments": {},
   "cell_type": "markdown",
   "metadata": {},
   "source": [
    "#### 1.1 - Concatenção dos dataframes"
   ]
  },
  {
   "cell_type": "code",
   "execution_count": 201,
   "metadata": {},
   "outputs": [
    {
     "data": {
      "text/html": [
       "<div>\n",
       "<style scoped>\n",
       "    .dataframe tbody tr th:only-of-type {\n",
       "        vertical-align: middle;\n",
       "    }\n",
       "\n",
       "    .dataframe tbody tr th {\n",
       "        vertical-align: top;\n",
       "    }\n",
       "\n",
       "    .dataframe thead th {\n",
       "        text-align: right;\n",
       "    }\n",
       "</style>\n",
       "<table border=\"1\" class=\"dataframe\">\n",
       "  <thead>\n",
       "    <tr style=\"text-align: right;\">\n",
       "      <th></th>\n",
       "      <th>ids</th>\n",
       "      <th>smiles</th>\n",
       "      <th>Y</th>\n",
       "      <th>MaxEStateIndex</th>\n",
       "      <th>MinEStateIndex</th>\n",
       "      <th>MaxAbsEStateIndex</th>\n",
       "      <th>MinAbsEStateIndex</th>\n",
       "      <th>qed</th>\n",
       "      <th>MolWt</th>\n",
       "      <th>HeavyAtomMolWt</th>\n",
       "      <th>...</th>\n",
       "      <th>fr_sulfide</th>\n",
       "      <th>fr_sulfonamd</th>\n",
       "      <th>fr_sulfone</th>\n",
       "      <th>fr_term_acetylene</th>\n",
       "      <th>fr_tetrazole</th>\n",
       "      <th>fr_thiazole</th>\n",
       "      <th>fr_thiocyan</th>\n",
       "      <th>fr_thiophene</th>\n",
       "      <th>fr_unbrch_alkane</th>\n",
       "      <th>fr_urea</th>\n",
       "    </tr>\n",
       "  </thead>\n",
       "  <tbody>\n",
       "    <tr>\n",
       "      <th>0</th>\n",
       "      <td>1960010.0</td>\n",
       "      <td>CCN1C(=O)/C(=C2\\SC(=S)N(CCCOC)C2=O)c2ccccc21</td>\n",
       "      <td>1</td>\n",
       "      <td>12.820479</td>\n",
       "      <td>-0.183140</td>\n",
       "      <td>12.820479</td>\n",
       "      <td>0.128619</td>\n",
       "      <td>0.457873</td>\n",
       "      <td>362.476</td>\n",
       "      <td>344.332</td>\n",
       "      <td>...</td>\n",
       "      <td>1.0</td>\n",
       "      <td>0.0</td>\n",
       "      <td>0.0</td>\n",
       "      <td>0.0</td>\n",
       "      <td>0.0</td>\n",
       "      <td>0.0</td>\n",
       "      <td>0.0</td>\n",
       "      <td>0.0</td>\n",
       "      <td>1.0</td>\n",
       "      <td>0.0</td>\n",
       "    </tr>\n",
       "    <tr>\n",
       "      <th>1</th>\n",
       "      <td>644851.0</td>\n",
       "      <td>Clc1ccccc1-c1nc(-c2ccccc2)n[nH]1</td>\n",
       "      <td>1</td>\n",
       "      <td>6.126257</td>\n",
       "      <td>0.660427</td>\n",
       "      <td>6.126257</td>\n",
       "      <td>0.660427</td>\n",
       "      <td>0.756902</td>\n",
       "      <td>255.708</td>\n",
       "      <td>245.628</td>\n",
       "      <td>...</td>\n",
       "      <td>0.0</td>\n",
       "      <td>0.0</td>\n",
       "      <td>0.0</td>\n",
       "      <td>0.0</td>\n",
       "      <td>0.0</td>\n",
       "      <td>0.0</td>\n",
       "      <td>0.0</td>\n",
       "      <td>0.0</td>\n",
       "      <td>0.0</td>\n",
       "      <td>0.0</td>\n",
       "    </tr>\n",
       "    <tr>\n",
       "      <th>2</th>\n",
       "      <td>644890.0</td>\n",
       "      <td>COc1ccccc1C(c1nnnn1C(C)(C)C)N1CCN(Cc2ccncc2)CC1</td>\n",
       "      <td>1</td>\n",
       "      <td>5.719940</td>\n",
       "      <td>-0.219974</td>\n",
       "      <td>5.719940</td>\n",
       "      <td>0.075509</td>\n",
       "      <td>0.605920</td>\n",
       "      <td>421.549</td>\n",
       "      <td>390.301</td>\n",
       "      <td>...</td>\n",
       "      <td>0.0</td>\n",
       "      <td>0.0</td>\n",
       "      <td>0.0</td>\n",
       "      <td>0.0</td>\n",
       "      <td>1.0</td>\n",
       "      <td>0.0</td>\n",
       "      <td>0.0</td>\n",
       "      <td>0.0</td>\n",
       "      <td>0.0</td>\n",
       "      <td>0.0</td>\n",
       "    </tr>\n",
       "    <tr>\n",
       "      <th>3</th>\n",
       "      <td>644968.0</td>\n",
       "      <td>COc1ccccc1CNC(=O)Cn1nnc(-c2ccncc2)n1</td>\n",
       "      <td>1</td>\n",
       "      <td>12.040634</td>\n",
       "      <td>-0.208718</td>\n",
       "      <td>12.040634</td>\n",
       "      <td>0.006714</td>\n",
       "      <td>0.728361</td>\n",
       "      <td>324.344</td>\n",
       "      <td>308.216</td>\n",
       "      <td>...</td>\n",
       "      <td>0.0</td>\n",
       "      <td>0.0</td>\n",
       "      <td>0.0</td>\n",
       "      <td>0.0</td>\n",
       "      <td>1.0</td>\n",
       "      <td>0.0</td>\n",
       "      <td>0.0</td>\n",
       "      <td>0.0</td>\n",
       "      <td>0.0</td>\n",
       "      <td>0.0</td>\n",
       "    </tr>\n",
       "    <tr>\n",
       "      <th>4</th>\n",
       "      <td>645164.0</td>\n",
       "      <td>CCC(c1nnnn1CC1CCCO1)N(CCN1CCOCC1)Cc1cc2cc(C)cc...</td>\n",
       "      <td>0</td>\n",
       "      <td>13.082813</td>\n",
       "      <td>-0.044883</td>\n",
       "      <td>13.082813</td>\n",
       "      <td>0.018472</td>\n",
       "      <td>0.457249</td>\n",
       "      <td>495.628</td>\n",
       "      <td>458.332</td>\n",
       "      <td>...</td>\n",
       "      <td>0.0</td>\n",
       "      <td>0.0</td>\n",
       "      <td>0.0</td>\n",
       "      <td>0.0</td>\n",
       "      <td>1.0</td>\n",
       "      <td>0.0</td>\n",
       "      <td>0.0</td>\n",
       "      <td>0.0</td>\n",
       "      <td>0.0</td>\n",
       "      <td>0.0</td>\n",
       "    </tr>\n",
       "    <tr>\n",
       "      <th>...</th>\n",
       "      <td>...</td>\n",
       "      <td>...</td>\n",
       "      <td>...</td>\n",
       "      <td>...</td>\n",
       "      <td>...</td>\n",
       "      <td>...</td>\n",
       "      <td>...</td>\n",
       "      <td>...</td>\n",
       "      <td>...</td>\n",
       "      <td>...</td>\n",
       "      <td>...</td>\n",
       "      <td>...</td>\n",
       "      <td>...</td>\n",
       "      <td>...</td>\n",
       "      <td>...</td>\n",
       "      <td>...</td>\n",
       "      <td>...</td>\n",
       "      <td>...</td>\n",
       "      <td>...</td>\n",
       "      <td>...</td>\n",
       "      <td>...</td>\n",
       "    </tr>\n",
       "    <tr>\n",
       "      <th>11929</th>\n",
       "      <td>16758814.0</td>\n",
       "      <td>CCN1C(=O)[C@@H]2[C@@H](CC[C@@H]3C(=O)C=C[C@@H]...</td>\n",
       "      <td>0</td>\n",
       "      <td>12.346902</td>\n",
       "      <td>-0.801800</td>\n",
       "      <td>12.346902</td>\n",
       "      <td>0.024123</td>\n",
       "      <td>0.682518</td>\n",
       "      <td>263.293</td>\n",
       "      <td>246.157</td>\n",
       "      <td>...</td>\n",
       "      <td>0.0</td>\n",
       "      <td>0.0</td>\n",
       "      <td>0.0</td>\n",
       "      <td>0.0</td>\n",
       "      <td>0.0</td>\n",
       "      <td>0.0</td>\n",
       "      <td>0.0</td>\n",
       "      <td>0.0</td>\n",
       "      <td>0.0</td>\n",
       "      <td>0.0</td>\n",
       "    </tr>\n",
       "    <tr>\n",
       "      <th>11930</th>\n",
       "      <td>16758815.0</td>\n",
       "      <td>C=CC1=C[C@@H](O)[C@@H]2O[C@@H]2C12OCCCO2</td>\n",
       "      <td>0</td>\n",
       "      <td>9.674588</td>\n",
       "      <td>-0.801690</td>\n",
       "      <td>9.674588</td>\n",
       "      <td>0.174259</td>\n",
       "      <td>0.635371</td>\n",
       "      <td>210.229</td>\n",
       "      <td>196.117</td>\n",
       "      <td>...</td>\n",
       "      <td>0.0</td>\n",
       "      <td>0.0</td>\n",
       "      <td>0.0</td>\n",
       "      <td>0.0</td>\n",
       "      <td>0.0</td>\n",
       "      <td>0.0</td>\n",
       "      <td>0.0</td>\n",
       "      <td>0.0</td>\n",
       "      <td>0.0</td>\n",
       "      <td>0.0</td>\n",
       "    </tr>\n",
       "    <tr>\n",
       "      <th>11931</th>\n",
       "      <td>16758816.0</td>\n",
       "      <td>O=C1[C@H]2CC=C3[C@@H]([C@H](O)[C@H]4O[C@@H]4C3...</td>\n",
       "      <td>0</td>\n",
       "      <td>13.390758</td>\n",
       "      <td>-1.019880</td>\n",
       "      <td>13.390758</td>\n",
       "      <td>0.162294</td>\n",
       "      <td>0.455270</td>\n",
       "      <td>397.427</td>\n",
       "      <td>374.243</td>\n",
       "      <td>...</td>\n",
       "      <td>0.0</td>\n",
       "      <td>0.0</td>\n",
       "      <td>0.0</td>\n",
       "      <td>0.0</td>\n",
       "      <td>0.0</td>\n",
       "      <td>0.0</td>\n",
       "      <td>0.0</td>\n",
       "      <td>0.0</td>\n",
       "      <td>0.0</td>\n",
       "      <td>0.0</td>\n",
       "    </tr>\n",
       "    <tr>\n",
       "      <th>11932</th>\n",
       "      <td>16758818.0</td>\n",
       "      <td>C[C@H](c1ccccc1)N1C(=O)[C@@H]2[C@@H](CC[C@@H]3...</td>\n",
       "      <td>0</td>\n",
       "      <td>13.179767</td>\n",
       "      <td>-1.161112</td>\n",
       "      <td>13.179767</td>\n",
       "      <td>0.077392</td>\n",
       "      <td>0.772281</td>\n",
       "      <td>357.406</td>\n",
       "      <td>334.222</td>\n",
       "      <td>...</td>\n",
       "      <td>0.0</td>\n",
       "      <td>0.0</td>\n",
       "      <td>0.0</td>\n",
       "      <td>0.0</td>\n",
       "      <td>0.0</td>\n",
       "      <td>0.0</td>\n",
       "      <td>0.0</td>\n",
       "      <td>0.0</td>\n",
       "      <td>0.0</td>\n",
       "      <td>0.0</td>\n",
       "    </tr>\n",
       "    <tr>\n",
       "      <th>11933</th>\n",
       "      <td>10847630.0</td>\n",
       "      <td>COC(=O)NC/C=C\\c1nc(CCCO)co1</td>\n",
       "      <td>0</td>\n",
       "      <td>10.715530</td>\n",
       "      <td>-0.480844</td>\n",
       "      <td>10.715530</td>\n",
       "      <td>0.139962</td>\n",
       "      <td>0.773508</td>\n",
       "      <td>240.259</td>\n",
       "      <td>224.131</td>\n",
       "      <td>...</td>\n",
       "      <td>0.0</td>\n",
       "      <td>0.0</td>\n",
       "      <td>0.0</td>\n",
       "      <td>0.0</td>\n",
       "      <td>0.0</td>\n",
       "      <td>0.0</td>\n",
       "      <td>0.0</td>\n",
       "      <td>0.0</td>\n",
       "      <td>0.0</td>\n",
       "      <td>0.0</td>\n",
       "    </tr>\n",
       "  </tbody>\n",
       "</table>\n",
       "<p>11934 rows × 211 columns</p>\n",
       "</div>"
      ],
      "text/plain": [
       "              ids                                             smiles  Y  \\\n",
       "0       1960010.0       CCN1C(=O)/C(=C2\\SC(=S)N(CCCOC)C2=O)c2ccccc21  1   \n",
       "1        644851.0                   Clc1ccccc1-c1nc(-c2ccccc2)n[nH]1  1   \n",
       "2        644890.0    COc1ccccc1C(c1nnnn1C(C)(C)C)N1CCN(Cc2ccncc2)CC1  1   \n",
       "3        644968.0               COc1ccccc1CNC(=O)Cn1nnc(-c2ccncc2)n1  1   \n",
       "4        645164.0  CCC(c1nnnn1CC1CCCO1)N(CCN1CCOCC1)Cc1cc2cc(C)cc...  0   \n",
       "...           ...                                                ... ..   \n",
       "11929  16758814.0  CCN1C(=O)[C@@H]2[C@@H](CC[C@@H]3C(=O)C=C[C@@H]...  0   \n",
       "11930  16758815.0           C=CC1=C[C@@H](O)[C@@H]2O[C@@H]2C12OCCCO2  0   \n",
       "11931  16758816.0  O=C1[C@H]2CC=C3[C@@H]([C@H](O)[C@H]4O[C@@H]4C3...  0   \n",
       "11932  16758818.0  C[C@H](c1ccccc1)N1C(=O)[C@@H]2[C@@H](CC[C@@H]3...  0   \n",
       "11933  10847630.0                        COC(=O)NC/C=C\\c1nc(CCCO)co1  0   \n",
       "\n",
       "       MaxEStateIndex  MinEStateIndex  MaxAbsEStateIndex  MinAbsEStateIndex  \\\n",
       "0           12.820479       -0.183140          12.820479           0.128619   \n",
       "1            6.126257        0.660427           6.126257           0.660427   \n",
       "2            5.719940       -0.219974           5.719940           0.075509   \n",
       "3           12.040634       -0.208718          12.040634           0.006714   \n",
       "4           13.082813       -0.044883          13.082813           0.018472   \n",
       "...               ...             ...                ...                ...   \n",
       "11929       12.346902       -0.801800          12.346902           0.024123   \n",
       "11930        9.674588       -0.801690           9.674588           0.174259   \n",
       "11931       13.390758       -1.019880          13.390758           0.162294   \n",
       "11932       13.179767       -1.161112          13.179767           0.077392   \n",
       "11933       10.715530       -0.480844          10.715530           0.139962   \n",
       "\n",
       "            qed    MolWt  HeavyAtomMolWt  ...  fr_sulfide  fr_sulfonamd  \\\n",
       "0      0.457873  362.476         344.332  ...         1.0           0.0   \n",
       "1      0.756902  255.708         245.628  ...         0.0           0.0   \n",
       "2      0.605920  421.549         390.301  ...         0.0           0.0   \n",
       "3      0.728361  324.344         308.216  ...         0.0           0.0   \n",
       "4      0.457249  495.628         458.332  ...         0.0           0.0   \n",
       "...         ...      ...             ...  ...         ...           ...   \n",
       "11929  0.682518  263.293         246.157  ...         0.0           0.0   \n",
       "11930  0.635371  210.229         196.117  ...         0.0           0.0   \n",
       "11931  0.455270  397.427         374.243  ...         0.0           0.0   \n",
       "11932  0.772281  357.406         334.222  ...         0.0           0.0   \n",
       "11933  0.773508  240.259         224.131  ...         0.0           0.0   \n",
       "\n",
       "       fr_sulfone  fr_term_acetylene  fr_tetrazole  fr_thiazole  fr_thiocyan  \\\n",
       "0             0.0                0.0           0.0          0.0          0.0   \n",
       "1             0.0                0.0           0.0          0.0          0.0   \n",
       "2             0.0                0.0           1.0          0.0          0.0   \n",
       "3             0.0                0.0           1.0          0.0          0.0   \n",
       "4             0.0                0.0           1.0          0.0          0.0   \n",
       "...           ...                ...           ...          ...          ...   \n",
       "11929         0.0                0.0           0.0          0.0          0.0   \n",
       "11930         0.0                0.0           0.0          0.0          0.0   \n",
       "11931         0.0                0.0           0.0          0.0          0.0   \n",
       "11932         0.0                0.0           0.0          0.0          0.0   \n",
       "11933         0.0                0.0           0.0          0.0          0.0   \n",
       "\n",
       "       fr_thiophene  fr_unbrch_alkane  fr_urea  \n",
       "0               0.0               1.0      0.0  \n",
       "1               0.0               0.0      0.0  \n",
       "2               0.0               0.0      0.0  \n",
       "3               0.0               0.0      0.0  \n",
       "4               0.0               0.0      0.0  \n",
       "...             ...               ...      ...  \n",
       "11929           0.0               0.0      0.0  \n",
       "11930           0.0               0.0      0.0  \n",
       "11931           0.0               0.0      0.0  \n",
       "11932           0.0               0.0      0.0  \n",
       "11933           0.0               0.0      0.0  \n",
       "\n",
       "[11934 rows x 211 columns]"
      ]
     },
     "execution_count": 201,
     "metadata": {},
     "output_type": "execute_result"
    }
   ],
   "source": [
    "df = pd.concat([df_cyp2c9, df_features], axis=1)\n",
    "df"
   ]
  },
  {
   "attachments": {},
   "cell_type": "markdown",
   "metadata": {},
   "source": [
    "## 2. Informações sobre os  dados:"
   ]
  },
  {
   "attachments": {},
   "cell_type": "markdown",
   "metadata": {},
   "source": [
    "### 2.1. Análise Descritiva:\n",
    "\n",
    "O conjunto de dados a ser analisados representa uma coleção de compostos químicos, cada um representado por um ID único, uma string SMILES (uma representação compacta da estrutura molecular) e várias propriedades e características da molécula. Essas propriedades incluem descritores numéricos da estrutura molecular, como MaxEStateIndex, MinEStateIndex, MaxAbsEStateIndex e MinAbsEStateIndex, bem como a presença ou ausência de várias subestruturas moleculares, como fr_sulfide, fr_sulfonamd e fr_sulfone. A coluna Y é uma variável binária que indica se a molécula inibe (valor 1) ou não (valor 0) a enzima cyp2c9 ."
   ]
  },
  {
   "attachments": {},
   "cell_type": "markdown",
   "metadata": {},
   "source": [
    "2.1.1 - Análise dos metadados"
   ]
  },
  {
   "cell_type": "code",
   "execution_count": 202,
   "metadata": {},
   "outputs": [
    {
     "name": "stdout",
     "output_type": "stream",
     "text": [
      "Dimensões: (11934, 3)\n"
     ]
    }
   ],
   "source": [
    "# Ver as dimensões do DataFrame\n",
    "\n",
    "print(\"Dimensões:\", df_cyp2c9.shape)"
   ]
  },
  {
   "cell_type": "code",
   "execution_count": 203,
   "metadata": {},
   "outputs": [
    {
     "name": "stdout",
     "output_type": "stream",
     "text": [
      "         ids                                             smiles  Y\n",
      "0  1960010.0       CCN1C(=O)/C(=C2\\SC(=S)N(CCCOC)C2=O)c2ccccc21  1\n",
      "1   644851.0                   Clc1ccccc1-c1nc(-c2ccccc2)n[nH]1  1\n",
      "2   644890.0    COc1ccccc1C(c1nnnn1C(C)(C)C)N1CCN(Cc2ccncc2)CC1  1\n",
      "3   644968.0               COc1ccccc1CNC(=O)Cn1nnc(-c2ccncc2)n1  1\n",
      "4   645164.0  CCC(c1nnnn1CC1CCCO1)N(CCN1CCOCC1)Cc1cc2cc(C)cc...  0\n"
     ]
    }
   ],
   "source": [
    "# Ver as primeiras linhas do DataFrame\n",
    "\n",
    "print(df_cyp2c9.head())"
   ]
  },
  {
   "cell_type": "code",
   "execution_count": 204,
   "metadata": {},
   "outputs": [
    {
     "name": "stdout",
     "output_type": "stream",
     "text": [
      "ids       float64\n",
      "smiles     object\n",
      "Y           int64\n",
      "dtype: object\n"
     ]
    }
   ],
   "source": [
    "# Ver os tipos de dados de cada coluna\n",
    "\n",
    "print(df_cyp2c9.dtypes)"
   ]
  },
  {
   "cell_type": "code",
   "execution_count": 205,
   "metadata": {},
   "outputs": [
    {
     "name": "stdout",
     "output_type": "stream",
     "text": [
      "ids       11934\n",
      "smiles    11934\n",
      "Y             2\n",
      "dtype: int64\n"
     ]
    }
   ],
   "source": [
    "# Ver o número de valores únicos em cada coluna\n",
    "\n",
    "print(df_cyp2c9.nunique())"
   ]
  },
  {
   "cell_type": "code",
   "execution_count": 206,
   "metadata": {},
   "outputs": [
    {
     "data": {
      "text/plain": [
       "ids       0\n",
       "smiles    0\n",
       "Y         0\n",
       "dtype: int64"
      ]
     },
     "execution_count": 206,
     "metadata": {},
     "output_type": "execute_result"
    }
   ],
   "source": [
    "# Ver a quantidade de valores ausentes em cada coluna\n",
    "\n",
    "df_cyp2c9.isnull().sum()\n",
    "\n"
   ]
  },
  {
   "attachments": {},
   "cell_type": "markdown",
   "metadata": {},
   "source": [
    "\n",
    "- Vimos também que não há valores omissos nem valores duplicados no dataframe  \" df_cyp2c9 \" pelo que este tipo de pré-processamento pode ser ultrapassado."
   ]
  },
  {
   "attachments": {},
   "cell_type": "markdown",
   "metadata": {},
   "source": [
    "2.1.2 - Análise do dados:"
   ]
  },
  {
   "cell_type": "code",
   "execution_count": 207,
   "metadata": {},
   "outputs": [
    {
     "name": "stdout",
     "output_type": "stream",
     "text": [
      "Dimensões:  (11934, 208)\n"
     ]
    }
   ],
   "source": [
    "# Ver as dimensões do DataFrame\n",
    "print(\"Dimensões: \", df_features.shape)"
   ]
  },
  {
   "cell_type": "code",
   "execution_count": 208,
   "metadata": {},
   "outputs": [
    {
     "name": "stdout",
     "output_type": "stream",
     "text": [
      "   MaxEStateIndex  MinEStateIndex  MaxAbsEStateIndex  MinAbsEStateIndex  \\\n",
      "0       12.820479       -0.183140          12.820479           0.128619   \n",
      "1        6.126257        0.660427           6.126257           0.660427   \n",
      "2        5.719940       -0.219974           5.719940           0.075509   \n",
      "3       12.040634       -0.208718          12.040634           0.006714   \n",
      "4       13.082813       -0.044883          13.082813           0.018472   \n",
      "\n",
      "        qed    MolWt  HeavyAtomMolWt  ExactMolWt  NumValenceElectrons  \\\n",
      "0  0.457873  362.476         344.332   362.07590                126.0   \n",
      "1  0.756902  255.708         245.628   255.05632                 88.0   \n",
      "2  0.605920  421.549         390.301   421.25900                164.0   \n",
      "3  0.728361  324.344         308.216   324.13348                122.0   \n",
      "4  0.457249  495.628         458.332   495.29578                194.0   \n",
      "\n",
      "   NumRadicalElectrons  ...  fr_sulfide  fr_sulfonamd  fr_sulfone  \\\n",
      "0                  0.0  ...         1.0           0.0         0.0   \n",
      "1                  0.0  ...         0.0           0.0         0.0   \n",
      "2                  0.0  ...         0.0           0.0         0.0   \n",
      "3                  0.0  ...         0.0           0.0         0.0   \n",
      "4                  0.0  ...         0.0           0.0         0.0   \n",
      "\n",
      "   fr_term_acetylene  fr_tetrazole  fr_thiazole  fr_thiocyan  fr_thiophene  \\\n",
      "0                0.0           0.0          0.0          0.0           0.0   \n",
      "1                0.0           0.0          0.0          0.0           0.0   \n",
      "2                0.0           1.0          0.0          0.0           0.0   \n",
      "3                0.0           1.0          0.0          0.0           0.0   \n",
      "4                0.0           1.0          0.0          0.0           0.0   \n",
      "\n",
      "   fr_unbrch_alkane  fr_urea  \n",
      "0               1.0      0.0  \n",
      "1               0.0      0.0  \n",
      "2               0.0      0.0  \n",
      "3               0.0      0.0  \n",
      "4               0.0      0.0  \n",
      "\n",
      "[5 rows x 208 columns]\n"
     ]
    }
   ],
   "source": [
    "# Ver as primeiras linhas do DataFrame\n",
    "print(df_features.head())"
   ]
  },
  {
   "cell_type": "code",
   "execution_count": 209,
   "metadata": {},
   "outputs": [
    {
     "name": "stdout",
     "output_type": "stream",
     "text": [
      "MaxEStateIndex       float64\n",
      "MinEStateIndex       float64\n",
      "MaxAbsEStateIndex    float64\n",
      "MinAbsEStateIndex    float64\n",
      "qed                  float64\n",
      "                      ...   \n",
      "fr_thiazole          float64\n",
      "fr_thiocyan          float64\n",
      "fr_thiophene         float64\n",
      "fr_unbrch_alkane     float64\n",
      "fr_urea              float64\n",
      "Length: 208, dtype: object\n"
     ]
    }
   ],
   "source": [
    "# Ver os tipos de dados de cada coluna\n",
    "print(df_features.dtypes)"
   ]
  },
  {
   "cell_type": "code",
   "execution_count": 210,
   "metadata": {},
   "outputs": [
    {
     "name": "stdout",
     "output_type": "stream",
     "text": [
      "MaxEStateIndex       11574\n",
      "MinEStateIndex       11439\n",
      "MaxAbsEStateIndex    11574\n",
      "MinAbsEStateIndex    11304\n",
      "qed                  10876\n",
      "                     ...  \n",
      "fr_thiazole              4\n",
      "fr_thiocyan              2\n",
      "fr_thiophene             3\n",
      "fr_unbrch_alkane        20\n",
      "fr_urea                  5\n",
      "Length: 208, dtype: int64\n"
     ]
    }
   ],
   "source": [
    "# Ver o número de valores únicos em cada coluna\n",
    "print(df_features.nunique())"
   ]
  },
  {
   "cell_type": "code",
   "execution_count": 211,
   "metadata": {},
   "outputs": [
    {
     "name": "stdout",
     "output_type": "stream",
     "text": [
      "MaxEStateIndex       0\n",
      "MinEStateIndex       0\n",
      "MaxAbsEStateIndex    0\n",
      "MinAbsEStateIndex    0\n",
      "qed                  0\n",
      "                    ..\n",
      "fr_thiazole          0\n",
      "fr_thiocyan          0\n",
      "fr_thiophene         0\n",
      "fr_unbrch_alkane     0\n",
      "fr_urea              0\n",
      "Length: 208, dtype: int64\n"
     ]
    }
   ],
   "source": [
    "# Ver a quantidade de valores ausentes em cada coluna\n",
    "print(df_features.isnull().sum())"
   ]
  },
  {
   "attachments": {},
   "cell_type": "markdown",
   "metadata": {},
   "source": [
    "### Descrição das Features"
   ]
  },
  {
   "attachments": {},
   "cell_type": "markdown",
   "metadata": {},
   "source": [
    "Nas colunas do dataframe features estão representadas algumas propriedades dos compostos químicos que são avaliadas neste tipo de estudo, onde se pretende demonstrar se um composto tem capacidade de inibição de um certo gene.\n",
    "\n",
    "A escolha das propriedades a ser analisadas vai ser baseada na sua possível importância biológica. \n",
    "\n",
    "As propriedades a ser analisadas são:\n",
    "\n",
    "- BertzCT : Representa a complexidade estrutural.\n",
    "\n",
    "- MaxAbsEStateIndex :  Pode ser usado para identificar o átomo mais doador ou retirador de eletrões no composto, o que pode ser importante para entender a reatividade ou atividade biológica do composto.\n",
    "\n",
    "- MinAbsEStateIndex : Pode ser usado para identificar o átomo menos doador ou retirador de eletrões no composto, o que pode ser importante para entender a reatividade ou atividade biológica do composto.\n",
    "\n",
    "- qed :  Estima de forma quantitativa a drug-likeness. Varia de 0 a 1, com pontuações mais altas indicando uma maior probabilidade de o composto ser oralmente biodisponível e ter propriedades farmacológicas desejáveis.\n",
    "\n",
    "- MolWt : MolWt é um descritor que representa o peso molecular de um composto. \n",
    "\n",
    "- NumValenceElectrons : Número de elétrões de valência\n",
    "\n",
    "- FpDensityMorgan3 : Grau de semelhança entre moleculas diferentes no nível 3, sendo usado para prever as suas propriedades, tais como solubilidade, toxicidade e atividade contra um alvo específico.\n"
   ]
  },
  {
   "cell_type": "code",
   "execution_count": 212,
   "metadata": {},
   "outputs": [
    {
     "data": {
      "text/plain": [
       "0         745.10614\n",
       "1         661.56570\n",
       "2         974.84500\n",
       "3         818.19965\n",
       "4        1197.71120\n",
       "            ...    \n",
       "11929     483.83765\n",
       "11930     316.54962\n",
       "11931     891.82336\n",
       "11932     747.82825\n",
       "11933     373.30325\n",
       "Name: BertzCT, Length: 11934, dtype: float64"
      ]
     },
     "execution_count": 212,
     "metadata": {},
     "output_type": "execute_result"
    }
   ],
   "source": [
    "df[\"BertzCT\"]"
   ]
  },
  {
   "cell_type": "code",
   "execution_count": 213,
   "metadata": {},
   "outputs": [
    {
     "name": "stdout",
     "output_type": "stream",
     "text": [
      "ids\n",
      "smiles\n",
      "Y\n",
      "MaxEStateIndex\n",
      "MinEStateIndex\n",
      "MaxAbsEStateIndex\n",
      "MinAbsEStateIndex\n",
      "qed\n",
      "MolWt\n",
      "HeavyAtomMolWt\n",
      "ExactMolWt\n",
      "NumValenceElectrons\n",
      "NumRadicalElectrons\n",
      "MaxPartialCharge\n",
      "MinPartialCharge\n",
      "MaxAbsPartialCharge\n",
      "MinAbsPartialCharge\n",
      "FpDensityMorgan1\n",
      "FpDensityMorgan2\n",
      "FpDensityMorgan3\n",
      "BCUT2D_MWHI\n",
      "BCUT2D_MWLOW\n",
      "BCUT2D_CHGHI\n",
      "BCUT2D_CHGLO\n",
      "BCUT2D_LOGPHI\n",
      "BCUT2D_LOGPLOW\n",
      "BCUT2D_MRHI\n",
      "BCUT2D_MRLOW\n",
      "BalabanJ\n",
      "BertzCT\n",
      "Chi0\n",
      "Chi0n\n",
      "Chi0v\n",
      "Chi1\n",
      "Chi1n\n",
      "Chi1v\n",
      "Chi2n\n",
      "Chi2v\n",
      "Chi3n\n",
      "Chi3v\n",
      "Chi4n\n",
      "Chi4v\n",
      "HallKierAlpha\n",
      "Ipc\n",
      "Kappa1\n",
      "Kappa2\n",
      "Kappa3\n",
      "LabuteASA\n",
      "PEOE_VSA1\n",
      "PEOE_VSA10\n",
      "PEOE_VSA11\n",
      "PEOE_VSA12\n",
      "PEOE_VSA13\n",
      "PEOE_VSA14\n",
      "PEOE_VSA2\n",
      "PEOE_VSA3\n",
      "PEOE_VSA4\n",
      "PEOE_VSA5\n",
      "PEOE_VSA6\n",
      "PEOE_VSA7\n",
      "PEOE_VSA8\n",
      "PEOE_VSA9\n",
      "SMR_VSA1\n",
      "SMR_VSA10\n",
      "SMR_VSA2\n",
      "SMR_VSA3\n",
      "SMR_VSA4\n",
      "SMR_VSA5\n",
      "SMR_VSA6\n",
      "SMR_VSA7\n",
      "SMR_VSA8\n",
      "SMR_VSA9\n",
      "SlogP_VSA1\n",
      "SlogP_VSA10\n",
      "SlogP_VSA11\n",
      "SlogP_VSA12\n",
      "SlogP_VSA2\n",
      "SlogP_VSA3\n",
      "SlogP_VSA4\n",
      "SlogP_VSA5\n",
      "SlogP_VSA6\n",
      "SlogP_VSA7\n",
      "SlogP_VSA8\n",
      "SlogP_VSA9\n",
      "TPSA\n",
      "EState_VSA1\n",
      "EState_VSA10\n",
      "EState_VSA11\n",
      "EState_VSA2\n",
      "EState_VSA3\n",
      "EState_VSA4\n",
      "EState_VSA5\n",
      "EState_VSA6\n",
      "EState_VSA7\n",
      "EState_VSA8\n",
      "EState_VSA9\n",
      "VSA_EState1\n",
      "VSA_EState10\n",
      "VSA_EState2\n",
      "VSA_EState3\n",
      "VSA_EState4\n",
      "VSA_EState5\n",
      "VSA_EState6\n",
      "VSA_EState7\n",
      "VSA_EState8\n",
      "VSA_EState9\n",
      "FractionCSP3\n",
      "HeavyAtomCount\n",
      "NHOHCount\n",
      "NOCount\n",
      "NumAliphaticCarbocycles\n",
      "NumAliphaticHeterocycles\n",
      "NumAliphaticRings\n",
      "NumAromaticCarbocycles\n",
      "NumAromaticHeterocycles\n",
      "NumAromaticRings\n",
      "NumHAcceptors\n",
      "NumHDonors\n",
      "NumHeteroatoms\n",
      "NumRotatableBonds\n",
      "NumSaturatedCarbocycles\n",
      "NumSaturatedHeterocycles\n",
      "NumSaturatedRings\n",
      "RingCount\n",
      "MolLogP\n",
      "MolMR\n",
      "fr_Al_COO\n",
      "fr_Al_OH\n",
      "fr_Al_OH_noTert\n",
      "fr_ArN\n",
      "fr_Ar_COO\n",
      "fr_Ar_N\n",
      "fr_Ar_NH\n",
      "fr_Ar_OH\n",
      "fr_COO\n",
      "fr_COO2\n",
      "fr_C_O\n",
      "fr_C_O_noCOO\n",
      "fr_C_S\n",
      "fr_HOCCN\n",
      "fr_Imine\n",
      "fr_NH0\n",
      "fr_NH1\n",
      "fr_NH2\n",
      "fr_N_O\n",
      "fr_Ndealkylation1\n",
      "fr_Ndealkylation2\n",
      "fr_Nhpyrrole\n",
      "fr_SH\n",
      "fr_aldehyde\n",
      "fr_alkyl_carbamate\n",
      "fr_alkyl_halide\n",
      "fr_allylic_oxid\n",
      "fr_amide\n",
      "fr_amidine\n",
      "fr_aniline\n",
      "fr_aryl_methyl\n",
      "fr_azide\n",
      "fr_azo\n",
      "fr_barbitur\n",
      "fr_benzene\n",
      "fr_benzodiazepine\n",
      "fr_bicyclic\n",
      "fr_diazo\n",
      "fr_dihydropyridine\n",
      "fr_epoxide\n",
      "fr_ester\n",
      "fr_ether\n",
      "fr_furan\n",
      "fr_guanido\n",
      "fr_halogen\n",
      "fr_hdrzine\n",
      "fr_hdrzone\n",
      "fr_imidazole\n",
      "fr_imide\n",
      "fr_isocyan\n",
      "fr_isothiocyan\n",
      "fr_ketone\n",
      "fr_ketone_Topliss\n",
      "fr_lactam\n",
      "fr_lactone\n",
      "fr_methoxy\n",
      "fr_morpholine\n",
      "fr_nitrile\n",
      "fr_nitro\n",
      "fr_nitro_arom\n",
      "fr_nitro_arom_nonortho\n",
      "fr_nitroso\n",
      "fr_oxazole\n",
      "fr_oxime\n",
      "fr_para_hydroxylation\n",
      "fr_phenol\n",
      "fr_phenol_noOrthoHbond\n",
      "fr_phos_acid\n",
      "fr_phos_ester\n",
      "fr_piperdine\n",
      "fr_piperzine\n",
      "fr_priamide\n",
      "fr_prisulfonamd\n",
      "fr_pyridine\n",
      "fr_quatN\n",
      "fr_sulfide\n",
      "fr_sulfonamd\n",
      "fr_sulfone\n",
      "fr_term_acetylene\n",
      "fr_tetrazole\n",
      "fr_thiazole\n",
      "fr_thiocyan\n",
      "fr_thiophene\n",
      "fr_unbrch_alkane\n",
      "fr_urea\n"
     ]
    }
   ],
   "source": [
    "for x in df:\n",
    "    print(x)"
   ]
  },
  {
   "attachments": {},
   "cell_type": "markdown",
   "metadata": {},
   "source": [
    "# 3. Pré - processamento\n",
    "\n",
    "\n",
    "\n",
    "- Algumas tarefas de pré-processamento que podem ser necessárias incluem:\n",
    "\n",
    "- Remoção de valores duplicados\n",
    "- Tratamento de valores ausentes\n",
    "- Conversão de tipos de dados\n",
    "- Normalização de dados\n",
    "- Remoção de colunas irrelevantes"
   ]
  },
  {
   "attachments": {},
   "cell_type": "markdown",
   "metadata": {},
   "source": [
    "##### - Neste caso, não há necessidade de realizar nenhum pré-processamento nos dados, visto que não há valores omissos nem duplicados. No entanto, para a análise estatística univariada e multivariada, é necessário separar os dados em grupos, um para os compostos que inibem a enzima CYP2C9 e outro para os que não inibem."
   ]
  },
  {
   "attachments": {},
   "cell_type": "markdown",
   "metadata": {},
   "source": [
    "###  3.1 - Criação e Divisão em dataframes dos compostos que inibiam e não inibiam o CYP2C9"
   ]
  },
  {
   "cell_type": "code",
   "execution_count": 214,
   "metadata": {},
   "outputs": [],
   "source": [
    "df_cyp2c9_y_1 = df_cyp2c9[df_cyp2c9['Y'] == 1]\n",
    "df_cyp2c9_y_0 = df_cyp2c9[df_cyp2c9[\"Y\"] == 0]"
   ]
  },
  {
   "attachments": {},
   "cell_type": "markdown",
   "metadata": {},
   "source": [
    "# 4 - Sumarização dos dados\n",
    "\n",
    "\n",
    "### 4.1 - Estatística Descritiva"
   ]
  },
  {
   "cell_type": "code",
   "execution_count": 215,
   "metadata": {},
   "outputs": [
    {
     "name": "stdout",
     "output_type": "stream",
     "text": [
      "<class 'pandas.core.frame.DataFrame'>\n",
      "RangeIndex: 11934 entries, 0 to 11933\n",
      "Data columns (total 3 columns):\n",
      " #   Column  Non-Null Count  Dtype  \n",
      "---  ------  --------------  -----  \n",
      " 0   ids     11934 non-null  float64\n",
      " 1   smiles  11934 non-null  object \n",
      " 2   Y       11934 non-null  int64  \n",
      "dtypes: float64(1), int64(1), object(1)\n",
      "memory usage: 279.8+ KB\n"
     ]
    }
   ],
   "source": [
    "df_cyp2c9.info()"
   ]
  },
  {
   "cell_type": "code",
   "execution_count": 216,
   "metadata": {},
   "outputs": [
    {
     "data": {
      "text/html": [
       "<div>\n",
       "<style scoped>\n",
       "    .dataframe tbody tr th:only-of-type {\n",
       "        vertical-align: middle;\n",
       "    }\n",
       "\n",
       "    .dataframe tbody tr th {\n",
       "        vertical-align: top;\n",
       "    }\n",
       "\n",
       "    .dataframe thead th {\n",
       "        text-align: right;\n",
       "    }\n",
       "</style>\n",
       "<table border=\"1\" class=\"dataframe\">\n",
       "  <thead>\n",
       "    <tr style=\"text-align: right;\">\n",
       "      <th></th>\n",
       "      <th>MaxEStateIndex</th>\n",
       "      <th>MinEStateIndex</th>\n",
       "      <th>MaxAbsEStateIndex</th>\n",
       "      <th>MinAbsEStateIndex</th>\n",
       "      <th>qed</th>\n",
       "      <th>MolWt</th>\n",
       "      <th>HeavyAtomMolWt</th>\n",
       "      <th>ExactMolWt</th>\n",
       "      <th>NumValenceElectrons</th>\n",
       "      <th>NumRadicalElectrons</th>\n",
       "      <th>...</th>\n",
       "      <th>fr_sulfide</th>\n",
       "      <th>fr_sulfonamd</th>\n",
       "      <th>fr_sulfone</th>\n",
       "      <th>fr_term_acetylene</th>\n",
       "      <th>fr_tetrazole</th>\n",
       "      <th>fr_thiazole</th>\n",
       "      <th>fr_thiocyan</th>\n",
       "      <th>fr_thiophene</th>\n",
       "      <th>fr_unbrch_alkane</th>\n",
       "      <th>fr_urea</th>\n",
       "    </tr>\n",
       "  </thead>\n",
       "  <tbody>\n",
       "    <tr>\n",
       "      <th>count</th>\n",
       "      <td>11934.000000</td>\n",
       "      <td>11934.000000</td>\n",
       "      <td>11934.000000</td>\n",
       "      <td>11934.000000</td>\n",
       "      <td>11934.000000</td>\n",
       "      <td>11934.000000</td>\n",
       "      <td>11934.000000</td>\n",
       "      <td>11934.000000</td>\n",
       "      <td>11934.000000</td>\n",
       "      <td>11934.0</td>\n",
       "      <td>...</td>\n",
       "      <td>11934.000000</td>\n",
       "      <td>11934.000000</td>\n",
       "      <td>11934.000000</td>\n",
       "      <td>11934.000000</td>\n",
       "      <td>11934.000000</td>\n",
       "      <td>11934.000000</td>\n",
       "      <td>11934.000000</td>\n",
       "      <td>11934.000000</td>\n",
       "      <td>11934.000000</td>\n",
       "      <td>11934.000000</td>\n",
       "    </tr>\n",
       "    <tr>\n",
       "      <th>mean</th>\n",
       "      <td>11.274808</td>\n",
       "      <td>-0.879382</td>\n",
       "      <td>11.274808</td>\n",
       "      <td>0.192623</td>\n",
       "      <td>0.611521</td>\n",
       "      <td>355.016700</td>\n",
       "      <td>334.581007</td>\n",
       "      <td>354.626917</td>\n",
       "      <td>131.051114</td>\n",
       "      <td>0.0</td>\n",
       "      <td>...</td>\n",
       "      <td>0.101894</td>\n",
       "      <td>0.073571</td>\n",
       "      <td>0.011061</td>\n",
       "      <td>0.004190</td>\n",
       "      <td>0.009804</td>\n",
       "      <td>0.032261</td>\n",
       "      <td>0.000168</td>\n",
       "      <td>0.062929</td>\n",
       "      <td>0.127786</td>\n",
       "      <td>0.044076</td>\n",
       "    </tr>\n",
       "    <tr>\n",
       "      <th>std</th>\n",
       "      <td>2.689638</td>\n",
       "      <td>1.442954</td>\n",
       "      <td>2.689638</td>\n",
       "      <td>0.224866</td>\n",
       "      <td>0.191307</td>\n",
       "      <td>108.988404</td>\n",
       "      <td>103.017461</td>\n",
       "      <td>108.873587</td>\n",
       "      <td>40.828041</td>\n",
       "      <td>0.0</td>\n",
       "      <td>...</td>\n",
       "      <td>0.325473</td>\n",
       "      <td>0.271160</td>\n",
       "      <td>0.104592</td>\n",
       "      <td>0.064595</td>\n",
       "      <td>0.101878</td>\n",
       "      <td>0.189071</td>\n",
       "      <td>0.012945</td>\n",
       "      <td>0.250991</td>\n",
       "      <td>0.774506</td>\n",
       "      <td>0.213281</td>\n",
       "    </tr>\n",
       "    <tr>\n",
       "      <th>min</th>\n",
       "      <td>2.269884</td>\n",
       "      <td>-7.603764</td>\n",
       "      <td>2.269884</td>\n",
       "      <td>0.000000</td>\n",
       "      <td>0.021258</td>\n",
       "      <td>33.030000</td>\n",
       "      <td>30.006000</td>\n",
       "      <td>33.021465</td>\n",
       "      <td>14.000000</td>\n",
       "      <td>0.0</td>\n",
       "      <td>...</td>\n",
       "      <td>0.000000</td>\n",
       "      <td>0.000000</td>\n",
       "      <td>0.000000</td>\n",
       "      <td>0.000000</td>\n",
       "      <td>0.000000</td>\n",
       "      <td>0.000000</td>\n",
       "      <td>0.000000</td>\n",
       "      <td>0.000000</td>\n",
       "      <td>0.000000</td>\n",
       "      <td>0.000000</td>\n",
       "    </tr>\n",
       "    <tr>\n",
       "      <th>25%</th>\n",
       "      <td>10.896393</td>\n",
       "      <td>-1.063285</td>\n",
       "      <td>10.896393</td>\n",
       "      <td>0.043124</td>\n",
       "      <td>0.481696</td>\n",
       "      <td>289.292000</td>\n",
       "      <td>272.175000</td>\n",
       "      <td>289.024430</td>\n",
       "      <td>106.000000</td>\n",
       "      <td>0.0</td>\n",
       "      <td>...</td>\n",
       "      <td>0.000000</td>\n",
       "      <td>0.000000</td>\n",
       "      <td>0.000000</td>\n",
       "      <td>0.000000</td>\n",
       "      <td>0.000000</td>\n",
       "      <td>0.000000</td>\n",
       "      <td>0.000000</td>\n",
       "      <td>0.000000</td>\n",
       "      <td>0.000000</td>\n",
       "      <td>0.000000</td>\n",
       "    </tr>\n",
       "    <tr>\n",
       "      <th>50%</th>\n",
       "      <td>12.242406</td>\n",
       "      <td>-0.402087</td>\n",
       "      <td>12.242406</td>\n",
       "      <td>0.116725</td>\n",
       "      <td>0.632182</td>\n",
       "      <td>347.435000</td>\n",
       "      <td>327.159000</td>\n",
       "      <td>347.133635</td>\n",
       "      <td>128.000000</td>\n",
       "      <td>0.0</td>\n",
       "      <td>...</td>\n",
       "      <td>0.000000</td>\n",
       "      <td>0.000000</td>\n",
       "      <td>0.000000</td>\n",
       "      <td>0.000000</td>\n",
       "      <td>0.000000</td>\n",
       "      <td>0.000000</td>\n",
       "      <td>0.000000</td>\n",
       "      <td>0.000000</td>\n",
       "      <td>0.000000</td>\n",
       "      <td>0.000000</td>\n",
       "    </tr>\n",
       "    <tr>\n",
       "      <th>75%</th>\n",
       "      <td>12.924319</td>\n",
       "      <td>-0.062750</td>\n",
       "      <td>12.924319</td>\n",
       "      <td>0.237865</td>\n",
       "      <td>0.772312</td>\n",
       "      <td>409.507250</td>\n",
       "      <td>386.231750</td>\n",
       "      <td>409.140095</td>\n",
       "      <td>152.000000</td>\n",
       "      <td>0.0</td>\n",
       "      <td>...</td>\n",
       "      <td>0.000000</td>\n",
       "      <td>0.000000</td>\n",
       "      <td>0.000000</td>\n",
       "      <td>0.000000</td>\n",
       "      <td>0.000000</td>\n",
       "      <td>0.000000</td>\n",
       "      <td>0.000000</td>\n",
       "      <td>0.000000</td>\n",
       "      <td>0.000000</td>\n",
       "      <td>0.000000</td>\n",
       "    </tr>\n",
       "    <tr>\n",
       "      <th>max</th>\n",
       "      <td>17.398045</td>\n",
       "      <td>3.500000</td>\n",
       "      <td>17.398045</td>\n",
       "      <td>3.811700</td>\n",
       "      <td>0.947210</td>\n",
       "      <td>1664.922000</td>\n",
       "      <td>1579.242000</td>\n",
       "      <td>1663.492300</td>\n",
       "      <td>606.000000</td>\n",
       "      <td>0.0</td>\n",
       "      <td>...</td>\n",
       "      <td>4.000000</td>\n",
       "      <td>3.000000</td>\n",
       "      <td>1.000000</td>\n",
       "      <td>1.000000</td>\n",
       "      <td>2.000000</td>\n",
       "      <td>4.000000</td>\n",
       "      <td>1.000000</td>\n",
       "      <td>2.000000</td>\n",
       "      <td>26.000000</td>\n",
       "      <td>4.000000</td>\n",
       "    </tr>\n",
       "  </tbody>\n",
       "</table>\n",
       "<p>8 rows × 208 columns</p>\n",
       "</div>"
      ],
      "text/plain": [
       "       MaxEStateIndex  MinEStateIndex  MaxAbsEStateIndex  MinAbsEStateIndex  \\\n",
       "count    11934.000000    11934.000000       11934.000000       11934.000000   \n",
       "mean        11.274808       -0.879382          11.274808           0.192623   \n",
       "std          2.689638        1.442954           2.689638           0.224866   \n",
       "min          2.269884       -7.603764           2.269884           0.000000   \n",
       "25%         10.896393       -1.063285          10.896393           0.043124   \n",
       "50%         12.242406       -0.402087          12.242406           0.116725   \n",
       "75%         12.924319       -0.062750          12.924319           0.237865   \n",
       "max         17.398045        3.500000          17.398045           3.811700   \n",
       "\n",
       "                qed         MolWt  HeavyAtomMolWt    ExactMolWt  \\\n",
       "count  11934.000000  11934.000000    11934.000000  11934.000000   \n",
       "mean       0.611521    355.016700      334.581007    354.626917   \n",
       "std        0.191307    108.988404      103.017461    108.873587   \n",
       "min        0.021258     33.030000       30.006000     33.021465   \n",
       "25%        0.481696    289.292000      272.175000    289.024430   \n",
       "50%        0.632182    347.435000      327.159000    347.133635   \n",
       "75%        0.772312    409.507250      386.231750    409.140095   \n",
       "max        0.947210   1664.922000     1579.242000   1663.492300   \n",
       "\n",
       "       NumValenceElectrons  NumRadicalElectrons  ...    fr_sulfide  \\\n",
       "count         11934.000000              11934.0  ...  11934.000000   \n",
       "mean            131.051114                  0.0  ...      0.101894   \n",
       "std              40.828041                  0.0  ...      0.325473   \n",
       "min              14.000000                  0.0  ...      0.000000   \n",
       "25%             106.000000                  0.0  ...      0.000000   \n",
       "50%             128.000000                  0.0  ...      0.000000   \n",
       "75%             152.000000                  0.0  ...      0.000000   \n",
       "max             606.000000                  0.0  ...      4.000000   \n",
       "\n",
       "       fr_sulfonamd    fr_sulfone  fr_term_acetylene  fr_tetrazole  \\\n",
       "count  11934.000000  11934.000000       11934.000000  11934.000000   \n",
       "mean       0.073571      0.011061           0.004190      0.009804   \n",
       "std        0.271160      0.104592           0.064595      0.101878   \n",
       "min        0.000000      0.000000           0.000000      0.000000   \n",
       "25%        0.000000      0.000000           0.000000      0.000000   \n",
       "50%        0.000000      0.000000           0.000000      0.000000   \n",
       "75%        0.000000      0.000000           0.000000      0.000000   \n",
       "max        3.000000      1.000000           1.000000      2.000000   \n",
       "\n",
       "        fr_thiazole   fr_thiocyan  fr_thiophene  fr_unbrch_alkane  \\\n",
       "count  11934.000000  11934.000000  11934.000000      11934.000000   \n",
       "mean       0.032261      0.000168      0.062929          0.127786   \n",
       "std        0.189071      0.012945      0.250991          0.774506   \n",
       "min        0.000000      0.000000      0.000000          0.000000   \n",
       "25%        0.000000      0.000000      0.000000          0.000000   \n",
       "50%        0.000000      0.000000      0.000000          0.000000   \n",
       "75%        0.000000      0.000000      0.000000          0.000000   \n",
       "max        4.000000      1.000000      2.000000         26.000000   \n",
       "\n",
       "            fr_urea  \n",
       "count  11934.000000  \n",
       "mean       0.044076  \n",
       "std        0.213281  \n",
       "min        0.000000  \n",
       "25%        0.000000  \n",
       "50%        0.000000  \n",
       "75%        0.000000  \n",
       "max        4.000000  \n",
       "\n",
       "[8 rows x 208 columns]"
      ]
     },
     "execution_count": 216,
     "metadata": {},
     "output_type": "execute_result"
    }
   ],
   "source": [
    "df_features.describe()"
   ]
  },
  {
   "cell_type": "code",
   "execution_count": 217,
   "metadata": {},
   "outputs": [
    {
     "name": "stdout",
     "output_type": "stream",
     "text": [
      "<class 'pandas.core.frame.DataFrame'>\n",
      "RangeIndex: 11934 entries, 0 to 11933\n",
      "Columns: 208 entries, MaxEStateIndex to fr_urea\n",
      "dtypes: float64(208)\n",
      "memory usage: 18.9 MB\n"
     ]
    }
   ],
   "source": [
    "df_features.info()"
   ]
  },
  {
   "attachments": {},
   "cell_type": "markdown",
   "metadata": {},
   "source": [
    "### 4.2 - Apoio gráfico à Sumarização"
   ]
  },
  {
   "cell_type": "code",
   "execution_count": 218,
   "metadata": {},
   "outputs": [
    {
     "data": {
      "image/png": "[encoded data removed]",
      "text/plain": [
       "<Figure size 432x288 with 1 Axes>"
      ]
     },
     "metadata": {},
     "output_type": "display_data"
    }
   ],
   "source": [
    "counts = df_cyp2c9['Y'].value_counts()\n",
    "colours = sns.color_palette(\"pastel\")[0:2]\n",
    "plt.pie(counts.values, labels=counts.index, autopct='%1.1f%%', colors=colours)\n",
    "\n",
    "\n",
    "plt.title('Comportamento dos Compostos no CYP2C9')\n",
    "plt.legend([\"Não Inibem\",\"Inibem\"])\n",
    "plt.show()"
   ]
  },
  {
   "attachments": {},
   "cell_type": "markdown",
   "metadata": {},
   "source": [
    "**Conclusão** : Pelo gráfico conseguimos perceber que há mais compostos que não inibem a enzima cyp2c9 (66.3%) do que os que inibem (33.7%)"
   ]
  },
  {
   "attachments": {},
   "cell_type": "markdown",
   "metadata": {},
   "source": [
    "De seguida, apresentam-se gráficos para uma análise da distribuição das variáveis numéricas em estudo:"
   ]
  },
  {
   "cell_type": "code",
   "execution_count": 219,
   "metadata": {},
   "outputs": [
    {
     "ename": "KeyboardInterrupt",
     "evalue": "",
     "output_type": "error",
     "traceback": [
      "\u001b[1;31m---------------------------------------------------------------------------\u001b[0m",
      "\u001b[1;31mKeyboardInterrupt\u001b[0m                         Traceback (most recent call last)",
      "\u001b[1;32mc:\\Users\\luis-\\Documents\\GitHub\\Extra-o_Work\\Trabalho parte 2\\cyp2c9\\trabalho 2.ipynb Cell 43\u001b[0m in \u001b[0;36m<cell line: 2>\u001b[1;34m()\u001b[0m\n\u001b[0;32m      <a href='vscode-notebook-cell:/c%3A/Users/luis-/Documents/GitHub/Extra-o_Work/Trabalho%20parte%202/cyp2c9/trabalho%202.ipynb#Y635sZmlsZQ%3D%3D?line=0'>1</a>\u001b[0m l \u001b[39m=\u001b[39m [\u001b[39m\"\u001b[39m\u001b[39mMaxAbsEStateIndex\u001b[39m\u001b[39m\"\u001b[39m,\u001b[39m\"\u001b[39m\u001b[39mMinAbsEStateIndex\u001b[39m\u001b[39m\"\u001b[39m,\u001b[39m\"\u001b[39m\u001b[39mNumValenceElectrons\u001b[39m\u001b[39m\"\u001b[39m,\u001b[39m\"\u001b[39m\u001b[39mFpDensityMorgan3\u001b[39m\u001b[39m\"\u001b[39m,\u001b[39m\"\u001b[39m\u001b[39mFpDensityMorgan2\u001b[39m\u001b[39m\"\u001b[39m,\u001b[39m\"\u001b[39m\u001b[39mFpDensityMorgan1\u001b[39m\u001b[39m\"\u001b[39m,\u001b[39m\"\u001b[39m\u001b[39mMolWt\u001b[39m\u001b[39m\"\u001b[39m,\u001b[39m\"\u001b[39m\u001b[39mqed\u001b[39m\u001b[39m\"\u001b[39m,\u001b[39m\"\u001b[39m\u001b[39mBertzCT\u001b[39m\u001b[39m\"\u001b[39m]\n\u001b[0;32m      <a href='vscode-notebook-cell:/c%3A/Users/luis-/Documents/GitHub/Extra-o_Work/Trabalho%20parte%202/cyp2c9/trabalho%202.ipynb#Y635sZmlsZQ%3D%3D?line=1'>2</a>\u001b[0m \u001b[39mfor\u001b[39;00m col \u001b[39min\u001b[39;00m l:\n\u001b[1;32m----> <a href='vscode-notebook-cell:/c%3A/Users/luis-/Documents/GitHub/Extra-o_Work/Trabalho%20parte%202/cyp2c9/trabalho%202.ipynb#Y635sZmlsZQ%3D%3D?line=2'>3</a>\u001b[0m     sns\u001b[39m.\u001b[39;49mdisplot(df[col], kde\u001b[39m=\u001b[39;49m\u001b[39mTrue\u001b[39;49;00m)\n\u001b[0;32m      <a href='vscode-notebook-cell:/c%3A/Users/luis-/Documents/GitHub/Extra-o_Work/Trabalho%20parte%202/cyp2c9/trabalho%202.ipynb#Y635sZmlsZQ%3D%3D?line=3'>4</a>\u001b[0m     plt\u001b[39m.\u001b[39mshow()\n",
      "File \u001b[1;32mc:\\Users\\luis-\\anaconda3\\lib\\site-packages\\seaborn\\distributions.py:2274\u001b[0m, in \u001b[0;36mdisplot\u001b[1;34m(data, x, y, hue, row, col, weights, kind, rug, rug_kws, log_scale, legend, palette, hue_order, hue_norm, color, col_wrap, row_order, col_order, height, aspect, facet_kws, **kwargs)\u001b[0m\n\u001b[0;32m   2271\u001b[0m \u001b[39mif\u001b[39;00m p\u001b[39m.\u001b[39munivariate:\n\u001b[0;32m   2273\u001b[0m     _assign_default_kwargs(hist_kws, p\u001b[39m.\u001b[39mplot_univariate_histogram, histplot)\n\u001b[1;32m-> 2274\u001b[0m     p\u001b[39m.\u001b[39mplot_univariate_histogram(\u001b[39m*\u001b[39m\u001b[39m*\u001b[39mhist_kws)\n\u001b[0;32m   2276\u001b[0m \u001b[39melse\u001b[39;00m:\n\u001b[0;32m   2278\u001b[0m     _assign_default_kwargs(hist_kws, p\u001b[39m.\u001b[39mplot_bivariate_histogram, histplot)\n",
      "File \u001b[1;32mc:\\Users\\luis-\\anaconda3\\lib\\site-packages\\seaborn\\distributions.py:644\u001b[0m, in \u001b[0;36m_DistributionPlotter.plot_univariate_histogram\u001b[1;34m(self, multiple, element, fill, common_norm, common_bins, shrink, kde, kde_kws, color, legend, line_kws, estimate_kws, **plot_kws)\u001b[0m\n\u001b[0;32m    641\u001b[0m     sticky_x, sticky_y \u001b[39m=\u001b[39m (\u001b[39m0\u001b[39m, np\u001b[39m.\u001b[39minf), \u001b[39mNone\u001b[39;00m\n\u001b[0;32m    643\u001b[0m line_kws[\u001b[39m\"\u001b[39m\u001b[39mcolor\u001b[39m\u001b[39m\"\u001b[39m] \u001b[39m=\u001b[39m to_rgba(color, \u001b[39m1\u001b[39m)\n\u001b[1;32m--> 644\u001b[0m line, \u001b[39m=\u001b[39m ax\u001b[39m.\u001b[39mplot(\n\u001b[0;32m    645\u001b[0m     \u001b[39m*\u001b[39mline_args, \u001b[39m*\u001b[39m\u001b[39m*\u001b[39mline_kws,\n\u001b[0;32m    646\u001b[0m )\n\u001b[0;32m    648\u001b[0m \u001b[39mif\u001b[39;00m sticky_x \u001b[39mis\u001b[39;00m \u001b[39mnot\u001b[39;00m \u001b[39mNone\u001b[39;00m:\n\u001b[0;32m    649\u001b[0m     line\u001b[39m.\u001b[39msticky_edges\u001b[39m.\u001b[39mx[:] \u001b[39m=\u001b[39m sticky_x\n",
      "File \u001b[1;32mc:\\Users\\luis-\\anaconda3\\lib\\site-packages\\matplotlib\\axes\\_axes.py:1632\u001b[0m, in \u001b[0;36mAxes.plot\u001b[1;34m(self, scalex, scaley, data, *args, **kwargs)\u001b[0m\n\u001b[0;32m   1390\u001b[0m \u001b[39m\u001b[39m\u001b[39m\"\"\"\u001b[39;00m\n\u001b[0;32m   1391\u001b[0m \u001b[39mPlot y versus x as lines and/or markers.\u001b[39;00m\n\u001b[0;32m   1392\u001b[0m \n\u001b[1;32m   (...)\u001b[0m\n\u001b[0;32m   1629\u001b[0m \u001b[39m(``'green'``) or hex strings (``'#008000'``).\u001b[39;00m\n\u001b[0;32m   1630\u001b[0m \u001b[39m\"\"\"\u001b[39;00m\n\u001b[0;32m   1631\u001b[0m kwargs \u001b[39m=\u001b[39m cbook\u001b[39m.\u001b[39mnormalize_kwargs(kwargs, mlines\u001b[39m.\u001b[39mLine2D)\n\u001b[1;32m-> 1632\u001b[0m lines \u001b[39m=\u001b[39m [\u001b[39m*\u001b[39m\u001b[39mself\u001b[39m\u001b[39m.\u001b[39m_get_lines(\u001b[39m*\u001b[39margs, data\u001b[39m=\u001b[39mdata, \u001b[39m*\u001b[39m\u001b[39m*\u001b[39mkwargs)]\n\u001b[0;32m   1633\u001b[0m \u001b[39mfor\u001b[39;00m line \u001b[39min\u001b[39;00m lines:\n\u001b[0;32m   1634\u001b[0m     \u001b[39mself\u001b[39m\u001b[39m.\u001b[39madd_line(line)\n",
      "File \u001b[1;32mc:\\Users\\luis-\\anaconda3\\lib\\site-packages\\matplotlib\\axes\\_base.py:312\u001b[0m, in \u001b[0;36m_process_plot_var_args.__call__\u001b[1;34m(self, data, *args, **kwargs)\u001b[0m\n\u001b[0;32m    310\u001b[0m     this \u001b[39m+\u001b[39m\u001b[39m=\u001b[39m args[\u001b[39m0\u001b[39m],\n\u001b[0;32m    311\u001b[0m     args \u001b[39m=\u001b[39m args[\u001b[39m1\u001b[39m:]\n\u001b[1;32m--> 312\u001b[0m \u001b[39myield from\u001b[39;00m \u001b[39mself\u001b[39;49m\u001b[39m.\u001b[39;49m_plot_args(this, kwargs)\n",
      "File \u001b[1;32mc:\\Users\\luis-\\anaconda3\\lib\\site-packages\\matplotlib\\axes\\_base.py:488\u001b[0m, in \u001b[0;36m_process_plot_var_args._plot_args\u001b[1;34m(self, tup, kwargs, return_kwargs)\u001b[0m\n\u001b[0;32m    486\u001b[0m \u001b[39mif\u001b[39;00m \u001b[39mlen\u001b[39m(xy) \u001b[39m==\u001b[39m \u001b[39m2\u001b[39m:\n\u001b[0;32m    487\u001b[0m     x \u001b[39m=\u001b[39m _check_1d(xy[\u001b[39m0\u001b[39m])\n\u001b[1;32m--> 488\u001b[0m     y \u001b[39m=\u001b[39m _check_1d(xy[\u001b[39m1\u001b[39;49m])\n\u001b[0;32m    489\u001b[0m \u001b[39melse\u001b[39;00m:\n\u001b[0;32m    490\u001b[0m     x, y \u001b[39m=\u001b[39m index_of(xy[\u001b[39m-\u001b[39m\u001b[39m1\u001b[39m])\n",
      "File \u001b[1;32mc:\\Users\\luis-\\anaconda3\\lib\\site-packages\\matplotlib\\cbook\\__init__.py:1327\u001b[0m, in \u001b[0;36m_check_1d\u001b[1;34m(x)\u001b[0m\n\u001b[0;32m   1321\u001b[0m \u001b[39mwith\u001b[39;00m warnings\u001b[39m.\u001b[39mcatch_warnings(record\u001b[39m=\u001b[39m\u001b[39mTrue\u001b[39;00m) \u001b[39mas\u001b[39;00m w:\n\u001b[0;32m   1322\u001b[0m     warnings\u001b[39m.\u001b[39mfilterwarnings(\n\u001b[0;32m   1323\u001b[0m         \u001b[39m\"\u001b[39m\u001b[39malways\u001b[39m\u001b[39m\"\u001b[39m,\n\u001b[0;32m   1324\u001b[0m         category\u001b[39m=\u001b[39m\u001b[39mWarning\u001b[39;00m,\n\u001b[0;32m   1325\u001b[0m         message\u001b[39m=\u001b[39m\u001b[39m'\u001b[39m\u001b[39mSupport for multi-dimensional indexing\u001b[39m\u001b[39m'\u001b[39m)\n\u001b[1;32m-> 1327\u001b[0m     ndim \u001b[39m=\u001b[39m x[:, \u001b[39mNone\u001b[39;49;00m]\u001b[39m.\u001b[39mndim\n\u001b[0;32m   1328\u001b[0m     \u001b[39m# we have definitely hit a pandas index or series object\u001b[39;00m\n\u001b[0;32m   1329\u001b[0m     \u001b[39m# cast to a numpy array.\u001b[39;00m\n\u001b[0;32m   1330\u001b[0m     \u001b[39mif\u001b[39;00m \u001b[39mlen\u001b[39m(w) \u001b[39m>\u001b[39m \u001b[39m0\u001b[39m:\n",
      "File \u001b[1;32mc:\\Users\\luis-\\anaconda3\\lib\\site-packages\\pandas\\core\\series.py:984\u001b[0m, in \u001b[0;36mSeries.__getitem__\u001b[1;34m(self, key)\u001b[0m\n\u001b[0;32m    981\u001b[0m     key \u001b[39m=\u001b[39m np\u001b[39m.\u001b[39masarray(key, dtype\u001b[39m=\u001b[39m\u001b[39mbool\u001b[39m)\n\u001b[0;32m    982\u001b[0m     \u001b[39mreturn\u001b[39;00m \u001b[39mself\u001b[39m\u001b[39m.\u001b[39m_get_values(key)\n\u001b[1;32m--> 984\u001b[0m \u001b[39mreturn\u001b[39;00m \u001b[39mself\u001b[39;49m\u001b[39m.\u001b[39;49m_get_with(key)\n",
      "File \u001b[1;32mc:\\Users\\luis-\\anaconda3\\lib\\site-packages\\pandas\\core\\series.py:999\u001b[0m, in \u001b[0;36mSeries._get_with\u001b[1;34m(self, key)\u001b[0m\n\u001b[0;32m    994\u001b[0m     \u001b[39mraise\u001b[39;00m \u001b[39mTypeError\u001b[39;00m(\n\u001b[0;32m    995\u001b[0m         \u001b[39m\"\u001b[39m\u001b[39mIndexing a Series with DataFrame is not \u001b[39m\u001b[39m\"\u001b[39m\n\u001b[0;32m    996\u001b[0m         \u001b[39m\"\u001b[39m\u001b[39msupported, use the appropriate DataFrame column\u001b[39m\u001b[39m\"\u001b[39m\n\u001b[0;32m    997\u001b[0m     )\n\u001b[0;32m    998\u001b[0m \u001b[39melif\u001b[39;00m \u001b[39misinstance\u001b[39m(key, \u001b[39mtuple\u001b[39m):\n\u001b[1;32m--> 999\u001b[0m     \u001b[39mreturn\u001b[39;00m \u001b[39mself\u001b[39;49m\u001b[39m.\u001b[39;49m_get_values_tuple(key)\n\u001b[0;32m   1001\u001b[0m \u001b[39melif\u001b[39;00m \u001b[39mnot\u001b[39;00m is_list_like(key):\n\u001b[0;32m   1002\u001b[0m     \u001b[39m# e.g. scalars that aren't recognized by lib.is_scalar, GH#32684\u001b[39;00m\n\u001b[0;32m   1003\u001b[0m     \u001b[39mreturn\u001b[39;00m \u001b[39mself\u001b[39m\u001b[39m.\u001b[39mloc[key]\n",
      "File \u001b[1;32mc:\\Users\\luis-\\anaconda3\\lib\\site-packages\\pandas\\core\\series.py:1030\u001b[0m, in \u001b[0;36mSeries._get_values_tuple\u001b[1;34m(self, key)\u001b[0m\n\u001b[0;32m   1028\u001b[0m \u001b[39mif\u001b[39;00m com\u001b[39m.\u001b[39many_none(\u001b[39m*\u001b[39mkey):\n\u001b[0;32m   1029\u001b[0m     result \u001b[39m=\u001b[39m \u001b[39mself\u001b[39m\u001b[39m.\u001b[39m_get_values(key)\n\u001b[1;32m-> 1030\u001b[0m     deprecate_ndim_indexing(result, stacklevel\u001b[39m=\u001b[39;49mfind_stack_level())\n\u001b[0;32m   1031\u001b[0m     \u001b[39mreturn\u001b[39;00m result\n\u001b[0;32m   1033\u001b[0m \u001b[39mif\u001b[39;00m \u001b[39mnot\u001b[39;00m \u001b[39misinstance\u001b[39m(\u001b[39mself\u001b[39m\u001b[39m.\u001b[39mindex, MultiIndex):\n",
      "File \u001b[1;32mc:\\Users\\luis-\\anaconda3\\lib\\site-packages\\pandas\\core\\indexers\\utils.py:378\u001b[0m, in \u001b[0;36mdeprecate_ndim_indexing\u001b[1;34m(result, stacklevel)\u001b[0m\n\u001b[0;32m    364\u001b[0m \u001b[39m\u001b[39m\u001b[39m\"\"\"\u001b[39;00m\n\u001b[0;32m    365\u001b[0m \u001b[39mHelper function to raise the deprecation warning for multi-dimensional\u001b[39;00m\n\u001b[0;32m    366\u001b[0m \u001b[39mindexing on 1D Series/Index.\u001b[39;00m\n\u001b[1;32m   (...)\u001b[0m\n\u001b[0;32m    370\u001b[0m \u001b[39m(Deprecation GH#30588).\u001b[39;00m\n\u001b[0;32m    371\u001b[0m \u001b[39m\"\"\"\u001b[39;00m\n\u001b[0;32m    372\u001b[0m \u001b[39mif\u001b[39;00m np\u001b[39m.\u001b[39mndim(result) \u001b[39m>\u001b[39m \u001b[39m1\u001b[39m:\n\u001b[0;32m    373\u001b[0m     warnings\u001b[39m.\u001b[39mwarn(\n\u001b[0;32m    374\u001b[0m         \u001b[39m\"\u001b[39m\u001b[39mSupport for multi-dimensional indexing (e.g. `obj[:, None]`) \u001b[39m\u001b[39m\"\u001b[39m\n\u001b[0;32m    375\u001b[0m         \u001b[39m\"\u001b[39m\u001b[39mis deprecated and will be removed in a future \u001b[39m\u001b[39m\"\u001b[39m\n\u001b[0;32m    376\u001b[0m         \u001b[39m\"\u001b[39m\u001b[39mversion.  Convert to a numpy array before indexing instead.\u001b[39m\u001b[39m\"\u001b[39m,\n\u001b[0;32m    377\u001b[0m         \u001b[39mFutureWarning\u001b[39;00m,\n\u001b[1;32m--> 378\u001b[0m         stacklevel\u001b[39m=\u001b[39mfind_stack_level(),\n\u001b[0;32m    379\u001b[0m     )\n",
      "File \u001b[1;32mc:\\Users\\luis-\\anaconda3\\lib\\site-packages\\pandas\\util\\_exceptions.py:32\u001b[0m, in \u001b[0;36mfind_stack_level\u001b[1;34m()\u001b[0m\n\u001b[0;32m     27\u001b[0m \u001b[39mdef\u001b[39;00m \u001b[39mfind_stack_level\u001b[39m() \u001b[39m-\u001b[39m\u001b[39m>\u001b[39m \u001b[39mint\u001b[39m:\n\u001b[0;32m     28\u001b[0m \u001b[39m    \u001b[39m\u001b[39m\"\"\"\u001b[39;00m\n\u001b[0;32m     29\u001b[0m \u001b[39m    Find the first place in the stack that is not inside pandas\u001b[39;00m\n\u001b[0;32m     30\u001b[0m \u001b[39m    (tests notwithstanding).\u001b[39;00m\n\u001b[0;32m     31\u001b[0m \u001b[39m    \"\"\"\u001b[39;00m\n\u001b[1;32m---> 32\u001b[0m     stack \u001b[39m=\u001b[39m inspect\u001b[39m.\u001b[39;49mstack()\n\u001b[0;32m     34\u001b[0m     \u001b[39mimport\u001b[39;00m \u001b[39mpandas\u001b[39;00m \u001b[39mas\u001b[39;00m \u001b[39mpd\u001b[39;00m\n\u001b[0;32m     36\u001b[0m     pkg_dir \u001b[39m=\u001b[39m os\u001b[39m.\u001b[39mpath\u001b[39m.\u001b[39mdirname(pd\u001b[39m.\u001b[39m\u001b[39m__file__\u001b[39m)\n",
      "File \u001b[1;32mc:\\Users\\luis-\\anaconda3\\lib\\inspect.py:1554\u001b[0m, in \u001b[0;36mstack\u001b[1;34m(context)\u001b[0m\n\u001b[0;32m   1552\u001b[0m \u001b[39mdef\u001b[39;00m \u001b[39mstack\u001b[39m(context\u001b[39m=\u001b[39m\u001b[39m1\u001b[39m):\n\u001b[0;32m   1553\u001b[0m \u001b[39m    \u001b[39m\u001b[39m\"\"\"Return a list of records for the stack above the caller's frame.\"\"\"\u001b[39;00m\n\u001b[1;32m-> 1554\u001b[0m     \u001b[39mreturn\u001b[39;00m getouterframes(sys\u001b[39m.\u001b[39;49m_getframe(\u001b[39m1\u001b[39;49m), context)\n",
      "File \u001b[1;32mc:\\Users\\luis-\\anaconda3\\lib\\inspect.py:1531\u001b[0m, in \u001b[0;36mgetouterframes\u001b[1;34m(frame, context)\u001b[0m\n\u001b[0;32m   1529\u001b[0m framelist \u001b[39m=\u001b[39m []\n\u001b[0;32m   1530\u001b[0m \u001b[39mwhile\u001b[39;00m frame:\n\u001b[1;32m-> 1531\u001b[0m     frameinfo \u001b[39m=\u001b[39m (frame,) \u001b[39m+\u001b[39m getframeinfo(frame, context)\n\u001b[0;32m   1532\u001b[0m     framelist\u001b[39m.\u001b[39mappend(FrameInfo(\u001b[39m*\u001b[39mframeinfo))\n\u001b[0;32m   1533\u001b[0m     frame \u001b[39m=\u001b[39m frame\u001b[39m.\u001b[39mf_back\n",
      "File \u001b[1;32mc:\\Users\\luis-\\anaconda3\\lib\\inspect.py:1501\u001b[0m, in \u001b[0;36mgetframeinfo\u001b[1;34m(frame, context)\u001b[0m\n\u001b[0;32m   1498\u001b[0m \u001b[39mif\u001b[39;00m \u001b[39mnot\u001b[39;00m isframe(frame):\n\u001b[0;32m   1499\u001b[0m     \u001b[39mraise\u001b[39;00m \u001b[39mTypeError\u001b[39;00m(\u001b[39m'\u001b[39m\u001b[39m{!r}\u001b[39;00m\u001b[39m is not a frame or traceback object\u001b[39m\u001b[39m'\u001b[39m\u001b[39m.\u001b[39mformat(frame))\n\u001b[1;32m-> 1501\u001b[0m filename \u001b[39m=\u001b[39m getsourcefile(frame) \u001b[39mor\u001b[39;00m getfile(frame)\n\u001b[0;32m   1502\u001b[0m \u001b[39mif\u001b[39;00m context \u001b[39m>\u001b[39m \u001b[39m0\u001b[39m:\n\u001b[0;32m   1503\u001b[0m     start \u001b[39m=\u001b[39m lineno \u001b[39m-\u001b[39m \u001b[39m1\u001b[39m \u001b[39m-\u001b[39m context\u001b[39m/\u001b[39m\u001b[39m/\u001b[39m\u001b[39m2\u001b[39m\n",
      "File \u001b[1;32mc:\\Users\\luis-\\anaconda3\\lib\\inspect.py:706\u001b[0m, in \u001b[0;36mgetsourcefile\u001b[1;34m(object)\u001b[0m\n\u001b[0;32m    703\u001b[0m \u001b[39melif\u001b[39;00m \u001b[39many\u001b[39m(filename\u001b[39m.\u001b[39mendswith(s) \u001b[39mfor\u001b[39;00m s \u001b[39min\u001b[39;00m\n\u001b[0;32m    704\u001b[0m              importlib\u001b[39m.\u001b[39mmachinery\u001b[39m.\u001b[39mEXTENSION_SUFFIXES):\n\u001b[0;32m    705\u001b[0m     \u001b[39mreturn\u001b[39;00m \u001b[39mNone\u001b[39;00m\n\u001b[1;32m--> 706\u001b[0m \u001b[39mif\u001b[39;00m os\u001b[39m.\u001b[39;49mpath\u001b[39m.\u001b[39;49mexists(filename):\n\u001b[0;32m    707\u001b[0m     \u001b[39mreturn\u001b[39;00m filename\n\u001b[0;32m    708\u001b[0m \u001b[39m# only return a non-existent filename if the module has a PEP 302 loader\u001b[39;00m\n",
      "File \u001b[1;32mc:\\Users\\luis-\\anaconda3\\lib\\genericpath.py:19\u001b[0m, in \u001b[0;36mexists\u001b[1;34m(path)\u001b[0m\n\u001b[0;32m     17\u001b[0m \u001b[39m\u001b[39m\u001b[39m\"\"\"Test whether a path exists.  Returns False for broken symbolic links\"\"\"\u001b[39;00m\n\u001b[0;32m     18\u001b[0m \u001b[39mtry\u001b[39;00m:\n\u001b[1;32m---> 19\u001b[0m     os\u001b[39m.\u001b[39;49mstat(path)\n\u001b[0;32m     20\u001b[0m \u001b[39mexcept\u001b[39;00m (\u001b[39mOSError\u001b[39;00m, \u001b[39mValueError\u001b[39;00m):\n\u001b[0;32m     21\u001b[0m     \u001b[39mreturn\u001b[39;00m \u001b[39mFalse\u001b[39;00m\n",
      "\u001b[1;31mKeyboardInterrupt\u001b[0m: "
     ]
    },
    {
     "data": {
      "image/png": "[encoded data removed]",
      "text/plain": [
       "<Figure size 360x360 with 1 Axes>"
      ]
     },
     "metadata": {
      "needs_background": "light"
     },
     "output_type": "display_data"
    }
   ],
   "source": [
    "l = [\"MaxAbsEStateIndex\",\"MinAbsEStateIndex\",\"NumValenceElectrons\",\"FpDensityMorgan3\",\"FpDensityMorgan2\",\"FpDensityMorgan1\",\"MolWt\",\"qed\",\"BertzCT\"]\n",
    "for col in l:\n",
    "    sns.displot(df[col], kde=True)\n",
    "    plt.show()\n"
   ]
  },
  {
   "cell_type": "code",
   "execution_count": null,
   "metadata": {},
   "outputs": [
    {
     "data": {
      "image/png": "[encoded data removed]",
      "text/plain": [
       "<Figure size 360x360 with 1 Axes>"
      ]
     },
     "metadata": {
      "needs_background": "light"
     },
     "output_type": "display_data"
    },
    {
     "data": {
      "image/png": "[encoded data removed]",
      "text/plain": [
       "<Figure size 360x360 with 1 Axes>"
      ]
     },
     "metadata": {
      "needs_background": "light"
     },
     "output_type": "display_data"
    },
    {
     "data": {
      "image/png": "[encoded data removed]",
      "text/plain": [
       "<Figure size 360x360 with 1 Axes>"
      ]
     },
     "metadata": {
      "needs_background": "light"
     },
     "output_type": "display_data"
    },
    {
     "data": {
      "image/png": "[encoded data removed]",
      "text/plain": [
       "<Figure size 360x360 with 1 Axes>"
      ]
     },
     "metadata": {
      "needs_background": "light"
     },
     "output_type": "display_data"
    },
    {
     "data": {
      "image/png": "[encoded data removed]",
      "text/plain": [
       "<Figure size 360x360 with 1 Axes>"
      ]
     },
     "metadata": {
      "needs_background": "light"
     },
     "output_type": "display_data"
    },
    {
     "data": {
      "image/png": "[encoded data removed]",
      "text/plain": [
       "<Figure size 360x360 with 1 Axes>"
      ]
     },
     "metadata": {
      "needs_background": "light"
     },
     "output_type": "display_data"
    },
    {
     "data": {
      "image/png": "[encoded data removed]",
      "text/plain": [
       "<Figure size 360x360 with 1 Axes>"
      ]
     },
     "metadata": {
      "needs_background": "light"
     },
     "output_type": "display_data"
    },
    {
     "data": {
      "image/png": "[encoded data removed]",
      "text/plain": [
       "<Figure size 360x360 with 1 Axes>"
      ]
     },
     "metadata": {
      "needs_background": "light"
     },
     "output_type": "display_data"
    },
    {
     "data": {
      "image/png": "[encoded data removed]",
      "text/plain": [
       "<Figure size 360x360 with 1 Axes>"
      ]
     },
     "metadata": {
      "needs_background": "light"
     },
     "output_type": "display_data"
    },
    {
     "data": {
      "image/png": "[encoded data removed]",
      "text/plain": [
       "<Figure size 360x360 with 1 Axes>"
      ]
     },
     "metadata": {
      "needs_background": "light"
     },
     "output_type": "display_data"
    },
    {
     "data": {
      "image/png": "[encoded data removed]",
      "text/plain": [
       "<Figure size 360x360 with 1 Axes>"
      ]
     },
     "metadata": {
      "needs_background": "light"
     },
     "output_type": "display_data"
    },
    {
     "data": {
      "image/png": "[encoded data removed]",
      "text/plain": [
       "<Figure size 360x360 with 1 Axes>"
      ]
     },
     "metadata": {
      "needs_background": "light"
     },
     "output_type": "display_data"
    },
    {
     "data": {
      "image/png": "[encoded data removed]",
      "text/plain": [
       "<Figure size 360x360 with 1 Axes>"
      ]
     },
     "metadata": {
      "needs_background": "light"
     },
     "output_type": "display_data"
    },
    {
     "data": {
      "image/png": "[encoded data removed]",
      "text/plain": [
       "<Figure size 360x360 with 1 Axes>"
      ]
     },
     "metadata": {
      "needs_background": "light"
     },
     "output_type": "display_data"
    },
    {
     "data": {
      "image/png": "[encoded data removed]",
      "text/plain": [
       "<Figure size 360x360 with 1 Axes>"
      ]
     },
     "metadata": {
      "needs_background": "light"
     },
     "output_type": "display_data"
    },
    {
     "data": {
      "image/png": "[encoded data removed]",
      "text/plain": [
       "<Figure size 360x360 with 1 Axes>"
      ]
     },
     "metadata": {
      "needs_background": "light"
     },
     "output_type": "display_data"
    },
    {
     "data": {
      "image/png": "[encoded data removed]",
      "text/plain": [
       "<Figure size 360x360 with 1 Axes>"
      ]
     },
     "metadata": {
      "needs_background": "light"
     },
     "output_type": "display_data"
    },
    {
     "data": {
      "image/png": "[encoded data removed]",
      "text/plain": [
       "<Figure size 360x360 with 1 Axes>"
      ]
     },
     "metadata": {
      "needs_background": "light"
     },
     "output_type": "display_data"
    }
   ],
   "source": [
    "import matplotlib.ticker as ticker\n",
    "\n",
    "for col in df.select_dtypes(include=np.number).columns[190:208]:\n",
    "    g = sns.displot(df[col], kde=False, color='red')\n",
    "    g.set(ylim=(0, 15000))\n",
    "    g.set(xlim=(0,5))   \n",
    "    g.ax.xaxis.set_major_locator(ticker.MaxNLocator(integer=True))\n",
    "    plt.show()"
   ]
  },
  {
   "attachments": {},
   "cell_type": "markdown",
   "metadata": {},
   "source": [
    "# 5.  Análise estatística univariada"
   ]
  },
  {
   "attachments": {},
   "cell_type": "markdown",
   "metadata": {},
   "source": [
    "Para a análise estatística univariada, podemos ainda usar testes estatísticos para identificar compostos com características diferentes em relação à variável 'Y'. Como Y é uma variável binária, podemos usar o teste t de Student para comparar as médias das variáveis independentes entre as duas classes de Y."
   ]
  },
  {
   "attachments": {},
   "cell_type": "markdown",
   "metadata": {},
   "source": [
    "### Testes Estatísticos\n",
    "\n",
    "**H0:** Não há diferenças significativas entre o descritor químico em estudo e a presença de inibição da enzima CYP2C9.\n",
    "\n",
    "\n",
    "**H1:** Há diferenças significativas entre descritor químico em estudo e a presença de inibição da enzima CYP2C9."
   ]
  },
  {
   "cell_type": "code",
   "execution_count": null,
   "metadata": {},
   "outputs": [
    {
     "name": "stdout",
     "output_type": "stream",
     "text": [
      "Número de descritores químicos que apresentam diferenças significativas na inibição da enzima: 107\n",
      "Número de descritores químicos que não apresentam diferenças significativas na inibição da enzima: 16\n",
      "Lista de descritores químicos que apresentam diferenças significativas na inibição da enzima: ['MaxEStateIndex', 'MinEStateIndex', 'MaxAbsEStateIndex', 'MinAbsEStateIndex', 'qed', 'MolWt', 'HeavyAtomMolWt', 'ExactMolWt', 'NumValenceElectrons', 'MaxPartialCharge', 'MinAbsPartialCharge', 'FpDensityMorgan1', 'FpDensityMorgan2', 'BCUT2D_MWHI', 'BCUT2D_MWLOW', 'BCUT2D_CHGLO', 'BCUT2D_LOGPHI', 'BCUT2D_LOGPLOW', 'BCUT2D_MRHI', 'BalabanJ', 'BertzCT', 'Chi0', 'Chi0n', 'Chi0v', 'Chi1', 'Chi1n', 'Chi1v', 'Chi2n', 'Chi2v', 'Chi3n', 'Chi3v', 'Chi4n', 'Chi4v', 'HallKierAlpha', 'Kappa1', 'Kappa2', 'Kappa3', 'LabuteASA', 'PEOE_VSA1', 'PEOE_VSA11', 'PEOE_VSA13', 'PEOE_VSA14', 'PEOE_VSA2', 'PEOE_VSA3', 'PEOE_VSA4', 'PEOE_VSA5', 'PEOE_VSA6', 'PEOE_VSA7', 'PEOE_VSA9', 'SMR_VSA1', 'SMR_VSA10', 'SMR_VSA2', 'SMR_VSA4', 'SMR_VSA5', 'SMR_VSA6', 'SMR_VSA7', 'SMR_VSA9', 'SlogP_VSA1', 'SlogP_VSA10', 'SlogP_VSA11', 'SlogP_VSA12', 'SlogP_VSA2', 'SlogP_VSA3', 'SlogP_VSA5', 'SlogP_VSA6', 'SlogP_VSA7', 'SlogP_VSA8', 'TPSA', 'EState_VSA1', 'EState_VSA10', 'EState_VSA11', 'EState_VSA2', 'EState_VSA3', 'EState_VSA5', 'EState_VSA6', 'EState_VSA7', 'EState_VSA8', 'EState_VSA9', 'VSA_EState1', 'VSA_EState10', 'VSA_EState2', 'VSA_EState3', 'VSA_EState4', 'VSA_EState5', 'VSA_EState6', 'VSA_EState7', 'VSA_EState8', 'VSA_EState9', 'FractionCSP3', 'HeavyAtomCount', 'NHOHCount', 'NumAliphaticCarbocycles', 'NumAliphaticHeterocycles', 'NumAliphaticRings', 'NumAromaticCarbocycles', 'NumAromaticHeterocycles', 'NumAromaticRings', 'NumHAcceptors', 'NumHDonors', 'NumHeteroatoms', 'NumRotatableBonds', 'NumSaturatedCarbocycles', 'NumSaturatedHeterocycles', 'NumSaturatedRings', 'RingCount', 'MolLogP', 'MolMR']\n",
      "Lista de descritores químicos que não apresentam diferenças significativas na inibição da enzima: ['NumRadicalElectrons', 'MinPartialCharge', 'MaxAbsPartialCharge', 'FpDensityMorgan3', 'BCUT2D_CHGHI', 'BCUT2D_MRLOW', 'Ipc', 'PEOE_VSA10', 'PEOE_VSA12', 'PEOE_VSA8', 'SMR_VSA3', 'SMR_VSA8', 'SlogP_VSA4', 'SlogP_VSA9', 'EState_VSA4', 'NOCount'] \n"
     ]
    }
   ],
   "source": [
    "# T-test geral\n",
    "\n",
    "descritores = df.iloc[:, 3:126:]\n",
    "\n",
    "S=[]\n",
    "NS=[]\n",
    "for x, t in enumerate(descritores):\n",
    "    not_inibited = df[df['Y'] == 0][t]\n",
    "    inibited = df[df['Y'] == 1][t]\n",
    "    p_value = ttest_ind(not_inibited, inibited)[1]\n",
    "    if p_value < 0.05:\n",
    "        S.append(t)\n",
    "    else:\n",
    "        NS.append(t)\n",
    "\n",
    "print(f\"Número de descritores químicos que apresentam diferenças significativas na inibição da enzima: {len(S)}\")\n",
    "print(f\"Número de descritores químicos que não apresentam diferenças significativas na inibição da enzima: {len(NS)}\")\n",
    "print(f\"Lista de descritores químicos que apresentam diferenças significativas na inibição da enzima: {S}\")\n",
    "print(f\"Lista de descritores químicos que não apresentam diferenças significativas na inibição da enzima: {NS} \")"
   ]
  },
  {
   "attachments": {},
   "cell_type": "markdown",
   "metadata": {},
   "source": [
    "##### **Qed**"
   ]
  },
  {
   "cell_type": "code",
   "execution_count": null,
   "metadata": {},
   "outputs": [
    {
     "data": {
      "text/plain": [
       "Ttest_indResult(statistic=-16.600203456391156, pvalue=3.366466874219499e-61)"
      ]
     },
     "execution_count": 165,
     "metadata": {},
     "output_type": "execute_result"
    }
   ],
   "source": [
    "med_inhib = df[df[\"Y\"] == 1][\"qed\"]\n",
    "med_not_inhib = df[df[\"Y\"] == 0][\"qed\"]\n",
    "ttest_ind(med_inhib, med_not_inhib)\n"
   ]
  },
  {
   "attachments": {},
   "cell_type": "markdown",
   "metadata": {},
   "source": [
    "**Conclusão:** Como a estatistica é de 16.6 e o valor-p é menor que 0.05 (p-value = 3.37e-611.05e-95), a hipótese nula é rejeitada portanto, podemos concluir que há diferenças significativas entre os valores de qed para os compostos com e sem inibição."
   ]
  },
  {
   "attachments": {},
   "cell_type": "markdown",
   "metadata": {},
   "source": [
    "##### **BertzCT**"
   ]
  },
  {
   "cell_type": "code",
   "execution_count": null,
   "metadata": {},
   "outputs": [
    {
     "data": {
      "text/plain": [
       "Ttest_indResult(statistic=35.58160782492257, pvalue=1.2079120315516389e-263)"
      ]
     },
     "execution_count": 166,
     "metadata": {},
     "output_type": "execute_result"
    }
   ],
   "source": [
    "med_inhib = df[df[\"Y\"] == 1][\"BertzCT\"]\n",
    "med_not_inhib = df[df[\"Y\"] == 0][\"BertzCT\"]\n",
    "ttest_ind(med_inhib, med_not_inhib)"
   ]
  },
  {
   "attachments": {},
   "cell_type": "markdown",
   "metadata": {},
   "source": [
    "**Conclusão:** Como a estatistica é de 35.58 e o valor-p é menor que 0.05 (p-value = 1.21e-263), a hipótese nula é rejeitada portanto, podemos concluir que há diferenças significativas entre os valores de BertzCT para os compostos com e sem inibição."
   ]
  },
  {
   "attachments": {},
   "cell_type": "markdown",
   "metadata": {},
   "source": [
    "##### **FpDensityMorgan3**"
   ]
  },
  {
   "cell_type": "code",
   "execution_count": null,
   "metadata": {},
   "outputs": [
    {
     "data": {
      "text/plain": [
       "Ttest_indResult(statistic=-0.04940446432587252, pvalue=0.9605977973988798)"
      ]
     },
     "execution_count": 167,
     "metadata": {},
     "output_type": "execute_result"
    }
   ],
   "source": [
    "med_inhib = df[df[\"Y\"] == 1][\"FpDensityMorgan3\"]\n",
    "med_not_inhib = df[df[\"Y\"] == 0][\"FpDensityMorgan3\"]\n",
    "ttest_ind(med_inhib, med_not_inhib)"
   ]
  },
  {
   "attachments": {},
   "cell_type": "markdown",
   "metadata": {},
   "source": [
    "**Conclusão:** Como a estatistica é de 0.049 e o valor-p é menor que 0.05 (p-value = 0.96), a hipótese nula não é rejeitada portanto, podemos concluir que não há diferenças significativas entre os valores de FpDensityMorgan3 para os compostos com e sem inibição."
   ]
  },
  {
   "attachments": {},
   "cell_type": "markdown",
   "metadata": {},
   "source": [
    "##### **MinAbsEStateIndex**"
   ]
  },
  {
   "cell_type": "code",
   "execution_count": null,
   "metadata": {},
   "outputs": [
    {
     "data": {
      "text/plain": [
       "Ttest_indResult(statistic=-12.4565577597981, pvalue=2.1377206519735e-35)"
      ]
     },
     "execution_count": 168,
     "metadata": {},
     "output_type": "execute_result"
    }
   ],
   "source": [
    "med_inhib = df[df[\"Y\"] == 1][\"MinAbsEStateIndex\"]\n",
    "med_not_inhib = df[df[\"Y\"] == 0][\"MinAbsEStateIndex\"]\n",
    "ttest_ind(med_inhib, med_not_inhib)"
   ]
  },
  {
   "attachments": {},
   "cell_type": "markdown",
   "metadata": {},
   "source": [
    "**Conclusão:** Como a estatistica é de -12.46 e o valor-p é menor que 0.05 (p-value = 2.14e-35), a hipótese nula é rejeitada portanto, podemos concluir que há diferenças significativas entre os valores de MinAbsEStateIndex para os compostos com e sem inibição."
   ]
  },
  {
   "attachments": {},
   "cell_type": "markdown",
   "metadata": {},
   "source": [
    "##### **MaxAbsEStateIndex**"
   ]
  },
  {
   "cell_type": "code",
   "execution_count": null,
   "metadata": {},
   "outputs": [
    {
     "data": {
      "text/plain": [
       "Ttest_indResult(statistic=20.94654931453465, pvalue=1.0532128801057078e-95)"
      ]
     },
     "execution_count": 169,
     "metadata": {},
     "output_type": "execute_result"
    }
   ],
   "source": [
    "med_inhib = df[df[\"Y\"] == 1][\"MaxAbsEStateIndex\"]\n",
    "med_not_inhib = df[df[\"Y\"] == 0][\"MaxAbsEStateIndex\"]\n",
    "ttest_ind(med_inhib, med_not_inhib)"
   ]
  },
  {
   "attachments": {},
   "cell_type": "markdown",
   "metadata": {},
   "source": [
    "**Conclusão:** Como a estatistica é de 20.95 e o valor-p é menor que 0.05 (p-value = 1.05e-95), a hipótese nula é rejeitada portanto, podemos concluir que há diferenças significativas entre os valores de MaxAbsEStateIndex para os compostos com e sem inibição."
   ]
  },
  {
   "attachments": {},
   "cell_type": "markdown",
   "metadata": {},
   "source": [
    "##### **MolWt**"
   ]
  },
  {
   "cell_type": "code",
   "execution_count": null,
   "metadata": {},
   "outputs": [
    {
     "data": {
      "text/plain": [
       "Ttest_indResult(statistic=25.98903245803305, pvalue=6.786164710564847e-145)"
      ]
     },
     "execution_count": 170,
     "metadata": {},
     "output_type": "execute_result"
    }
   ],
   "source": [
    "med_inhib = df[df[\"Y\"] == 1][\"MolWt\"]\n",
    "med_not_inhib = df[df[\"Y\"] == 0][\"MolWt\"]\n",
    "ttest_ind(med_inhib, med_not_inhib)\n"
   ]
  },
  {
   "attachments": {},
   "cell_type": "markdown",
   "metadata": {},
   "source": [
    "**Conclusão:** Como a estatistica é de 25.90 e o valor-p é menor que 0.05 (p-value = 6.79e-145), a hipótese nula é rejeitada portanto, podemos concluir que há diferenças significativas entre os valores de MolWt para os compostos com e sem inibição."
   ]
  },
  {
   "attachments": {},
   "cell_type": "markdown",
   "metadata": {},
   "source": [
    "##### **NumValenceElectrons**"
   ]
  },
  {
   "cell_type": "code",
   "execution_count": null,
   "metadata": {},
   "outputs": [
    {
     "data": {
      "text/plain": [
       "Ttest_indResult(statistic=19.978910057061732, pvalue=2.2378971679479476e-87)"
      ]
     },
     "execution_count": 171,
     "metadata": {},
     "output_type": "execute_result"
    }
   ],
   "source": [
    "med_inhib = df[df[\"Y\"] == 1][\"NumValenceElectrons\"]\n",
    "med_not_inhib = df[df[\"Y\"] == 0][\"NumValenceElectrons\"]\n",
    "ttest_ind(med_inhib, med_not_inhib)\n"
   ]
  },
  {
   "attachments": {},
   "cell_type": "markdown",
   "metadata": {},
   "source": [
    "**Conclusão:** Como a estatistica é de 19.98 e o valor-p é menor que 0.05 (p-value = 2.24e-87), a hipótese nula é rejeitada portanto, podemos concluir que há diferenças significativas entre os valores de NumValenceElectrons para os compostos com e sem inibição."
   ]
  },
  {
   "attachments": {},
   "cell_type": "markdown",
   "metadata": {},
   "source": [
    "**H0:** O descritor químico tem expressão diferencial significativa\n",
    "\n",
    "**H1:** O descritor químico não tem expressão diferencial significativa"
   ]
  },
  {
   "attachments": {},
   "cell_type": "markdown",
   "metadata": {},
   "source": [
    "### Teste do Qui-Quadrado"
   ]
  },
  {
   "attachments": {},
   "cell_type": "markdown",
   "metadata": {},
   "source": [
    "**H0:** A quantidade de grupos funcionais em cada composto influência na inibição do gene CYP2C9.\n",
    "\n",
    "\n",
    "**H1:** A quantidade de  grupos funcionais em cada composto não influência na inibição do gene CYP2C9."
   ]
  },
  {
   "cell_type": "code",
   "execution_count": null,
   "metadata": {},
   "outputs": [
    {
     "name": "stdout",
     "output_type": "stream",
     "text": [
      "Número de grupos funcionais que apresentam diferenças significativas na inibição da enzima: 66\n",
      "Número de grupos funcionais que não apresentam diferenças significativas na inibição da enzima: 19\n",
      "Lista de grupos funcionais que apresentam diferenças significativas na inibição da enzima: ['fr_Al_COO', 'fr_Al_OH', 'fr_Al_OH_noTert', 'fr_ArN', 'fr_Ar_COO', 'fr_Ar_N', 'fr_Ar_NH', 'fr_COO', 'fr_COO2', 'fr_C_O', 'fr_C_O_noCOO', 'fr_C_S', 'fr_HOCCN', 'fr_Imine', 'fr_NH0', 'fr_NH1', 'fr_NH2', 'fr_N_O', 'fr_Ndealkylation1', 'fr_Ndealkylation2', 'fr_Nhpyrrole', 'fr_alkyl_carbamate', 'fr_alkyl_halide', 'fr_allylic_oxid', 'fr_amide', 'fr_aniline', 'fr_aryl_methyl', 'fr_benzene', 'fr_bicyclic', 'fr_dihydropyridine', 'fr_epoxide', 'fr_ester', 'fr_ether', 'fr_furan', 'fr_guanido', 'fr_halogen', 'fr_hdrzone', 'fr_imidazole', 'fr_imide', 'fr_ketone', 'fr_ketone_Topliss', 'fr_lactam', 'fr_lactone', 'fr_methoxy', 'fr_morpholine', 'fr_nitrile', 'fr_nitro', 'fr_nitro_arom', 'fr_nitro_arom_nonortho', 'fr_oxazole', 'fr_oxime', 'fr_para_hydroxylation', 'fr_phos_acid', 'fr_phos_ester', 'fr_piperdine', 'fr_priamide', 'fr_pyridine', 'fr_quatN', 'fr_sulfide', 'fr_sulfonamd', 'fr_sulfone', 'fr_tetrazole', 'fr_thiazole', 'fr_thiophene', 'fr_unbrch_alkane', 'fr_urea']\n",
      "Lista de grupos funcionais que não apresentam diferenças significativas na inibição da enzima: ['fr_Ar_OH', 'fr_SH', 'fr_aldehyde', 'fr_amidine', 'fr_azide', 'fr_azo', 'fr_barbitur', 'fr_benzodiazepine', 'fr_diazo', 'fr_hdrzine', 'fr_isocyan', 'fr_isothiocyan', 'fr_nitroso', 'fr_phenol', 'fr_phenol_noOrthoHbond', 'fr_piperzine', 'fr_prisulfonamd', 'fr_term_acetylene', 'fr_thiocyan'] \n"
     ]
    }
   ],
   "source": [
    "import scipy.stats\n",
    "from scipy.stats import chi2\n",
    "compostos = df.iloc[:, 126:]\n",
    "compostos1 = compostos.insert(loc = 0,\n",
    "          column = 'Y',\n",
    "          value = df[\"Y\"])\n",
    "S = []\n",
    "NS = []\n",
    "\n",
    "for x, y in enumerate(compostos):\n",
    "    a = pd.crosstab(compostos[\"Y\"],compostos[y])\n",
    "    b = scipy.stats.chi2_contingency(a)[1]\n",
    "    if b > 0.05:\n",
    "        NS.append(y)\n",
    "    else:\n",
    "        S.append(y)\n",
    "S.pop(0) \n",
    "\n",
    "print(f\"Número de grupos funcionais que apresentam diferenças significativas na inibição da enzima: {len(S)}\")\n",
    "print(f\"Número de grupos funcionais que não apresentam diferenças significativas na inibição da enzima: {len(NS)}\")\n",
    "print(f\"Lista de grupos funcionais que apresentam diferenças significativas na inibição da enzima: {S}\")\n",
    "print(f\"Lista de grupos funcionais que não apresentam diferenças significativas na inibição da enzima: {NS} \")"
   ]
  },
  {
   "attachments": {},
   "cell_type": "markdown",
   "metadata": {},
   "source": [
    "**Conclusão** : Segundo a análise estatística anterior conseguímos concluir que existem 66 grupos funcionais que influenciam significativamente para um nivel de significância para 0.05 a inibição do gene CYP2C9 e 19 grupos funcionais não influenciam significativamente para um nivel de significância para 0.05 a inibição do gene CYP2C9. "
   ]
  },
  {
   "attachments": {},
   "cell_type": "markdown",
   "metadata": {},
   "source": [
    "Podemos por fim avaliar a correlação entre os descritores químicos escolhidos,  gerarando uma matriz de correlação:"
   ]
  },
  {
   "cell_type": "code",
   "execution_count": null,
   "metadata": {},
   "outputs": [
    {
     "data": {
      "image/png": "[encoded data removed]",
      "text/plain": [
       "<Figure size 432x288 with 2 Axes>"
      ]
     },
     "metadata": {
      "needs_background": "light"
     },
     "output_type": "display_data"
    }
   ],
   "source": [
    "sns.heatmap(df[l].corr(), cmap='coolwarm', annot= True, fmt=\".2f\")\n",
    "plt.title('Matriz de correlações entre os descritores químicos')\n",
    "plt.show()"
   ]
  },
  {
   "attachments": {},
   "cell_type": "markdown",
   "metadata": {},
   "source": [
    "# 6. - Análise estatística multivariada (não supervisionada): clustering, redução de dimensionalidade/ visualização"
   ]
  },
  {
   "attachments": {},
   "cell_type": "markdown",
   "metadata": {},
   "source": [
    "Para começar o último tópico começamos por retirar colunas desnecessáriaS para esta análise nomeadamente a variável categórica \"smiles\" e os \"ids\".\n"
   ]
  },
  {
   "cell_type": "code",
   "execution_count": null,
   "metadata": {},
   "outputs": [
    {
     "data": {
      "text/html": [
       "<div>\n",
       "<style scoped>\n",
       "    .dataframe tbody tr th:only-of-type {\n",
       "        vertical-align: middle;\n",
       "    }\n",
       "\n",
       "    .dataframe tbody tr th {\n",
       "        vertical-align: top;\n",
       "    }\n",
       "\n",
       "    .dataframe thead th {\n",
       "        text-align: right;\n",
       "    }\n",
       "</style>\n",
       "<table border=\"1\" class=\"dataframe\">\n",
       "  <thead>\n",
       "    <tr style=\"text-align: right;\">\n",
       "      <th></th>\n",
       "      <th>MaxEStateIndex</th>\n",
       "      <th>MinEStateIndex</th>\n",
       "      <th>MaxAbsEStateIndex</th>\n",
       "      <th>MinAbsEStateIndex</th>\n",
       "      <th>qed</th>\n",
       "      <th>MolWt</th>\n",
       "      <th>HeavyAtomMolWt</th>\n",
       "      <th>ExactMolWt</th>\n",
       "      <th>NumValenceElectrons</th>\n",
       "      <th>NumRadicalElectrons</th>\n",
       "      <th>...</th>\n",
       "      <th>NumHAcceptors</th>\n",
       "      <th>NumHDonors</th>\n",
       "      <th>NumHeteroatoms</th>\n",
       "      <th>NumRotatableBonds</th>\n",
       "      <th>NumSaturatedCarbocycles</th>\n",
       "      <th>NumSaturatedHeterocycles</th>\n",
       "      <th>NumSaturatedRings</th>\n",
       "      <th>RingCount</th>\n",
       "      <th>MolLogP</th>\n",
       "      <th>MolMR</th>\n",
       "    </tr>\n",
       "  </thead>\n",
       "  <tbody>\n",
       "    <tr>\n",
       "      <th>0</th>\n",
       "      <td>12.820479</td>\n",
       "      <td>-0.183140</td>\n",
       "      <td>12.820479</td>\n",
       "      <td>0.128619</td>\n",
       "      <td>0.457873</td>\n",
       "      <td>362.476</td>\n",
       "      <td>344.332</td>\n",
       "      <td>362.07590</td>\n",
       "      <td>126.0</td>\n",
       "      <td>0.0</td>\n",
       "      <td>...</td>\n",
       "      <td>5.0</td>\n",
       "      <td>0.0</td>\n",
       "      <td>7.0</td>\n",
       "      <td>5.0</td>\n",
       "      <td>0.0</td>\n",
       "      <td>1.0</td>\n",
       "      <td>1.0</td>\n",
       "      <td>3.0</td>\n",
       "      <td>2.66100</td>\n",
       "      <td>99.7840</td>\n",
       "    </tr>\n",
       "    <tr>\n",
       "      <th>1</th>\n",
       "      <td>6.126257</td>\n",
       "      <td>0.660427</td>\n",
       "      <td>6.126257</td>\n",
       "      <td>0.660427</td>\n",
       "      <td>0.756902</td>\n",
       "      <td>255.708</td>\n",
       "      <td>245.628</td>\n",
       "      <td>255.05632</td>\n",
       "      <td>88.0</td>\n",
       "      <td>0.0</td>\n",
       "      <td>...</td>\n",
       "      <td>2.0</td>\n",
       "      <td>1.0</td>\n",
       "      <td>4.0</td>\n",
       "      <td>2.0</td>\n",
       "      <td>0.0</td>\n",
       "      <td>0.0</td>\n",
       "      <td>0.0</td>\n",
       "      <td>3.0</td>\n",
       "      <td>3.79210</td>\n",
       "      <td>72.2647</td>\n",
       "    </tr>\n",
       "    <tr>\n",
       "      <th>2</th>\n",
       "      <td>5.719940</td>\n",
       "      <td>-0.219974</td>\n",
       "      <td>5.719940</td>\n",
       "      <td>0.075509</td>\n",
       "      <td>0.605920</td>\n",
       "      <td>421.549</td>\n",
       "      <td>390.301</td>\n",
       "      <td>421.25900</td>\n",
       "      <td>164.0</td>\n",
       "      <td>0.0</td>\n",
       "      <td>...</td>\n",
       "      <td>8.0</td>\n",
       "      <td>0.0</td>\n",
       "      <td>8.0</td>\n",
       "      <td>6.0</td>\n",
       "      <td>0.0</td>\n",
       "      <td>1.0</td>\n",
       "      <td>1.0</td>\n",
       "      <td>4.0</td>\n",
       "      <td>2.73890</td>\n",
       "      <td>118.7370</td>\n",
       "    </tr>\n",
       "    <tr>\n",
       "      <th>3</th>\n",
       "      <td>12.040634</td>\n",
       "      <td>-0.208718</td>\n",
       "      <td>12.040634</td>\n",
       "      <td>0.006714</td>\n",
       "      <td>0.728361</td>\n",
       "      <td>324.344</td>\n",
       "      <td>308.216</td>\n",
       "      <td>324.13348</td>\n",
       "      <td>122.0</td>\n",
       "      <td>0.0</td>\n",
       "      <td>...</td>\n",
       "      <td>7.0</td>\n",
       "      <td>1.0</td>\n",
       "      <td>8.0</td>\n",
       "      <td>6.0</td>\n",
       "      <td>0.0</td>\n",
       "      <td>0.0</td>\n",
       "      <td>0.0</td>\n",
       "      <td>3.0</td>\n",
       "      <td>1.06010</td>\n",
       "      <td>85.8887</td>\n",
       "    </tr>\n",
       "    <tr>\n",
       "      <th>4</th>\n",
       "      <td>13.082813</td>\n",
       "      <td>-0.044883</td>\n",
       "      <td>13.082813</td>\n",
       "      <td>0.018472</td>\n",
       "      <td>0.457249</td>\n",
       "      <td>495.628</td>\n",
       "      <td>458.332</td>\n",
       "      <td>495.29578</td>\n",
       "      <td>194.0</td>\n",
       "      <td>0.0</td>\n",
       "      <td>...</td>\n",
       "      <td>9.0</td>\n",
       "      <td>1.0</td>\n",
       "      <td>10.0</td>\n",
       "      <td>10.0</td>\n",
       "      <td>0.0</td>\n",
       "      <td>2.0</td>\n",
       "      <td>2.0</td>\n",
       "      <td>5.0</td>\n",
       "      <td>2.28752</td>\n",
       "      <td>136.7977</td>\n",
       "    </tr>\n",
       "    <tr>\n",
       "      <th>...</th>\n",
       "      <td>...</td>\n",
       "      <td>...</td>\n",
       "      <td>...</td>\n",
       "      <td>...</td>\n",
       "      <td>...</td>\n",
       "      <td>...</td>\n",
       "      <td>...</td>\n",
       "      <td>...</td>\n",
       "      <td>...</td>\n",
       "      <td>...</td>\n",
       "      <td>...</td>\n",
       "      <td>...</td>\n",
       "      <td>...</td>\n",
       "      <td>...</td>\n",
       "      <td>...</td>\n",
       "      <td>...</td>\n",
       "      <td>...</td>\n",
       "      <td>...</td>\n",
       "      <td>...</td>\n",
       "      <td>...</td>\n",
       "      <td>...</td>\n",
       "    </tr>\n",
       "    <tr>\n",
       "      <th>11929</th>\n",
       "      <td>12.346902</td>\n",
       "      <td>-0.801800</td>\n",
       "      <td>12.346902</td>\n",
       "      <td>0.024123</td>\n",
       "      <td>0.682518</td>\n",
       "      <td>263.293</td>\n",
       "      <td>246.157</td>\n",
       "      <td>263.11575</td>\n",
       "      <td>102.0</td>\n",
       "      <td>0.0</td>\n",
       "      <td>...</td>\n",
       "      <td>4.0</td>\n",
       "      <td>1.0</td>\n",
       "      <td>5.0</td>\n",
       "      <td>1.0</td>\n",
       "      <td>1.0</td>\n",
       "      <td>1.0</td>\n",
       "      <td>2.0</td>\n",
       "      <td>3.0</td>\n",
       "      <td>0.13350</td>\n",
       "      <td>65.7418</td>\n",
       "    </tr>\n",
       "    <tr>\n",
       "      <th>11930</th>\n",
       "      <td>9.674588</td>\n",
       "      <td>-0.801690</td>\n",
       "      <td>9.674588</td>\n",
       "      <td>0.174259</td>\n",
       "      <td>0.635371</td>\n",
       "      <td>210.229</td>\n",
       "      <td>196.117</td>\n",
       "      <td>210.08920</td>\n",
       "      <td>82.0</td>\n",
       "      <td>0.0</td>\n",
       "      <td>...</td>\n",
       "      <td>4.0</td>\n",
       "      <td>1.0</td>\n",
       "      <td>4.0</td>\n",
       "      <td>1.0</td>\n",
       "      <td>0.0</td>\n",
       "      <td>2.0</td>\n",
       "      <td>2.0</td>\n",
       "      <td>3.0</td>\n",
       "      <td>0.37390</td>\n",
       "      <td>52.1998</td>\n",
       "    </tr>\n",
       "    <tr>\n",
       "      <th>11931</th>\n",
       "      <td>13.390758</td>\n",
       "      <td>-1.019880</td>\n",
       "      <td>13.390758</td>\n",
       "      <td>0.162294</td>\n",
       "      <td>0.455270</td>\n",
       "      <td>397.427</td>\n",
       "      <td>374.243</td>\n",
       "      <td>397.15253</td>\n",
       "      <td>152.0</td>\n",
       "      <td>0.0</td>\n",
       "      <td>...</td>\n",
       "      <td>6.0</td>\n",
       "      <td>1.0</td>\n",
       "      <td>7.0</td>\n",
       "      <td>2.0</td>\n",
       "      <td>1.0</td>\n",
       "      <td>3.0</td>\n",
       "      <td>4.0</td>\n",
       "      <td>6.0</td>\n",
       "      <td>1.00920</td>\n",
       "      <td>99.0888</td>\n",
       "    </tr>\n",
       "    <tr>\n",
       "      <th>11932</th>\n",
       "      <td>13.179767</td>\n",
       "      <td>-1.161112</td>\n",
       "      <td>13.179767</td>\n",
       "      <td>0.077392</td>\n",
       "      <td>0.772281</td>\n",
       "      <td>357.406</td>\n",
       "      <td>334.222</td>\n",
       "      <td>357.15762</td>\n",
       "      <td>138.0</td>\n",
       "      <td>0.0</td>\n",
       "      <td>...</td>\n",
       "      <td>5.0</td>\n",
       "      <td>2.0</td>\n",
       "      <td>6.0</td>\n",
       "      <td>2.0</td>\n",
       "      <td>2.0</td>\n",
       "      <td>1.0</td>\n",
       "      <td>3.0</td>\n",
       "      <td>4.0</td>\n",
       "      <td>1.06960</td>\n",
       "      <td>91.5416</td>\n",
       "    </tr>\n",
       "    <tr>\n",
       "      <th>11933</th>\n",
       "      <td>10.715530</td>\n",
       "      <td>-0.480844</td>\n",
       "      <td>10.715530</td>\n",
       "      <td>0.139962</td>\n",
       "      <td>0.773508</td>\n",
       "      <td>240.259</td>\n",
       "      <td>224.131</td>\n",
       "      <td>240.11101</td>\n",
       "      <td>94.0</td>\n",
       "      <td>0.0</td>\n",
       "      <td>...</td>\n",
       "      <td>5.0</td>\n",
       "      <td>2.0</td>\n",
       "      <td>6.0</td>\n",
       "      <td>6.0</td>\n",
       "      <td>0.0</td>\n",
       "      <td>0.0</td>\n",
       "      <td>0.0</td>\n",
       "      <td>1.0</td>\n",
       "      <td>0.96870</td>\n",
       "      <td>61.3515</td>\n",
       "    </tr>\n",
       "  </tbody>\n",
       "</table>\n",
       "<p>11934 rows × 123 columns</p>\n",
       "</div>"
      ],
      "text/plain": [
       "       MaxEStateIndex  MinEStateIndex  MaxAbsEStateIndex  MinAbsEStateIndex  \\\n",
       "0           12.820479       -0.183140          12.820479           0.128619   \n",
       "1            6.126257        0.660427           6.126257           0.660427   \n",
       "2            5.719940       -0.219974           5.719940           0.075509   \n",
       "3           12.040634       -0.208718          12.040634           0.006714   \n",
       "4           13.082813       -0.044883          13.082813           0.018472   \n",
       "...               ...             ...                ...                ...   \n",
       "11929       12.346902       -0.801800          12.346902           0.024123   \n",
       "11930        9.674588       -0.801690           9.674588           0.174259   \n",
       "11931       13.390758       -1.019880          13.390758           0.162294   \n",
       "11932       13.179767       -1.161112          13.179767           0.077392   \n",
       "11933       10.715530       -0.480844          10.715530           0.139962   \n",
       "\n",
       "            qed    MolWt  HeavyAtomMolWt  ExactMolWt  NumValenceElectrons  \\\n",
       "0      0.457873  362.476         344.332   362.07590                126.0   \n",
       "1      0.756902  255.708         245.628   255.05632                 88.0   \n",
       "2      0.605920  421.549         390.301   421.25900                164.0   \n",
       "3      0.728361  324.344         308.216   324.13348                122.0   \n",
       "4      0.457249  495.628         458.332   495.29578                194.0   \n",
       "...         ...      ...             ...         ...                  ...   \n",
       "11929  0.682518  263.293         246.157   263.11575                102.0   \n",
       "11930  0.635371  210.229         196.117   210.08920                 82.0   \n",
       "11931  0.455270  397.427         374.243   397.15253                152.0   \n",
       "11932  0.772281  357.406         334.222   357.15762                138.0   \n",
       "11933  0.773508  240.259         224.131   240.11101                 94.0   \n",
       "\n",
       "       NumRadicalElectrons  ...  NumHAcceptors  NumHDonors  NumHeteroatoms  \\\n",
       "0                      0.0  ...            5.0         0.0             7.0   \n",
       "1                      0.0  ...            2.0         1.0             4.0   \n",
       "2                      0.0  ...            8.0         0.0             8.0   \n",
       "3                      0.0  ...            7.0         1.0             8.0   \n",
       "4                      0.0  ...            9.0         1.0            10.0   \n",
       "...                    ...  ...            ...         ...             ...   \n",
       "11929                  0.0  ...            4.0         1.0             5.0   \n",
       "11930                  0.0  ...            4.0         1.0             4.0   \n",
       "11931                  0.0  ...            6.0         1.0             7.0   \n",
       "11932                  0.0  ...            5.0         2.0             6.0   \n",
       "11933                  0.0  ...            5.0         2.0             6.0   \n",
       "\n",
       "       NumRotatableBonds  NumSaturatedCarbocycles  NumSaturatedHeterocycles  \\\n",
       "0                    5.0                      0.0                       1.0   \n",
       "1                    2.0                      0.0                       0.0   \n",
       "2                    6.0                      0.0                       1.0   \n",
       "3                    6.0                      0.0                       0.0   \n",
       "4                   10.0                      0.0                       2.0   \n",
       "...                  ...                      ...                       ...   \n",
       "11929                1.0                      1.0                       1.0   \n",
       "11930                1.0                      0.0                       2.0   \n",
       "11931                2.0                      1.0                       3.0   \n",
       "11932                2.0                      2.0                       1.0   \n",
       "11933                6.0                      0.0                       0.0   \n",
       "\n",
       "       NumSaturatedRings  RingCount  MolLogP     MolMR  \n",
       "0                    1.0        3.0  2.66100   99.7840  \n",
       "1                    0.0        3.0  3.79210   72.2647  \n",
       "2                    1.0        4.0  2.73890  118.7370  \n",
       "3                    0.0        3.0  1.06010   85.8887  \n",
       "4                    2.0        5.0  2.28752  136.7977  \n",
       "...                  ...        ...      ...       ...  \n",
       "11929                2.0        3.0  0.13350   65.7418  \n",
       "11930                2.0        3.0  0.37390   52.1998  \n",
       "11931                4.0        6.0  1.00920   99.0888  \n",
       "11932                3.0        4.0  1.06960   91.5416  \n",
       "11933                0.0        1.0  0.96870   61.3515  \n",
       "\n",
       "[11934 rows x 123 columns]"
      ]
     },
     "execution_count": 174,
     "metadata": {},
     "output_type": "execute_result"
    }
   ],
   "source": [
    "df_1 = df.drop(['ids', 'smiles', 'Y'], axis=1)\n",
    "df_1 = df_1.drop(df_1.iloc[:, 123:], axis=1)\n",
    "df_1"
   ]
  },
  {
   "attachments": {},
   "cell_type": "markdown",
   "metadata": {},
   "source": [
    "Posteriormente procedemos á padronização dos dados númericos para que estes tenham média zero e desvio padrão 1"
   ]
  },
  {
   "cell_type": "code",
   "execution_count": null,
   "metadata": {},
   "outputs": [
    {
     "data": {
      "text/plain": [
       "array([[ 0.57470029,  0.48253239,  0.57470029, ..., -0.12146359,\n",
       "        -0.14705449,  0.1342937 ],\n",
       "       [-1.91429792,  1.06716821, -1.91429792, ..., -0.12146359,\n",
       "         0.47438237, -0.81980567],\n",
       "       [-2.06537174,  0.45700395, -2.06537174, ...,  0.6022241 ,\n",
       "        -0.1042555 ,  0.79139782],\n",
       "       ...,\n",
       "       [ 0.78673737, -0.09737207,  0.78673737, ...,  2.04959948,\n",
       "        -1.05456877,  0.11019099],\n",
       "       [ 0.7082882 , -0.19525339,  0.7082882 , ...,  0.6022241 ,\n",
       "        -1.02138445, -0.15147188],\n",
       "       [-0.20794688,  0.27620809, -0.20794688, ..., -1.56883897,\n",
       "        -1.07681985, -1.19816839]])"
      ]
     },
     "execution_count": 175,
     "metadata": {},
     "output_type": "execute_result"
    }
   ],
   "source": [
    "scaler = StandardScaler()\n",
    "df_scaled = scaler.fit_transform(df_1)\n",
    "df_scaled"
   ]
  },
  {
   "attachments": {},
   "cell_type": "markdown",
   "metadata": {},
   "source": [
    "### 6.1 Redução da Dimensionalidade (PCA):"
   ]
  },
  {
   "cell_type": "code",
   "execution_count": null,
   "metadata": {},
   "outputs": [
    {
     "name": "stdout",
     "output_type": "stream",
     "text": [
      "Número de componentes que explicam 70% dos dados: 11\n"
     ]
    }
   ],
   "source": [
    "componentes = 2     \n",
    "for x in range(2,50):\n",
    "    pca = PCA(n_components=x)\n",
    "    pca.fit(df_scaled)\n",
    "    reduced = pca.transform(df_scaled)\n",
    "    if (sum(pca.explained_variance_ratio_)) > 0.7:\n",
    "        break\n",
    "    componentes +=1\n",
    "\n",
    "print(f\"Número de componentes que explicam 70% dos dados: {componentes}\")"
   ]
  },
  {
   "cell_type": "code",
   "execution_count": null,
   "metadata": {},
   "outputs": [
    {
     "data": {
      "text/plain": [
       "array([[ 0.20644811,  0.86789915, -0.07667146, ..., -0.31753279,\n",
       "         2.71027734,  0.78116647],\n",
       "       [-7.2404753 , -5.03751079, -1.28743739, ...,  2.52966637,\n",
       "         0.95071232,  2.82736091],\n",
       "       [ 3.45785286, -1.46308955, -4.10728795, ..., -1.22348882,\n",
       "        -1.04868167,  0.32726645],\n",
       "       ...,\n",
       "       [ 5.90686489,  6.1728768 , -3.16389062, ...,  2.21438409,\n",
       "         2.72405938,  0.51386167],\n",
       "       [ 3.5585227 ,  6.3076824 , -2.40031704, ...,  0.42074889,\n",
       "         2.45607771,  0.44368148],\n",
       "       [-6.3239353 ,  3.05493282,  3.37004078, ..., -2.38959015,\n",
       "        -1.75383387, -0.03178407]])"
      ]
     },
     "execution_count": 177,
     "metadata": {},
     "output_type": "execute_result"
    }
   ],
   "source": [
    "pca = PCA(n_components=11)\n",
    "df_pca = pca.fit_transform(df_scaled)\n",
    "df_pca"
   ]
  },
  {
   "cell_type": "code",
   "execution_count": null,
   "metadata": {},
   "outputs": [
    {
     "data": {
      "image/png": "[encoded data removed]",
      "text/plain": [
       "<Figure size 432x288 with 1 Axes>"
      ]
     },
     "metadata": {
      "needs_background": "light"
     },
     "output_type": "display_data"
    }
   ],
   "source": [
    "for inib in df['Y'].unique():\n",
    "    ini = df.index[df['Y']==inib]-1\n",
    "    plt.plot(df_pca[ini,0],df_pca[ini,1], 'o' , label=inib)\n",
    "plt.title(\"PCA\")\n",
    "plt.legend(loc='best', shadow=False)\n",
    "plt.show()"
   ]
  },
  {
   "attachments": {},
   "cell_type": "markdown",
   "metadata": {},
   "source": [
    "TSNE"
   ]
  },
  {
   "cell_type": "code",
   "execution_count": null,
   "metadata": {},
   "outputs": [
    {
     "data": {
      "image/png": "[encoded data removed]",
      "text/plain": [
       "<Figure size 432x288 with 1 Axes>"
      ]
     },
     "metadata": {
      "needs_background": "light"
     },
     "output_type": "display_data"
    }
   ],
   "source": [
    "from sklearn.manifold import TSNE\n",
    "tsne = TSNE(n_components=2, n_iter= 250)\n",
    "points = tsne.fit_transform(df_scaled)\n",
    "\n",
    "for inib in df['Y'].unique():\n",
    "    ini = df.index[df['Y']==inib]-1\n",
    "    plt.plot(points[ini,0],points[ini,1], 'o' , label=inib)\n",
    "plt.title(\"TSNE\")\n",
    "plt.legend(loc='best', shadow=False)\n",
    "plt.show()"
   ]
  },
  {
   "attachments": {},
   "cell_type": "markdown",
   "metadata": {},
   "source": [
    "### 6.2. K-means Clustering"
   ]
  },
  {
   "attachments": {},
   "cell_type": "markdown",
   "metadata": {},
   "source": [
    "Determinação do k"
   ]
  },
  {
   "cell_type": "code",
   "execution_count": null,
   "metadata": {},
   "outputs": [
    {
     "name": "stderr",
     "output_type": "stream",
     "text": [
      "C:\\Users\\luis-\\AppData\\Roaming\\Python\\Python39\\site-packages\\sklearn\\cluster\\_kmeans.py:870: FutureWarning: The default value of `n_init` will change from 10 to 'auto' in 1.4. Set the value of `n_init` explicitly to suppress the warning\n",
      "  warnings.warn(\n",
      "C:\\Users\\luis-\\AppData\\Roaming\\Python\\Python39\\site-packages\\sklearn\\cluster\\_kmeans.py:870: FutureWarning: The default value of `n_init` will change from 10 to 'auto' in 1.4. Set the value of `n_init` explicitly to suppress the warning\n",
      "  warnings.warn(\n",
      "C:\\Users\\luis-\\AppData\\Roaming\\Python\\Python39\\site-packages\\sklearn\\cluster\\_kmeans.py:870: FutureWarning: The default value of `n_init` will change from 10 to 'auto' in 1.4. Set the value of `n_init` explicitly to suppress the warning\n",
      "  warnings.warn(\n",
      "C:\\Users\\luis-\\AppData\\Roaming\\Python\\Python39\\site-packages\\sklearn\\cluster\\_kmeans.py:870: FutureWarning: The default value of `n_init` will change from 10 to 'auto' in 1.4. Set the value of `n_init` explicitly to suppress the warning\n",
      "  warnings.warn(\n",
      "C:\\Users\\luis-\\AppData\\Roaming\\Python\\Python39\\site-packages\\sklearn\\cluster\\_kmeans.py:870: FutureWarning: The default value of `n_init` will change from 10 to 'auto' in 1.4. Set the value of `n_init` explicitly to suppress the warning\n",
      "  warnings.warn(\n",
      "C:\\Users\\luis-\\AppData\\Roaming\\Python\\Python39\\site-packages\\sklearn\\cluster\\_kmeans.py:870: FutureWarning: The default value of `n_init` will change from 10 to 'auto' in 1.4. Set the value of `n_init` explicitly to suppress the warning\n",
      "  warnings.warn(\n",
      "C:\\Users\\luis-\\AppData\\Roaming\\Python\\Python39\\site-packages\\sklearn\\cluster\\_kmeans.py:870: FutureWarning: The default value of `n_init` will change from 10 to 'auto' in 1.4. Set the value of `n_init` explicitly to suppress the warning\n",
      "  warnings.warn(\n",
      "C:\\Users\\luis-\\AppData\\Roaming\\Python\\Python39\\site-packages\\sklearn\\cluster\\_kmeans.py:870: FutureWarning: The default value of `n_init` will change from 10 to 'auto' in 1.4. Set the value of `n_init` explicitly to suppress the warning\n",
      "  warnings.warn(\n",
      "C:\\Users\\luis-\\AppData\\Roaming\\Python\\Python39\\site-packages\\sklearn\\cluster\\_kmeans.py:870: FutureWarning: The default value of `n_init` will change from 10 to 'auto' in 1.4. Set the value of `n_init` explicitly to suppress the warning\n",
      "  warnings.warn(\n",
      "C:\\Users\\luis-\\AppData\\Roaming\\Python\\Python39\\site-packages\\sklearn\\cluster\\_kmeans.py:870: FutureWarning: The default value of `n_init` will change from 10 to 'auto' in 1.4. Set the value of `n_init` explicitly to suppress the warning\n",
      "  warnings.warn(\n"
     ]
    },
    {
     "data": {
      "image/png": "[encoded data removed]",
      "text/plain": [
       "<Figure size 432x288 with 1 Axes>"
      ]
     },
     "metadata": {
      "needs_background": "light"
     },
     "output_type": "display_data"
    }
   ],
   "source": [
    "from sklearn.cluster import KMeans\n",
    "k_values = range(1, 11)\n",
    "lista = []\n",
    "\n",
    "for k in k_values:\n",
    "    kmeans = KMeans(n_clusters=k, random_state=43)\n",
    "    kmeans.fit(df_scaled)\n",
    "    lista.append(kmeans.inertia_)\n",
    "plt.plot(k_values, lista, 'bx-')\n",
    "plt.xlabel('clusters')\n",
    "plt.ylabel('distancias')\n",
    "plt.show()"
   ]
  },
  {
   "cell_type": "code",
   "execution_count": null,
   "metadata": {},
   "outputs": [
    {
     "name": "stderr",
     "output_type": "stream",
     "text": [
      "C:\\Users\\luis-\\AppData\\Roaming\\Python\\Python39\\site-packages\\sklearn\\cluster\\_kmeans.py:870: FutureWarning: The default value of `n_init` will change from 10 to 'auto' in 1.4. Set the value of `n_init` explicitly to suppress the warning\n",
      "  warnings.warn(\n",
      "C:\\Users\\luis-\\AppData\\Roaming\\Python\\Python39\\site-packages\\sklearn\\cluster\\_kmeans.py:870: FutureWarning: The default value of `n_init` will change from 10 to 'auto' in 1.4. Set the value of `n_init` explicitly to suppress the warning\n",
      "  warnings.warn(\n",
      "C:\\Users\\luis-\\AppData\\Roaming\\Python\\Python39\\site-packages\\sklearn\\cluster\\_kmeans.py:870: FutureWarning: The default value of `n_init` will change from 10 to 'auto' in 1.4. Set the value of `n_init` explicitly to suppress the warning\n",
      "  warnings.warn(\n",
      "C:\\Users\\luis-\\AppData\\Roaming\\Python\\Python39\\site-packages\\sklearn\\cluster\\_kmeans.py:870: FutureWarning: The default value of `n_init` will change from 10 to 'auto' in 1.4. Set the value of `n_init` explicitly to suppress the warning\n",
      "  warnings.warn(\n",
      "C:\\Users\\luis-\\AppData\\Roaming\\Python\\Python39\\site-packages\\sklearn\\cluster\\_kmeans.py:870: FutureWarning: The default value of `n_init` will change from 10 to 'auto' in 1.4. Set the value of `n_init` explicitly to suppress the warning\n",
      "  warnings.warn(\n",
      "C:\\Users\\luis-\\AppData\\Roaming\\Python\\Python39\\site-packages\\sklearn\\cluster\\_kmeans.py:870: FutureWarning: The default value of `n_init` will change from 10 to 'auto' in 1.4. Set the value of `n_init` explicitly to suppress the warning\n",
      "  warnings.warn(\n",
      "C:\\Users\\luis-\\AppData\\Roaming\\Python\\Python39\\site-packages\\sklearn\\cluster\\_kmeans.py:870: FutureWarning: The default value of `n_init` will change from 10 to 'auto' in 1.4. Set the value of `n_init` explicitly to suppress the warning\n",
      "  warnings.warn(\n",
      "C:\\Users\\luis-\\AppData\\Roaming\\Python\\Python39\\site-packages\\sklearn\\cluster\\_kmeans.py:870: FutureWarning: The default value of `n_init` will change from 10 to 'auto' in 1.4. Set the value of `n_init` explicitly to suppress the warning\n",
      "  warnings.warn(\n",
      "C:\\Users\\luis-\\AppData\\Roaming\\Python\\Python39\\site-packages\\sklearn\\cluster\\_kmeans.py:870: FutureWarning: The default value of `n_init` will change from 10 to 'auto' in 1.4. Set the value of `n_init` explicitly to suppress the warning\n",
      "  warnings.warn(\n"
     ]
    },
    {
     "ename": "KeyboardInterrupt",
     "evalue": "",
     "output_type": "error",
     "traceback": [
      "\u001b[1;31m---------------------------------------------------------------------------\u001b[0m",
      "\u001b[1;31mKeyboardInterrupt\u001b[0m                         Traceback (most recent call last)",
      "File \u001b[1;32m<__array_function__ internals>:177\u001b[0m, in \u001b[0;36mwhere\u001b[1;34m(*args, **kwargs)\u001b[0m\n",
      "\u001b[1;31mKeyboardInterrupt\u001b[0m: "
     ]
    },
    {
     "name": "stderr",
     "output_type": "stream",
     "text": [
      "Exception ignored in: 'sklearn.cluster._k_means_common._relocate_empty_clusters_dense'\n",
      "Traceback (most recent call last):\n",
      "  File \"<__array_function__ internals>\", line 177, in where\n",
      "KeyboardInterrupt: \n"
     ]
    }
   ],
   "source": [
    "from sklearn.cluster import KMeans   \n",
    "from sklearn.metrics import silhouette_score\n",
    "\n",
    "silhouette_coefficients = []\n",
    "\n",
    "for k in range(2, 11):\n",
    "    kmeans = KMeans(n_clusters=k) \n",
    "    kmeans.fit(df_scaled)\n",
    "    score = silhouette_score(df_scaled, kmeans.labels_)\n",
    "    silhouette_coefficients.append((score, k))"
   ]
  },
  {
   "cell_type": "code",
   "execution_count": null,
   "metadata": {},
   "outputs": [
    {
     "data": {
      "text/plain": [
       "[(0.15712908167193063, 2),\n",
       " (0.11198434974151725, 3),\n",
       " (0.10674368705249695, 4),\n",
       " (0.09298688454677576, 5),\n",
       " (0.09576652758678877, 6),\n",
       " (0.08456565243792893, 7),\n",
       " (0.08603273853309949, 8),\n",
       " (0.08355111280649763, 9),\n",
       " (0.08326286429887327, 10)]"
      ]
     },
     "execution_count": 44,
     "metadata": {},
     "output_type": "execute_result"
    }
   ],
   "source": [
    "silhouette_coefficients"
   ]
  },
  {
   "attachments": {},
   "cell_type": "markdown",
   "metadata": {},
   "source": [
    "**Conclusão**: De acordo com as análises feitas anteriormente, determinamos um valor de k=2, no entanto estes métodos não são exatos, sendo apenas uma aproximação."
   ]
  },
  {
   "cell_type": "code",
   "execution_count": null,
   "metadata": {},
   "outputs": [
    {
     "name": "stderr",
     "output_type": "stream",
     "text": [
      "C:\\Users\\luis-\\AppData\\Roaming\\Python\\Python39\\site-packages\\sklearn\\cluster\\_kmeans.py:870: FutureWarning: The default value of `n_init` will change from 10 to 'auto' in 1.4. Set the value of `n_init` explicitly to suppress the warning\n",
      "  warnings.warn(\n"
     ]
    },
    {
     "data": {
      "text/html": [
       "<div>\n",
       "<style scoped>\n",
       "    .dataframe tbody tr th:only-of-type {\n",
       "        vertical-align: middle;\n",
       "    }\n",
       "\n",
       "    .dataframe tbody tr th {\n",
       "        vertical-align: top;\n",
       "    }\n",
       "\n",
       "    .dataframe thead th {\n",
       "        text-align: right;\n",
       "    }\n",
       "</style>\n",
       "<table border=\"1\" class=\"dataframe\">\n",
       "  <thead>\n",
       "    <tr style=\"text-align: right;\">\n",
       "      <th>Y</th>\n",
       "      <th>0</th>\n",
       "      <th>1</th>\n",
       "    </tr>\n",
       "    <tr>\n",
       "      <th>clusters</th>\n",
       "      <th></th>\n",
       "      <th></th>\n",
       "    </tr>\n",
       "  </thead>\n",
       "  <tbody>\n",
       "    <tr>\n",
       "      <th>0</th>\n",
       "      <td>5326</td>\n",
       "      <td>2047</td>\n",
       "    </tr>\n",
       "    <tr>\n",
       "      <th>1</th>\n",
       "      <td>2583</td>\n",
       "      <td>1978</td>\n",
       "    </tr>\n",
       "  </tbody>\n",
       "</table>\n",
       "</div>"
      ],
      "text/plain": [
       "Y            0     1\n",
       "clusters            \n",
       "0         5326  2047\n",
       "1         2583  1978"
      ]
     },
     "execution_count": 182,
     "metadata": {},
     "output_type": "execute_result"
    }
   ],
   "source": [
    "k=2   \n",
    "km1 = KMeans(n_clusters=k, max_iter=1000)\n",
    "km1.fit(df_scaled)\n",
    "labels=km1.predict(df_scaled)\n",
    "centroids=km1.cluster_centers_\n",
    "\n",
    "pd.crosstab(labels, df[\"Y\"], rownames=[\"clusters\"])"
   ]
  },
  {
   "attachments": {},
   "cell_type": "markdown",
   "metadata": {},
   "source": [
    "**Conclusão**: Através das análises das diferentes analises de PCA e K-means clustering, é possível concluir que  "
   ]
  },
  {
   "attachments": {},
   "cell_type": "markdown",
   "metadata": {},
   "source": [
    "Visualização"
   ]
  },
  {
   "cell_type": "code",
   "execution_count": null,
   "metadata": {},
   "outputs": [
    {
     "data": {
      "image/png": "[encoded data removed]",
      "text/plain": [
       "<Figure size 432x288 with 1 Axes>"
      ]
     },
     "metadata": {
      "needs_background": "light"
     },
     "output_type": "display_data"
    }
   ],
   "source": [
    "plt.scatter(df_pca[:,0], df_pca[:,1], c=labels, cmap='viridis')\n",
    "plt.xlabel('PCA 1')\n",
    "plt.ylabel('PCA 2')\n",
    "plt.title('Clusters')\n",
    "plt.show()\n"
   ]
  },
  {
   "attachments": {},
   "cell_type": "markdown",
   "metadata": {},
   "source": [
    "# Machine-learning"
   ]
  },
  {
   "attachments": {},
   "cell_type": "markdown",
   "metadata": {},
   "source": [
    "As variáveis escolhidas para análise de machine learning foram aquelas que considerámos ter mais significado biológico, excetuando aquelas que apresentavam um coeficiente de correlação elevado (FpDensityMorgan2, FpDensityMorgan3) como podemos constatar pelo heatmap realizado anteriormente. Adicionalmente foi adicionado ao dataset a variável a testar [Y] - (Com ou sem inibição)."
   ]
  },
  {
   "cell_type": "code",
   "execution_count": null,
   "metadata": {},
   "outputs": [],
   "source": [
    "l.remove(\"FpDensityMorgan2\")\n",
    "l.remove(\"FpDensityMorgan3\")\n",
    "l.append(\"Y\")"
   ]
  },
  {
   "cell_type": "code",
   "execution_count": null,
   "metadata": {},
   "outputs": [
    {
     "data": {
      "text/html": [
       "<div>\n",
       "<style scoped>\n",
       "    .dataframe tbody tr th:only-of-type {\n",
       "        vertical-align: middle;\n",
       "    }\n",
       "\n",
       "    .dataframe tbody tr th {\n",
       "        vertical-align: top;\n",
       "    }\n",
       "\n",
       "    .dataframe thead th {\n",
       "        text-align: right;\n",
       "    }\n",
       "</style>\n",
       "<table border=\"1\" class=\"dataframe\">\n",
       "  <thead>\n",
       "    <tr style=\"text-align: right;\">\n",
       "      <th></th>\n",
       "      <th>MaxAbsEStateIndex</th>\n",
       "      <th>MinAbsEStateIndex</th>\n",
       "      <th>NumValenceElectrons</th>\n",
       "      <th>FpDensityMorgan1</th>\n",
       "      <th>MolWt</th>\n",
       "      <th>qed</th>\n",
       "      <th>BertzCT</th>\n",
       "      <th>Y</th>\n",
       "    </tr>\n",
       "  </thead>\n",
       "  <tbody>\n",
       "    <tr>\n",
       "      <th>0</th>\n",
       "      <td>12.820479</td>\n",
       "      <td>0.128619</td>\n",
       "      <td>126.0</td>\n",
       "      <td>1.166667</td>\n",
       "      <td>362.476</td>\n",
       "      <td>0.457873</td>\n",
       "      <td>745.10614</td>\n",
       "      <td>1</td>\n",
       "    </tr>\n",
       "    <tr>\n",
       "      <th>1</th>\n",
       "      <td>6.126257</td>\n",
       "      <td>0.660427</td>\n",
       "      <td>88.0</td>\n",
       "      <td>0.888889</td>\n",
       "      <td>255.708</td>\n",
       "      <td>0.756902</td>\n",
       "      <td>661.56570</td>\n",
       "      <td>1</td>\n",
       "    </tr>\n",
       "    <tr>\n",
       "      <th>2</th>\n",
       "      <td>5.719940</td>\n",
       "      <td>0.075509</td>\n",
       "      <td>164.0</td>\n",
       "      <td>1.000000</td>\n",
       "      <td>421.549</td>\n",
       "      <td>0.605920</td>\n",
       "      <td>974.84500</td>\n",
       "      <td>1</td>\n",
       "    </tr>\n",
       "    <tr>\n",
       "      <th>3</th>\n",
       "      <td>12.040634</td>\n",
       "      <td>0.006714</td>\n",
       "      <td>122.0</td>\n",
       "      <td>1.208333</td>\n",
       "      <td>324.344</td>\n",
       "      <td>0.728361</td>\n",
       "      <td>818.19965</td>\n",
       "      <td>1</td>\n",
       "    </tr>\n",
       "    <tr>\n",
       "      <th>4</th>\n",
       "      <td>13.082813</td>\n",
       "      <td>0.018472</td>\n",
       "      <td>194.0</td>\n",
       "      <td>1.222222</td>\n",
       "      <td>495.628</td>\n",
       "      <td>0.457249</td>\n",
       "      <td>1197.71120</td>\n",
       "      <td>0</td>\n",
       "    </tr>\n",
       "    <tr>\n",
       "      <th>...</th>\n",
       "      <td>...</td>\n",
       "      <td>...</td>\n",
       "      <td>...</td>\n",
       "      <td>...</td>\n",
       "      <td>...</td>\n",
       "      <td>...</td>\n",
       "      <td>...</td>\n",
       "      <td>...</td>\n",
       "    </tr>\n",
       "    <tr>\n",
       "      <th>11929</th>\n",
       "      <td>12.346902</td>\n",
       "      <td>0.024123</td>\n",
       "      <td>102.0</td>\n",
       "      <td>1.210526</td>\n",
       "      <td>263.293</td>\n",
       "      <td>0.682518</td>\n",
       "      <td>483.83765</td>\n",
       "      <td>0</td>\n",
       "    </tr>\n",
       "    <tr>\n",
       "      <th>11930</th>\n",
       "      <td>9.674588</td>\n",
       "      <td>0.174259</td>\n",
       "      <td>82.0</td>\n",
       "      <td>1.466667</td>\n",
       "      <td>210.229</td>\n",
       "      <td>0.635371</td>\n",
       "      <td>316.54962</td>\n",
       "      <td>0</td>\n",
       "    </tr>\n",
       "    <tr>\n",
       "      <th>11931</th>\n",
       "      <td>13.390758</td>\n",
       "      <td>0.162294</td>\n",
       "      <td>152.0</td>\n",
       "      <td>1.068966</td>\n",
       "      <td>397.427</td>\n",
       "      <td>0.455270</td>\n",
       "      <td>891.82336</td>\n",
       "      <td>0</td>\n",
       "    </tr>\n",
       "    <tr>\n",
       "      <th>11932</th>\n",
       "      <td>13.179767</td>\n",
       "      <td>0.077392</td>\n",
       "      <td>138.0</td>\n",
       "      <td>1.000000</td>\n",
       "      <td>357.406</td>\n",
       "      <td>0.772281</td>\n",
       "      <td>747.82825</td>\n",
       "      <td>0</td>\n",
       "    </tr>\n",
       "    <tr>\n",
       "      <th>11933</th>\n",
       "      <td>10.715530</td>\n",
       "      <td>0.139962</td>\n",
       "      <td>94.0</td>\n",
       "      <td>1.705882</td>\n",
       "      <td>240.259</td>\n",
       "      <td>0.773508</td>\n",
       "      <td>373.30325</td>\n",
       "      <td>0</td>\n",
       "    </tr>\n",
       "  </tbody>\n",
       "</table>\n",
       "<p>11934 rows × 8 columns</p>\n",
       "</div>"
      ],
      "text/plain": [
       "       MaxAbsEStateIndex  MinAbsEStateIndex  NumValenceElectrons  \\\n",
       "0              12.820479           0.128619                126.0   \n",
       "1               6.126257           0.660427                 88.0   \n",
       "2               5.719940           0.075509                164.0   \n",
       "3              12.040634           0.006714                122.0   \n",
       "4              13.082813           0.018472                194.0   \n",
       "...                  ...                ...                  ...   \n",
       "11929          12.346902           0.024123                102.0   \n",
       "11930           9.674588           0.174259                 82.0   \n",
       "11931          13.390758           0.162294                152.0   \n",
       "11932          13.179767           0.077392                138.0   \n",
       "11933          10.715530           0.139962                 94.0   \n",
       "\n",
       "       FpDensityMorgan1    MolWt       qed     BertzCT  Y  \n",
       "0              1.166667  362.476  0.457873   745.10614  1  \n",
       "1              0.888889  255.708  0.756902   661.56570  1  \n",
       "2              1.000000  421.549  0.605920   974.84500  1  \n",
       "3              1.208333  324.344  0.728361   818.19965  1  \n",
       "4              1.222222  495.628  0.457249  1197.71120  0  \n",
       "...                 ...      ...       ...         ... ..  \n",
       "11929          1.210526  263.293  0.682518   483.83765  0  \n",
       "11930          1.466667  210.229  0.635371   316.54962  0  \n",
       "11931          1.068966  397.427  0.455270   891.82336  0  \n",
       "11932          1.000000  357.406  0.772281   747.82825  0  \n",
       "11933          1.705882  240.259  0.773508   373.30325  0  \n",
       "\n",
       "[11934 rows x 8 columns]"
      ]
     },
     "execution_count": 185,
     "metadata": {},
     "output_type": "execute_result"
    }
   ],
   "source": [
    "df[l]"
   ]
  },
  {
   "attachments": {},
   "cell_type": "markdown",
   "metadata": {},
   "source": [
    "De forma a realizar os diferentes métodos de machine learning foram criados 4 datasets para o treino dos nossos modelos, sendo que usamos uma percentagem de 70% para treino e 30% para teste."
   ]
  },
  {
   "cell_type": "code",
   "execution_count": null,
   "metadata": {},
   "outputs": [
    {
     "data": {
      "text/plain": [
       "((8353, 7), (3581, 7), (8353,), (3581,))"
      ]
     },
     "execution_count": 186,
     "metadata": {},
     "output_type": "execute_result"
    }
   ],
   "source": [
    "from sklearn.model_selection import train_test_split\n",
    "\n",
    "X = df[l].drop(['Y'],axis=1)\n",
    "y = df[l]['Y']\n",
    "X_train, X_test, y_train, y_test = train_test_split(X,y, test_size=0.3, random_state=42)\n",
    "X_train.shape, X_test.shape, y_train.shape, y_test.shape"
   ]
  },
  {
   "attachments": {},
   "cell_type": "markdown",
   "metadata": {},
   "source": [
    "De seguida vamos testar vários modelos:"
   ]
  },
  {
   "cell_type": "code",
   "execution_count": null,
   "metadata": {},
   "outputs": [],
   "source": [
    "precisoes = []\n",
    "modelos = [] "
   ]
  },
  {
   "attachments": {},
   "cell_type": "markdown",
   "metadata": {},
   "source": [
    "## RandomForest\n",
    "\n",
    "Random Forest (Floresta Aleatória) é um algoritmo de machine learning que utiliza um conjunto de árvores de decisão para realizar classificação ou regressão. A principal ideia por trás do Random Forest é combinar as previsões de várias árvores de decisão para obter um resultado final mais robusto e preciso."
   ]
  },
  {
   "cell_type": "code",
   "execution_count": null,
   "metadata": {},
   "outputs": [
    {
     "name": "stdout",
     "output_type": "stream",
     "text": [
      "Matriz de confusão:\n",
      "[[2065  325]\n",
      " [ 563  628]]\n",
      "\n",
      "Accuracy: 0.7520245741413013\n",
      "Precision: 0.6589716684155299\n",
      "Recall: 0.5272879932829555\n",
      "F1-score: 0.585820895522388\n",
      "AUC-ROC: 0.6956523648423145\n",
      "Raiz quadrada do erro: 0.49797131027670527\n"
     ]
    }
   ],
   "source": [
    "from sklearn.ensemble import RandomForestClassifier\n",
    "from sklearn.metrics import accuracy_score, precision_score, recall_score, f1_score, confusion_matrix,roc_auc_score,mean_squared_error\n",
    "from math import sqrt\n",
    "random_classifier = RandomForestClassifier()\n",
    "\n",
    "random_classifier.fit(X_train, y_train)\n",
    "preds = random_classifier.predict(X_test)\n",
    "print(\"Matriz de confusão:\")\n",
    "print(confusion_matrix(y_test, preds, labels=[0,1]))\n",
    "accuracy = accuracy_score(y_test, preds)\n",
    "precision = precision_score(y_test, preds)\n",
    "recall = recall_score(y_test, preds)\n",
    "f1 = f1_score(y_test, preds)\n",
    "auc_roc = roc_auc_score(y_test, preds)\n",
    "mean_error = mean_squared_error(y_test, preds)  \n",
    "root_mean = sqrt(mean_error) \n",
    "\n",
    "precisoes.append(accuracy)\n",
    "modelos.append(\"Random Forest\")\n",
    "\n",
    "\n",
    "print()\n",
    "print(\"Accuracy:\", accuracy)\n",
    "print(\"Precision:\", precision)\n",
    "print(\"Recall:\", recall)\n",
    "print(\"F1-score:\", f1)\n",
    "print(\"AUC-ROC:\", auc_roc)\n",
    "print(\"Raiz quadrada do erro:\", root_mean)"
   ]
  },
  {
   "attachments": {},
   "cell_type": "markdown",
   "metadata": {},
   "source": [
    "A matriz de confusão obtida revela 2065 verdadeiros negativos, 563 falsos negativos, 325 falsos positivos e 628 verdadeiros positivos. Relativamente às métricas de desempenho, vale realçar que a precisão (accuracy) obtida para o modelo foi de aproxidamente 75%, indicando um bom nível de precisão do modelo."
   ]
  },
  {
   "attachments": {},
   "cell_type": "markdown",
   "metadata": {},
   "source": [
    "## Importância das variáveis do RandomForest\n"
   ]
  },
  {
   "cell_type": "code",
   "execution_count": null,
   "metadata": {},
   "outputs": [
    {
     "name": "stdout",
     "output_type": "stream",
     "text": [
      "              Variável  Importancia\n",
      "0    MaxAbsEStateIndex     0.155210\n",
      "1    MinAbsEStateIndex     0.123054\n",
      "2  NumValenceElectrons     0.117493\n",
      "3     FpDensityMorgan1     0.109969\n",
      "4                MolWt     0.158809\n",
      "5                  qed     0.142466\n",
      "6              BertzCT     0.192998\n"
     ]
    },
    {
     "data": {
      "image/png": "[encoded data removed]",
      "text/plain": [
       "<Figure size 432x288 with 1 Axes>"
      ]
     },
     "metadata": {
      "needs_background": "light"
     },
     "output_type": "display_data"
    }
   ],
   "source": [
    "import matplotlib.pyplot as plt\n",
    "importancias = random_classifier.feature_importances_\n",
    "df_impor = pd.DataFrame({'Variável': X.columns, 'Importancia': importancias})\n",
    "print(df_impor)\n",
    "\n",
    "#df_impor = df.Importancia.sort_values(ascending = False)\n",
    "plt.bar(df_impor['Variável'], df_impor['Importancia'])\n",
    "plt.ylabel(\" \")\n",
    "\n",
    "plt.show()"
   ]
  },
  {
   "cell_type": "code",
   "execution_count": null,
   "metadata": {},
   "outputs": [],
   "source": [
    "# ver se da\n",
    "\n",
    "#from sklearn.svm import SVR \n",
    "#from sklearn.metrics import mean_squared_error\n",
    "#import math\n",
    "#svm_regressor = SVR()\n",
    "\n",
    "#svm_regressor.fit(X_train, y_train)\n",
    "\n",
    "#preds = svm_regressor.predict(X_test)\n",
    "\n",
    "#mean_error = mean_squared_error(y_test, preds)\n",
    "#root_mean = math.sqrt(mean_error)\n",
    "#root_mean"
   ]
  },
  {
   "cell_type": "code",
   "execution_count": null,
   "metadata": {},
   "outputs": [],
   "source": [
    "#from sklearn.svm import SVC\n",
    "#from sklearn.metrics import mean_squared_error\n",
    "#import math\n",
    "\n",
    "#svm_classifier = SVC(kernel=\"linear\")\n",
    "#svm_classifier.fit(X_train, y_train)\n",
    "#pred = svm_classifier.predict(X_test)\n"
   ]
  },
  {
   "attachments": {},
   "cell_type": "markdown",
   "metadata": {},
   "source": [
    "## Redes Neuronais"
   ]
  },
  {
   "cell_type": "code",
   "execution_count": 223,
   "metadata": {},
   "outputs": [
    {
     "name": "stdout",
     "output_type": "stream",
     "text": [
      "Matriz de confusão:\n",
      "[[2320   70]\n",
      " [1057  134]]\n",
      "\n",
      "Accuracy: 0.6852834403797822\n",
      "Precision: 0.6568627450980392\n",
      "Recall: 0.11251049538203191\n",
      "F1-score: 0.19211469534050177\n",
      "AUC-ROC: 0.5416108962265809\n",
      "Raiz quadrada do erro: 0.5609960424283026\n"
     ]
    }
   ],
   "source": [
    "from sklearn.neural_network import MLPClassifier\n",
    "from sklearn.metrics import mean_squared_error\n",
    "import math\n",
    "\n",
    "mlp_class = MLPClassifier()\n",
    "\n",
    "mlp_class.fit(X_train, y_train)\n",
    "\n",
    "preds = mlp_class.predict(X_test)\n",
    "\n",
    "print(\"Matriz de confusão:\")\n",
    "print(confusion_matrix(y_test, preds, labels=[0,1]))\n",
    "accuracy = accuracy_score(y_test, preds)\n",
    "precision = precision_score(y_test, preds)\n",
    "recall = recall_score(y_test, preds)\n",
    "f1 = f1_score(y_test, preds)\n",
    "auc_roc = roc_auc_score(y_test, preds)\n",
    "mean_error = mean_squared_error(y_test, preds)  \n",
    "root_mean = sqrt(mean_error)\n",
    "\n",
    "\n",
    "precisoes.append(accuracy)\n",
    "modelos.append(\"Redes Neuronais\")\n",
    "\n",
    "\n",
    "mean_error = mean_squared_error(y_test, preds)\n",
    "root_mean = math.sqrt(mean_error)\n",
    "root_mean\n",
    "\n",
    "print()\n",
    "print(\"Accuracy:\", accuracy)\n",
    "print(\"Precision:\", precision)\n",
    "print(\"Recall:\", recall)\n",
    "print(\"F1-score:\", f1)\n",
    "print(\"AUC-ROC:\", auc_roc)\n",
    "print(\"Raiz quadrada do erro:\", root_mean)"
   ]
  },
  {
   "attachments": {},
   "cell_type": "markdown",
   "metadata": {},
   "source": [
    "A matriz de confusão obtida revela 1506 verdadeiros negativos, 288 falsos negativos, 884 falsos positivos e 903 verdadeiros positivos. Relativamente às métricas de desempenho, vale realçar que a precisão (accuracy) obtida para o modelo foi de aproxidamente 69%, indicando um bom nível de precisão do modelo."
   ]
  },
  {
   "cell_type": "code",
   "execution_count": null,
   "metadata": {},
   "outputs": [
    {
     "ename": "AttributeError",
     "evalue": "'MLPClassifier' object has no attribute 'feature_importances_'",
     "output_type": "error",
     "traceback": [
      "\u001b[1;31m---------------------------------------------------------------------------\u001b[0m",
      "\u001b[1;31mAttributeError\u001b[0m                            Traceback (most recent call last)",
      "\u001b[1;32mc:\\Users\\luis-\\Documents\\GitHub\\Extra-o_Work\\Trabalho parte 2\\cyp2c9\\trabalho 2.ipynb Cell 113\u001b[0m in \u001b[0;36m<cell line: 2>\u001b[1;34m()\u001b[0m\n\u001b[0;32m      <a href='vscode-notebook-cell:/c%3A/Users/luis-/Documents/GitHub/Extra-o_Work/Trabalho%20parte%202/cyp2c9/trabalho%202.ipynb#Z1063sZmlsZQ%3D%3D?line=0'>1</a>\u001b[0m \u001b[39mimport\u001b[39;00m \u001b[39mmatplotlib\u001b[39;00m\u001b[39m.\u001b[39;00m\u001b[39mpyplot\u001b[39;00m \u001b[39mas\u001b[39;00m \u001b[39mplt\u001b[39;00m\n\u001b[1;32m----> <a href='vscode-notebook-cell:/c%3A/Users/luis-/Documents/GitHub/Extra-o_Work/Trabalho%20parte%202/cyp2c9/trabalho%202.ipynb#Z1063sZmlsZQ%3D%3D?line=1'>2</a>\u001b[0m importancias \u001b[39m=\u001b[39m mlp_class\u001b[39m.\u001b[39;49mfeature_importances_\n\u001b[0;32m      <a href='vscode-notebook-cell:/c%3A/Users/luis-/Documents/GitHub/Extra-o_Work/Trabalho%20parte%202/cyp2c9/trabalho%202.ipynb#Z1063sZmlsZQ%3D%3D?line=2'>3</a>\u001b[0m df_impor \u001b[39m=\u001b[39m pd\u001b[39m.\u001b[39mDataFrame({\u001b[39m'\u001b[39m\u001b[39mVariável\u001b[39m\u001b[39m'\u001b[39m: X\u001b[39m.\u001b[39mcolumns, \u001b[39m'\u001b[39m\u001b[39mImportancia\u001b[39m\u001b[39m'\u001b[39m: importancias})\n\u001b[0;32m      <a href='vscode-notebook-cell:/c%3A/Users/luis-/Documents/GitHub/Extra-o_Work/Trabalho%20parte%202/cyp2c9/trabalho%202.ipynb#Z1063sZmlsZQ%3D%3D?line=3'>4</a>\u001b[0m \u001b[39mprint\u001b[39m(df_impor)\n",
      "\u001b[1;31mAttributeError\u001b[0m: 'MLPClassifier' object has no attribute 'feature_importances_'"
     ]
    }
   ],
   "source": [
    "import matplotlib.pyplot as plt\n",
    "importancias = mlp_class.feature_importances_\n",
    "df_impor = pd.DataFrame({'Variável': X.columns, 'Importancia': importancias})\n",
    "print(df_impor)\n",
    "\n",
    "#df_impor = df.Importancia.sort_values(ascending = False)\n",
    "plt.bar(df_impor['Variável'], df_impor['Importancia'])\n",
    "plt.show()"
   ]
  },
  {
   "attachments": {},
   "cell_type": "markdown",
   "metadata": {},
   "source": [
    "## KNeighbors"
   ]
  },
  {
   "attachments": {},
   "cell_type": "markdown",
   "metadata": {},
   "source": [
    "K-Nearest Neighbors (KNN) é um algoritmo de machine learning utilizado para problemas de classificação e regressão. No caso da classificação, o KNN determina a classe de um ponto de dados de teste encontrando os k vizinhos mais próximos desse ponto e atribuindo a classe mais comum entre esses vizinhos ao ponto de teste. A distância entre os pontos é geralmente calculada usando a distância Euclidiana. O valor de k, determinado antecipadamente, define quantos vizinhos são considerados."
   ]
  },
  {
   "cell_type": "code",
   "execution_count": 222,
   "metadata": {},
   "outputs": [
    {
     "name": "stdout",
     "output_type": "stream",
     "text": [
      "Matriz de confusão:\n",
      "[[1952  438]\n",
      " [ 635  556]]\n",
      "\n",
      "Accuracy: 0.7003630270874057\n",
      "Precision: 0.5593561368209256\n",
      "Recall: 0.46683459277917716\n",
      "F1-score: 0.5089244851258581\n",
      "AUC-ROC: 0.6417854972264087\n",
      "Raiz quadrada do erro: 0.5473910603148303\n"
     ]
    }
   ],
   "source": [
    "from sklearn.neighbors import KNeighborsClassifier\n",
    "from sklearn.metrics import mean_squared_error\n",
    "import math\n",
    "\n",
    "knn_class = KNeighborsClassifier()\n",
    "\n",
    "knn_class.fit(X_train, y_train)\n",
    "\n",
    "preds = knn_class.predict(X_test)\n",
    "\n",
    "print(\"Matriz de confusão:\")\n",
    "print(confusion_matrix(y_test, preds, labels=[0,1]))\n",
    "\n",
    "accuracy = accuracy_score(y_test, preds)\n",
    "precision = precision_score(y_test, preds)\n",
    "recall = recall_score(y_test, preds)\n",
    "f1 = f1_score(y_test, preds)\n",
    "auc_roc = roc_auc_score(y_test, preds)\n",
    "mean_error = mean_squared_error(y_test, preds)  \n",
    "root_mean = sqrt(mean_error)\n",
    "\n",
    "precisoes.append(accuracy)\n",
    "modelos.append(\"KNN\")\n",
    "\n",
    "\n",
    "mean_error = mean_squared_error(y_test, preds)\n",
    "root_mean = math.sqrt(mean_error)\n",
    "root_mean\n",
    "print()\n",
    "print(\"Accuracy:\", accuracy)\n",
    "print(\"Precision:\", precision)\n",
    "print(\"Recall:\", recall)\n",
    "print(\"F1-score:\", f1)\n",
    "print(\"AUC-ROC:\", auc_roc)\n",
    "print(\"Raiz quadrada do erro:\", root_mean)"
   ]
  },
  {
   "attachments": {},
   "cell_type": "markdown",
   "metadata": {},
   "source": [
    "A matriz de confusão obtida revela 1952   verdadeiros negativos, 635   falsos negativos, 438 falsos positivos e 556 verdadeiros positivos. Relativamente às métricas de desempenho, vale realçar que a precisão (accuracy) obtida para o modelo foi de aproxidamente 70%, indicando um bom nível de precisão."
   ]
  },
  {
   "attachments": {},
   "cell_type": "markdown",
   "metadata": {},
   "source": [
    "# ADEQUAR AO DATASET"
   ]
  },
  {
   "cell_type": "code",
   "execution_count": 227,
   "metadata": {},
   "outputs": [
    {
     "data": {
      "image/png": "[encoded data removed]",
      "text/plain": [
       "<Figure size 432x288 with 1 Axes>"
      ]
     },
     "metadata": {
      "needs_background": "light"
     },
     "output_type": "display_data"
    },
    {
     "data": {
      "image/png": "[encoded data removed]",
      "text/plain": [
       "<Figure size 432x288 with 1 Axes>"
      ]
     },
     "metadata": {
      "needs_background": "light"
     },
     "output_type": "display_data"
    }
   ],
   "source": [
    "# import matplotlib.pyplot as plt\n",
    "# import seaborn as sns\n",
    "# from matplotlib.colors import ListedColormap\n",
    "# from sklearn import neighbors, datasets\n",
    "# from sklearn.inspection import DecisionBoundaryDisplay\n",
    "\n",
    "# n_neighbors = 22\n",
    "\n",
    "# X = df_merged.iloc[:,0:2].values\n",
    "# y = df_merged[\"Y\"].values\n",
    "\n",
    "# cmap_light = ListedColormap([\"orange\", \"cornflowerblue\"])\n",
    "# cmap_bold = [\"darkorange\", \"darkblue\"]\n",
    "\n",
    "# for weights in [\"uniform\", \"distance\"]:\n",
    "#     clf = neighbors.KNeighborsClassifier(n_neighbors, weights=weights)\n",
    "#     clf.fit(X, y)\n",
    "\n",
    "#     _, ax = plt.subplots()\n",
    "#     DecisionBoundaryDisplay.from_estimator(\n",
    "#         clf,\n",
    "#         X,\n",
    "#         cmap=cmap_light,\n",
    "#         ax=ax,\n",
    "#         response_method=\"predict\",\n",
    "#         plot_method=\"pcolormesh\",\n",
    "#         xlabel=\"MaxEStateIndex\",\n",
    "#         ylabel=\"MolWt\",\n",
    "#         shading=\"auto\",\n",
    "#     )\n",
    "\n",
    "#     sns.scatterplot(\n",
    "#         x=X[:, 0],\n",
    "#         y=X[:, 1],\n",
    "#         hue=df_merged[\"Y\"].values,\n",
    "#         palette=cmap_bold,\n",
    "#         alpha=1.0,\n",
    "#         edgecolor=\"black\",\n",
    "#     )\n",
    "#     plt.title(\n",
    "#         \"3-Class classification (k = %i, weights = '%s')\" % (n_neighbors, weights)\n",
    "#     )\n",
    "\n",
    "# plt.show()"
   ]
  },
  {
   "cell_type": "code",
   "execution_count": 228,
   "metadata": {},
   "outputs": [
    {
     "data": {
      "image/png": "[encoded data removed]",
      "text/plain": [
       "<Figure size 432x288 with 1 Axes>"
      ]
     },
     "metadata": {
      "needs_background": "light"
     },
     "output_type": "display_data"
    },
    {
     "data": {
      "image/png": "[encoded data removed]",
      "text/plain": [
       "<Figure size 432x288 with 1 Axes>"
      ]
     },
     "metadata": {
      "needs_background": "light"
     },
     "output_type": "display_data"
    }
   ],
   "source": [
    "# import matplotlib.pyplot as plt\n",
    "# from matplotlib.colors import ListedColormap\n",
    "# from sklearn import datasets\n",
    "# from sklearn.model_selection import train_test_split\n",
    "# from sklearn.preprocessing import StandardScaler\n",
    "# from sklearn.neighbors import KNeighborsClassifier, NeighborhoodComponentsAnalysis\n",
    "# from sklearn.pipeline import Pipeline\n",
    "# from sklearn.inspection import DecisionBoundaryDisplay\n",
    "\n",
    "\n",
    "# n_neighbors = 1\n",
    "\n",
    "# dataset = data\n",
    "# X, y = dataset.data, dataset.target\n",
    "\n",
    "# # we only take two features. We could avoid this ugly\n",
    "# # slicing by using a two-dim dataset\n",
    "\n",
    "# X_train, X_test, y_train, y_test = train_test_split(\n",
    "#     X, y, stratify=y, test_size=0.7, random_state=42\n",
    "# )\n",
    "\n",
    "# h = 0.05  # step size in the mesh\n",
    "\n",
    "# # Create color maps\n",
    "# cmap_light = ListedColormap([\"#FFAAAA\", \"#AAFFAA\", \"#AAAAFF\"])\n",
    "# cmap_bold = ListedColormap([\"#FF0000\", \"#00FF00\", \"#0000FF\"])\n",
    "\n",
    "# names = [\"KNN\", \"NCA, KNN\"]\n",
    "\n",
    "# classifiers = [\n",
    "#     Pipeline(\n",
    "#         [\n",
    "#             (\"scaler\", StandardScaler()),\n",
    "#             (\"knn\", KNeighborsClassifier(n_neighbors=n_neighbors)),\n",
    "#         ]\n",
    "#     ),\n",
    "#     Pipeline(\n",
    "#         [\n",
    "#             (\"scaler\", StandardScaler()),\n",
    "#             (\"nca\", NeighborhoodComponentsAnalysis()),\n",
    "#             (\"knn\", KNeighborsClassifier(n_neighbors=n_neighbors)),\n",
    "#         ]\n",
    "#     ),\n",
    "# ]\n",
    "\n",
    "# for name, clf in zip(names, classifiers):\n",
    "\n",
    "#     clf.fit(X_train, y_train)\n",
    "#     score = clf.score(X_test, y_test)\n",
    "\n",
    "#     _, ax = plt.subplots()\n",
    "#     DecisionBoundaryDisplay.from_estimator(\n",
    "#         clf,\n",
    "#         X,\n",
    "#         cmap=cmap_light,\n",
    "#         alpha=0.8,\n",
    "#         ax=ax,\n",
    "#         response_method=\"predict\",\n",
    "#         plot_method=\"pcolormesh\",\n",
    "#         shading=\"auto\",\n",
    "#     )\n",
    "\n",
    "#     # Plot also the training and testing points\n",
    "#     plt.scatter(X[:, 0], X[:, 1], c=y, cmap=cmap_bold, edgecolor=\"k\", s=20)\n",
    "#     plt.title(\"{} (k = {})\".format(name, n_neighbors))\n",
    "#     plt.text(\n",
    "#         0.9,\n",
    "#         0.1,\n",
    "#         \"{:.2f}\".format(score),\n",
    "#         size=15,\n",
    "#         ha=\"center\",\n",
    "#         va=\"center\",\n",
    "#         transform=plt.gca().transAxes,\n",
    "#     )\n",
    "\n",
    "# plt.show()"
   ]
  },
  {
   "attachments": {},
   "cell_type": "markdown",
   "metadata": {},
   "source": [
    "## NaivesBayes"
   ]
  },
  {
   "attachments": {},
   "cell_type": "markdown",
   "metadata": {},
   "source": [
    "O Naive Bayes Gaussian é um algoritmo de machine learning utilizado para classificação. Ele se baseia no Teorema de Bayes e assume que as features (características) do conjunto de dados seguem uma distribuição normal (gaussiana).\n",
    "O Naive Bayes Gaussian é rápido e eficiente em termos computacionais, sendo especialmente adequado para conjuntos de dados com muitas features. "
   ]
  },
  {
   "cell_type": "code",
   "execution_count": 224,
   "metadata": {},
   "outputs": [
    {
     "name": "stdout",
     "output_type": "stream",
     "text": [
      "Matriz de confusão:\n",
      "[[1549  841]\n",
      " [ 411  780]]\n",
      "\n",
      "Accuracy: 0.6503769896676906\n",
      "Precision: 0.4811844540407156\n",
      "Recall: 0.654911838790932\n",
      "F1-score: 0.5547652916073968\n",
      "AUC-ROC: 0.6515144968013238\n",
      "Raiz quadrada do erro: 0.5912892780461264\n"
     ]
    }
   ],
   "source": [
    "from sklearn.naive_bayes import GaussianNB\n",
    "from sklearn.metrics import accuracy_score\n",
    "\n",
    "naive_bayes = GaussianNB()\n",
    "\n",
    "naive_bayes.fit(X_train, y_train)\n",
    "\n",
    "preds = naive_bayes.predict(X_test)\n",
    "\n",
    "print(\"Matriz de confusão:\")\n",
    "print(confusion_matrix(y_test, preds))\n",
    "\n",
    "accuracy = accuracy_score(y_test, preds)\n",
    "precision = precision_score(y_test, preds)\n",
    "recall = recall_score(y_test, preds)\n",
    "f1 = f1_score(y_test, preds)\n",
    "\n",
    "precisoes.append(accuracy)\n",
    "modelos.append(\"Naive-Bayes\")\n",
    "\n",
    "\n",
    "auc_roc = roc_auc_score(y_test, preds)\n",
    "mean_error = mean_squared_error(y_test, preds)  \n",
    "root_mean = sqrt(mean_error)\n",
    "\n",
    "print()\n",
    "print(\"Accuracy:\", accuracy)\n",
    "print(\"Precision:\", precision)\n",
    "print(\"Recall:\", recall)\n",
    "print(\"F1-score:\", f1)\n",
    "print(\"AUC-ROC:\", auc_roc)\n",
    "print(\"Raiz quadrada do erro:\", root_mean)"
   ]
  },
  {
   "attachments": {},
   "cell_type": "markdown",
   "metadata": {},
   "source": [
    "A matriz de confusão obtida revela 1549 verdadeiros negativos, 411 falsos negativos, 841 falsos positivos e 780 verdadeiros positivos. Relativamente às métricas de desempenho, vale realçar que a precisão (accuracy) obtida para o modelo foi de aproxidamente 65%, indicando um bom nível de precisão do modelo."
   ]
  },
  {
   "attachments": {},
   "cell_type": "markdown",
   "metadata": {},
   "source": [
    "## DecisionTree"
   ]
  },
  {
   "attachments": {},
   "cell_type": "markdown",
   "metadata": {},
   "source": [
    "A árvore de decisão é um algoritmo de aprendizado de máquina  baseado numa estrutura de árvore onde cada nó representa uma decisão com base em uma feature específica. A partir do nó raiz, o algoritmo percorre os ramos da árvore fazendo decisões até chegar às folhas, que representam as classes ou valores de regressão finais. pode lidar com diferentes tipos de dados (numéricos e categóricos) e é menos suscetível a problemas de overfitting quando comparada a alguns outros algoritmos."
   ]
  },
  {
   "cell_type": "code",
   "execution_count": 225,
   "metadata": {},
   "outputs": [
    {
     "name": "stdout",
     "output_type": "stream",
     "text": [
      "Matriz de confusão:\n",
      "[[1805  585]\n",
      " [ 588  603]]\n",
      "\n",
      "Accuracy: 0.6724378665177325\n",
      "Precision: 0.5075757575757576\n",
      "Recall: 0.5062972292191436\n",
      "F1-score: 0.5069356872635562\n",
      "AUC-ROC: 0.6307636773710781\n",
      "Raiz quadrada do erro: 0.5723304408139301\n"
     ]
    }
   ],
   "source": [
    "from sklearn.tree import DecisionTreeClassifier\n",
    "from sklearn.metrics import mean_squared_error\n",
    "import math\n",
    "\n",
    "decision_tree_class = DecisionTreeClassifier()\n",
    "\n",
    "decision_tree_class.fit(X_train, y_train)\n",
    "\n",
    "preds = decision_tree_class.predict(X_test)\n",
    "\n",
    "print(\"Matriz de confusão:\")\n",
    "print(confusion_matrix(y_test, preds))\n",
    "\n",
    "accuracy = accuracy_score(y_test, preds)\n",
    "precision = precision_score(y_test, preds)\n",
    "recall = recall_score(y_test, preds)\n",
    "f1 = f1_score(y_test, preds)\n",
    "\n",
    "precisoes.append(accuracy)\n",
    "modelos.append(\"Decision Tree\")\n",
    "\n",
    "\n",
    "auc_roc = roc_auc_score(y_test, preds)\n",
    "mean_error = mean_squared_error(y_test, preds)  \n",
    "root_mean = sqrt(mean_error)\n",
    "\n",
    "print()\n",
    "print(\"Accuracy:\", accuracy)\n",
    "print(\"Precision:\", precision)\n",
    "print(\"Recall:\", recall)\n",
    "print(\"F1-score:\", f1)\n",
    "print(\"AUC-ROC:\", auc_roc)\n",
    "print(\"Raiz quadrada do erro:\", root_mean)"
   ]
  },
  {
   "attachments": {},
   "cell_type": "markdown",
   "metadata": {},
   "source": [
    "A matriz de confusão obtida revela 1805   verdadeiros negativos, 588   falsos negativos, 585 falsos positivos e 603 verdadeiros positivos. Relativamente às métricas de desempenho, vale realçar que a precisão (accuracy) obtida para o modelo foi de aproxidamente 67%, indicando um bom nível de precisão do modelo."
   ]
  },
  {
   "attachments": {},
   "cell_type": "markdown",
   "metadata": {},
   "source": [
    "### *Precisão dos diferentes modelos estudados*"
   ]
  },
  {
   "cell_type": "code",
   "execution_count": null,
   "metadata": {},
   "outputs": [
    {
     "name": "stdout",
     "output_type": "stream",
     "text": [
      "+-----------------+--------------------+\n",
      "|      Modelo     |      Precisão      |\n",
      "+-----------------+--------------------+\n",
      "|  Random Forest  | 0.7520245741413013 |\n",
      "| Redes Neuronais | 0.695895001396258  |\n",
      "|       KNN       | 0.7003630270874057 |\n",
      "|   Naive-Bayes   | 0.6503769896676906 |\n",
      "|  Decision Tree  | 0.6799776598715442 |\n",
      "+-----------------+--------------------+\n"
     ]
    }
   ],
   "source": [
    "from prettytable import PrettyTable\n",
    "tabela = PrettyTable()\n",
    "tabela.field_names = ['Modelo', \"Precisão\"]\n",
    "for modelo, precisao in zip(modelos, precisoes):\n",
    "    tabela.add_row([modelo, precisao])\n",
    "print(tabela)"
   ]
  },
  {
   "attachments": {},
   "cell_type": "markdown",
   "metadata": {},
   "source": [
    "Como é possível observar, o algoritmo que demonstrou ter uma maior precisão, foi o Random Forest."
   ]
  },
  {
   "attachments": {},
   "cell_type": "markdown",
   "metadata": {},
   "source": [
    "## Deep learning"
   ]
  },
  {
   "cell_type": "code",
   "execution_count": 232,
   "metadata": {},
   "outputs": [
    {
     "name": "stdout",
     "output_type": "stream",
     "text": [
      "Epoch 1/150\n"
     ]
    },
    {
     "ename": "ValueError",
     "evalue": "in user code:\n\n    File \"C:\\Users\\luis-\\AppData\\Roaming\\Python\\Python39\\site-packages\\keras\\engine\\training.py\", line 1284, in train_function  *\n        return step_function(self, iterator)\n    File \"C:\\Users\\luis-\\AppData\\Roaming\\Python\\Python39\\site-packages\\keras\\engine\\training.py\", line 1268, in step_function  **\n        outputs = model.distribute_strategy.run(run_step, args=(data,))\n    File \"C:\\Users\\luis-\\AppData\\Roaming\\Python\\Python39\\site-packages\\keras\\engine\\training.py\", line 1249, in run_step  **\n        outputs = model.train_step(data)\n    File \"C:\\Users\\luis-\\AppData\\Roaming\\Python\\Python39\\site-packages\\keras\\engine\\training.py\", line 1050, in train_step\n        y_pred = self(x, training=True)\n    File \"C:\\Users\\luis-\\AppData\\Roaming\\Python\\Python39\\site-packages\\keras\\utils\\traceback_utils.py\", line 70, in error_handler\n        raise e.with_traceback(filtered_tb) from None\n    File \"C:\\Users\\luis-\\AppData\\Roaming\\Python\\Python39\\site-packages\\keras\\engine\\input_spec.py\", line 298, in assert_input_compatibility\n        raise ValueError(\n\n    ValueError: Input 0 of layer \"sequential_3\" is incompatible with the layer: expected shape=(None, 7), found shape=(None, 64)\n",
     "output_type": "error",
     "traceback": [
      "\u001b[1;31m---------------------------------------------------------------------------\u001b[0m",
      "\u001b[1;31mValueError\u001b[0m                                Traceback (most recent call last)",
      "\u001b[1;32mc:\\Users\\luis-\\Documents\\GitHub\\Extra-o_Work\\Trabalho parte 2\\cyp2c9\\trabalho 2.ipynb Cell 136\u001b[0m in \u001b[0;36m<cell line: 10>\u001b[1;34m()\u001b[0m\n\u001b[0;32m      <a href='vscode-notebook-cell:/c%3A/Users/luis-/Documents/GitHub/Extra-o_Work/Trabalho%20parte%202/cyp2c9/trabalho%202.ipynb#Y243sZmlsZQ%3D%3D?line=7'>8</a>\u001b[0m model\u001b[39m.\u001b[39madd(Dense(\u001b[39m1\u001b[39m, activation\u001b[39m=\u001b[39m\u001b[39m'\u001b[39m\u001b[39msigmoid\u001b[39m\u001b[39m'\u001b[39m))\n\u001b[0;32m      <a href='vscode-notebook-cell:/c%3A/Users/luis-/Documents/GitHub/Extra-o_Work/Trabalho%20parte%202/cyp2c9/trabalho%202.ipynb#Y243sZmlsZQ%3D%3D?line=8'>9</a>\u001b[0m model\u001b[39m.\u001b[39mcompile(loss\u001b[39m=\u001b[39m\u001b[39m'\u001b[39m\u001b[39mbinary_crossentropy\u001b[39m\u001b[39m'\u001b[39m, optimizer\u001b[39m=\u001b[39m\u001b[39m'\u001b[39m\u001b[39madam\u001b[39m\u001b[39m'\u001b[39m, metrics\u001b[39m=\u001b[39m[\u001b[39m'\u001b[39m\u001b[39maccuracy\u001b[39m\u001b[39m'\u001b[39m])\n\u001b[1;32m---> <a href='vscode-notebook-cell:/c%3A/Users/luis-/Documents/GitHub/Extra-o_Work/Trabalho%20parte%202/cyp2c9/trabalho%202.ipynb#Y243sZmlsZQ%3D%3D?line=9'>10</a>\u001b[0m model\u001b[39m.\u001b[39;49mfit(X_train, y_train, epochs\u001b[39m=\u001b[39;49m\u001b[39m150\u001b[39;49m, batch_size\u001b[39m=\u001b[39;49m\u001b[39m10\u001b[39;49m)\n\u001b[0;32m     <a href='vscode-notebook-cell:/c%3A/Users/luis-/Documents/GitHub/Extra-o_Work/Trabalho%20parte%202/cyp2c9/trabalho%202.ipynb#Y243sZmlsZQ%3D%3D?line=10'>11</a>\u001b[0m accuracy \u001b[39m=\u001b[39m model\u001b[39m.\u001b[39mevaluate(X_train, y_train)\n\u001b[0;32m     <a href='vscode-notebook-cell:/c%3A/Users/luis-/Documents/GitHub/Extra-o_Work/Trabalho%20parte%202/cyp2c9/trabalho%202.ipynb#Y243sZmlsZQ%3D%3D?line=11'>12</a>\u001b[0m \u001b[39m# print('Accuracy: %.2f' % (accuracy*100))\u001b[39;00m\n",
      "File \u001b[1;32m~\\AppData\\Roaming\\Python\\Python39\\site-packages\\keras\\utils\\traceback_utils.py:70\u001b[0m, in \u001b[0;36mfilter_traceback.<locals>.error_handler\u001b[1;34m(*args, **kwargs)\u001b[0m\n\u001b[0;32m     67\u001b[0m     filtered_tb \u001b[39m=\u001b[39m _process_traceback_frames(e\u001b[39m.\u001b[39m__traceback__)\n\u001b[0;32m     68\u001b[0m     \u001b[39m# To get the full stack trace, call:\u001b[39;00m\n\u001b[0;32m     69\u001b[0m     \u001b[39m# `tf.debugging.disable_traceback_filtering()`\u001b[39;00m\n\u001b[1;32m---> 70\u001b[0m     \u001b[39mraise\u001b[39;00m e\u001b[39m.\u001b[39mwith_traceback(filtered_tb) \u001b[39mfrom\u001b[39;00m \u001b[39mNone\u001b[39;00m\n\u001b[0;32m     71\u001b[0m \u001b[39mfinally\u001b[39;00m:\n\u001b[0;32m     72\u001b[0m     \u001b[39mdel\u001b[39;00m filtered_tb\n",
      "File \u001b[1;32m~\\AppData\\Local\\Temp\\__autograph_generated_file8g1zqzz7.py:15\u001b[0m, in \u001b[0;36mouter_factory.<locals>.inner_factory.<locals>.tf__train_function\u001b[1;34m(iterator)\u001b[0m\n\u001b[0;32m     13\u001b[0m \u001b[39mtry\u001b[39;00m:\n\u001b[0;32m     14\u001b[0m     do_return \u001b[39m=\u001b[39m \u001b[39mTrue\u001b[39;00m\n\u001b[1;32m---> 15\u001b[0m     retval_ \u001b[39m=\u001b[39m ag__\u001b[39m.\u001b[39mconverted_call(ag__\u001b[39m.\u001b[39mld(step_function), (ag__\u001b[39m.\u001b[39mld(\u001b[39mself\u001b[39m), ag__\u001b[39m.\u001b[39mld(iterator)), \u001b[39mNone\u001b[39;00m, fscope)\n\u001b[0;32m     16\u001b[0m \u001b[39mexcept\u001b[39;00m:\n\u001b[0;32m     17\u001b[0m     do_return \u001b[39m=\u001b[39m \u001b[39mFalse\u001b[39;00m\n",
      "\u001b[1;31mValueError\u001b[0m: in user code:\n\n    File \"C:\\Users\\luis-\\AppData\\Roaming\\Python\\Python39\\site-packages\\keras\\engine\\training.py\", line 1284, in train_function  *\n        return step_function(self, iterator)\n    File \"C:\\Users\\luis-\\AppData\\Roaming\\Python\\Python39\\site-packages\\keras\\engine\\training.py\", line 1268, in step_function  **\n        outputs = model.distribute_strategy.run(run_step, args=(data,))\n    File \"C:\\Users\\luis-\\AppData\\Roaming\\Python\\Python39\\site-packages\\keras\\engine\\training.py\", line 1249, in run_step  **\n        outputs = model.train_step(data)\n    File \"C:\\Users\\luis-\\AppData\\Roaming\\Python\\Python39\\site-packages\\keras\\engine\\training.py\", line 1050, in train_step\n        y_pred = self(x, training=True)\n    File \"C:\\Users\\luis-\\AppData\\Roaming\\Python\\Python39\\site-packages\\keras\\utils\\traceback_utils.py\", line 70, in error_handler\n        raise e.with_traceback(filtered_tb) from None\n    File \"C:\\Users\\luis-\\AppData\\Roaming\\Python\\Python39\\site-packages\\keras\\engine\\input_spec.py\", line 298, in assert_input_compatibility\n        raise ValueError(\n\n    ValueError: Input 0 of layer \"sequential_3\" is incompatible with the layer: expected shape=(None, 7), found shape=(None, 64)\n"
     ]
    }
   ],
   "source": [
    "from tensorflow.keras.models import Sequential\n",
    "from tensorflow.keras.layers import Dense\n",
    "\n",
    "\n",
    "model = Sequential()\n",
    "model.add(Dense(12, input_shape=(7,), activation='relu'))\n",
    "model.add(Dense(8, activation='relu'))\n",
    "model.add(Dense(1, activation='sigmoid'))\n",
    "model.compile(loss='binary_crossentropy', optimizer='adam', metrics=['accuracy'])\n",
    "model.fit(X_train, y_train, epochs=150, batch_size=10)\n",
    "accuracy = model.evaluate(X_train, y_train)\n",
    "# print('Accuracy: %.2f' % (accuracy*100))\n",
    "accuracy"
   ]
  }
 ],
 "metadata": {
  "kernelspec": {
   "display_name": "Python 3",
   "language": "python",
   "name": "python3"
  },
  "language_info": {
   "codemirror_mode": {
    "name": "ipython",
    "version": 3
   },
   "file_extension": ".py",
   "mimetype": "text/x-python",
   "name": "python",
   "nbconvert_exporter": "python",
   "pygments_lexer": "ipython3",
   "version": "3.9.13"
  },
  "orig_nbformat": 4
 },
 "nbformat": 4,
 "nbformat_minor": 2
}
