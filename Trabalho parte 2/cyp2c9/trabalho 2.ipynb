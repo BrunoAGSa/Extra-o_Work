{
 "cells": [
  {
   "attachments": {},
   "cell_type": "markdown",
   "metadata": {},
   "source": [
    "# Trabalho ECDB\n",
    "\n",
    "## Grupo 2\n",
    "\n",
    "\n",
    "## Alunos: \n",
    "\n",
    "- Bruno Sá (Pg48932)\n",
    "- Gonçalo Cardoso (Pg49034)\n",
    "- Joana Gonçalves (Pg49835)\n",
    "- Luís Ferreira (Pg49840)\n",
    "\n"
   ]
  },
  {
   "attachments": {},
   "cell_type": "markdown",
   "metadata": {},
   "source": [
    "# CYP P450 2C9 Inhibition_ Information\n",
    "\n",
    "## Dataset Description: \n",
    "\n",
    "The CYP P450 genes are involved in the formation and breakdown (metabolism) of various molecules and chemicals within cells. Specifically, the CYP P450 2C9 plays a major role in the oxidation of both xenobiotic and endogenous compounds.\n",
    "\n",
    "## Task Description: \n",
    "\n",
    "Binary Classification. Given a drug SMILES string, predict CYP2C9 inhibition.\n",
    "\n",
    "## Dataset Statistics: \n",
    "\n",
    "11,934 drugs.\n",
    "\n",
    "## References:\n",
    "\n",
    "[1] Veith, Henrike et al. “Comprehensive characterization of cytochrome P450 isozyme selectivity across chemical libraries.” Nature biotechnology vol. 27,11 (2009): 1050-5.\n"
   ]
  },
  {
   "attachments": {},
   "cell_type": "markdown",
   "metadata": {},
   "source": [
    "Tópicos (apagar depois):\n",
    "\n",
    "-análise do conjunto de dados e sua breve descrição\n",
    "- tarefas de pré-processamento dos dados (as que julgar necessárias)\n",
    "- sumarização dos dados (estatística descritiva, exploração com recurso\n",
    "a gráficos)\n",
    "- análise estatística univariada (e.g. análise de “expressão” diferencial)\n",
    "- análise estatística multivariada (não supervisionada): clustering,\n",
    "redução de dimensionalidade/ visualização"
   ]
  },
  {
   "cell_type": "code",
   "execution_count": 4,
   "metadata": {},
   "outputs": [],
   "source": [
    "#Librarys\n",
    "import scipy.stats as stats\n",
    "import numpy as np\n",
    "import seaborn as sns\n",
    "import pandas as pd\n",
    "import matplotlib.pyplot as plt\n",
    "from sklearn.decomposition import PCA\n",
    "from sklearn.manifold import TSNE\n",
    "from sklearn.cluster import KMeans\n",
    "from scipy.stats import ttest_ind, mannwhitneyu, shapiro, chisquare\n",
    "import pandas as pd\n",
    "from sklearn.preprocessing import StandardScaler"
   ]
  },
  {
   "attachments": {},
   "cell_type": "markdown",
   "metadata": {},
   "source": [
    "# 1. Importação dos dados e a sua Visualização"
   ]
  },
  {
   "cell_type": "code",
   "execution_count": 5,
   "metadata": {},
   "outputs": [],
   "source": [
    "df_cyp2c9 = pd.read_csv(\"cyp2c9.csv\")"
   ]
  },
  {
   "cell_type": "code",
   "execution_count": 6,
   "metadata": {},
   "outputs": [],
   "source": [
    "df_features = pd.read_csv(\"cyp2c9_features.csv\")"
   ]
  },
  {
   "cell_type": "code",
   "execution_count": 7,
   "metadata": {},
   "outputs": [
    {
     "data": {
      "text/html": [
       "<div>\n",
       "<style scoped>\n",
       "    .dataframe tbody tr th:only-of-type {\n",
       "        vertical-align: middle;\n",
       "    }\n",
       "\n",
       "    .dataframe tbody tr th {\n",
       "        vertical-align: top;\n",
       "    }\n",
       "\n",
       "    .dataframe thead th {\n",
       "        text-align: right;\n",
       "    }\n",
       "</style>\n",
       "<table border=\"1\" class=\"dataframe\">\n",
       "  <thead>\n",
       "    <tr style=\"text-align: right;\">\n",
       "      <th></th>\n",
       "      <th>ids</th>\n",
       "      <th>smiles</th>\n",
       "      <th>Y</th>\n",
       "    </tr>\n",
       "  </thead>\n",
       "  <tbody>\n",
       "    <tr>\n",
       "      <th>0</th>\n",
       "      <td>1960010.0</td>\n",
       "      <td>CCN1C(=O)/C(=C2\\SC(=S)N(CCCOC)C2=O)c2ccccc21</td>\n",
       "      <td>1</td>\n",
       "    </tr>\n",
       "    <tr>\n",
       "      <th>1</th>\n",
       "      <td>644851.0</td>\n",
       "      <td>Clc1ccccc1-c1nc(-c2ccccc2)n[nH]1</td>\n",
       "      <td>1</td>\n",
       "    </tr>\n",
       "    <tr>\n",
       "      <th>2</th>\n",
       "      <td>644890.0</td>\n",
       "      <td>COc1ccccc1C(c1nnnn1C(C)(C)C)N1CCN(Cc2ccncc2)CC1</td>\n",
       "      <td>1</td>\n",
       "    </tr>\n",
       "    <tr>\n",
       "      <th>3</th>\n",
       "      <td>644968.0</td>\n",
       "      <td>COc1ccccc1CNC(=O)Cn1nnc(-c2ccncc2)n1</td>\n",
       "      <td>1</td>\n",
       "    </tr>\n",
       "    <tr>\n",
       "      <th>4</th>\n",
       "      <td>645164.0</td>\n",
       "      <td>CCC(c1nnnn1CC1CCCO1)N(CCN1CCOCC1)Cc1cc2cc(C)cc...</td>\n",
       "      <td>0</td>\n",
       "    </tr>\n",
       "    <tr>\n",
       "      <th>...</th>\n",
       "      <td>...</td>\n",
       "      <td>...</td>\n",
       "      <td>...</td>\n",
       "    </tr>\n",
       "    <tr>\n",
       "      <th>11929</th>\n",
       "      <td>16758814.0</td>\n",
       "      <td>CCN1C(=O)[C@@H]2[C@@H](CC[C@@H]3C(=O)C=C[C@@H]...</td>\n",
       "      <td>0</td>\n",
       "    </tr>\n",
       "    <tr>\n",
       "      <th>11930</th>\n",
       "      <td>16758815.0</td>\n",
       "      <td>C=CC1=C[C@@H](O)[C@@H]2O[C@@H]2C12OCCCO2</td>\n",
       "      <td>0</td>\n",
       "    </tr>\n",
       "    <tr>\n",
       "      <th>11931</th>\n",
       "      <td>16758816.0</td>\n",
       "      <td>O=C1[C@H]2CC=C3[C@@H]([C@H](O)[C@H]4O[C@@H]4C3...</td>\n",
       "      <td>0</td>\n",
       "    </tr>\n",
       "    <tr>\n",
       "      <th>11932</th>\n",
       "      <td>16758818.0</td>\n",
       "      <td>C[C@H](c1ccccc1)N1C(=O)[C@@H]2[C@@H](CC[C@@H]3...</td>\n",
       "      <td>0</td>\n",
       "    </tr>\n",
       "    <tr>\n",
       "      <th>11933</th>\n",
       "      <td>10847630.0</td>\n",
       "      <td>COC(=O)NC/C=C\\c1nc(CCCO)co1</td>\n",
       "      <td>0</td>\n",
       "    </tr>\n",
       "  </tbody>\n",
       "</table>\n",
       "<p>11934 rows × 3 columns</p>\n",
       "</div>"
      ],
      "text/plain": [
       "              ids                                             smiles  Y\n",
       "0       1960010.0       CCN1C(=O)/C(=C2\\SC(=S)N(CCCOC)C2=O)c2ccccc21  1\n",
       "1        644851.0                   Clc1ccccc1-c1nc(-c2ccccc2)n[nH]1  1\n",
       "2        644890.0    COc1ccccc1C(c1nnnn1C(C)(C)C)N1CCN(Cc2ccncc2)CC1  1\n",
       "3        644968.0               COc1ccccc1CNC(=O)Cn1nnc(-c2ccncc2)n1  1\n",
       "4        645164.0  CCC(c1nnnn1CC1CCCO1)N(CCN1CCOCC1)Cc1cc2cc(C)cc...  0\n",
       "...           ...                                                ... ..\n",
       "11929  16758814.0  CCN1C(=O)[C@@H]2[C@@H](CC[C@@H]3C(=O)C=C[C@@H]...  0\n",
       "11930  16758815.0           C=CC1=C[C@@H](O)[C@@H]2O[C@@H]2C12OCCCO2  0\n",
       "11931  16758816.0  O=C1[C@H]2CC=C3[C@@H]([C@H](O)[C@H]4O[C@@H]4C3...  0\n",
       "11932  16758818.0  C[C@H](c1ccccc1)N1C(=O)[C@@H]2[C@@H](CC[C@@H]3...  0\n",
       "11933  10847630.0                        COC(=O)NC/C=C\\c1nc(CCCO)co1  0\n",
       "\n",
       "[11934 rows x 3 columns]"
      ]
     },
     "execution_count": 7,
     "metadata": {},
     "output_type": "execute_result"
    }
   ],
   "source": [
    "df_cyp2c9"
   ]
  },
  {
   "cell_type": "code",
   "execution_count": 8,
   "metadata": {},
   "outputs": [
    {
     "data": {
      "text/html": [
       "<div>\n",
       "<style scoped>\n",
       "    .dataframe tbody tr th:only-of-type {\n",
       "        vertical-align: middle;\n",
       "    }\n",
       "\n",
       "    .dataframe tbody tr th {\n",
       "        vertical-align: top;\n",
       "    }\n",
       "\n",
       "    .dataframe thead th {\n",
       "        text-align: right;\n",
       "    }\n",
       "</style>\n",
       "<table border=\"1\" class=\"dataframe\">\n",
       "  <thead>\n",
       "    <tr style=\"text-align: right;\">\n",
       "      <th></th>\n",
       "      <th>MaxEStateIndex</th>\n",
       "      <th>MinEStateIndex</th>\n",
       "      <th>MaxAbsEStateIndex</th>\n",
       "      <th>MinAbsEStateIndex</th>\n",
       "      <th>qed</th>\n",
       "      <th>MolWt</th>\n",
       "      <th>HeavyAtomMolWt</th>\n",
       "      <th>ExactMolWt</th>\n",
       "      <th>NumValenceElectrons</th>\n",
       "      <th>NumRadicalElectrons</th>\n",
       "      <th>...</th>\n",
       "      <th>fr_sulfide</th>\n",
       "      <th>fr_sulfonamd</th>\n",
       "      <th>fr_sulfone</th>\n",
       "      <th>fr_term_acetylene</th>\n",
       "      <th>fr_tetrazole</th>\n",
       "      <th>fr_thiazole</th>\n",
       "      <th>fr_thiocyan</th>\n",
       "      <th>fr_thiophene</th>\n",
       "      <th>fr_unbrch_alkane</th>\n",
       "      <th>fr_urea</th>\n",
       "    </tr>\n",
       "  </thead>\n",
       "  <tbody>\n",
       "    <tr>\n",
       "      <th>0</th>\n",
       "      <td>12.820479</td>\n",
       "      <td>-0.183140</td>\n",
       "      <td>12.820479</td>\n",
       "      <td>0.128619</td>\n",
       "      <td>0.457873</td>\n",
       "      <td>362.476</td>\n",
       "      <td>344.332</td>\n",
       "      <td>362.07590</td>\n",
       "      <td>126.0</td>\n",
       "      <td>0.0</td>\n",
       "      <td>...</td>\n",
       "      <td>1.0</td>\n",
       "      <td>0.0</td>\n",
       "      <td>0.0</td>\n",
       "      <td>0.0</td>\n",
       "      <td>0.0</td>\n",
       "      <td>0.0</td>\n",
       "      <td>0.0</td>\n",
       "      <td>0.0</td>\n",
       "      <td>1.0</td>\n",
       "      <td>0.0</td>\n",
       "    </tr>\n",
       "    <tr>\n",
       "      <th>1</th>\n",
       "      <td>6.126257</td>\n",
       "      <td>0.660427</td>\n",
       "      <td>6.126257</td>\n",
       "      <td>0.660427</td>\n",
       "      <td>0.756902</td>\n",
       "      <td>255.708</td>\n",
       "      <td>245.628</td>\n",
       "      <td>255.05632</td>\n",
       "      <td>88.0</td>\n",
       "      <td>0.0</td>\n",
       "      <td>...</td>\n",
       "      <td>0.0</td>\n",
       "      <td>0.0</td>\n",
       "      <td>0.0</td>\n",
       "      <td>0.0</td>\n",
       "      <td>0.0</td>\n",
       "      <td>0.0</td>\n",
       "      <td>0.0</td>\n",
       "      <td>0.0</td>\n",
       "      <td>0.0</td>\n",
       "      <td>0.0</td>\n",
       "    </tr>\n",
       "    <tr>\n",
       "      <th>2</th>\n",
       "      <td>5.719940</td>\n",
       "      <td>-0.219974</td>\n",
       "      <td>5.719940</td>\n",
       "      <td>0.075509</td>\n",
       "      <td>0.605920</td>\n",
       "      <td>421.549</td>\n",
       "      <td>390.301</td>\n",
       "      <td>421.25900</td>\n",
       "      <td>164.0</td>\n",
       "      <td>0.0</td>\n",
       "      <td>...</td>\n",
       "      <td>0.0</td>\n",
       "      <td>0.0</td>\n",
       "      <td>0.0</td>\n",
       "      <td>0.0</td>\n",
       "      <td>1.0</td>\n",
       "      <td>0.0</td>\n",
       "      <td>0.0</td>\n",
       "      <td>0.0</td>\n",
       "      <td>0.0</td>\n",
       "      <td>0.0</td>\n",
       "    </tr>\n",
       "    <tr>\n",
       "      <th>3</th>\n",
       "      <td>12.040634</td>\n",
       "      <td>-0.208718</td>\n",
       "      <td>12.040634</td>\n",
       "      <td>0.006714</td>\n",
       "      <td>0.728361</td>\n",
       "      <td>324.344</td>\n",
       "      <td>308.216</td>\n",
       "      <td>324.13348</td>\n",
       "      <td>122.0</td>\n",
       "      <td>0.0</td>\n",
       "      <td>...</td>\n",
       "      <td>0.0</td>\n",
       "      <td>0.0</td>\n",
       "      <td>0.0</td>\n",
       "      <td>0.0</td>\n",
       "      <td>1.0</td>\n",
       "      <td>0.0</td>\n",
       "      <td>0.0</td>\n",
       "      <td>0.0</td>\n",
       "      <td>0.0</td>\n",
       "      <td>0.0</td>\n",
       "    </tr>\n",
       "    <tr>\n",
       "      <th>4</th>\n",
       "      <td>13.082813</td>\n",
       "      <td>-0.044883</td>\n",
       "      <td>13.082813</td>\n",
       "      <td>0.018472</td>\n",
       "      <td>0.457249</td>\n",
       "      <td>495.628</td>\n",
       "      <td>458.332</td>\n",
       "      <td>495.29578</td>\n",
       "      <td>194.0</td>\n",
       "      <td>0.0</td>\n",
       "      <td>...</td>\n",
       "      <td>0.0</td>\n",
       "      <td>0.0</td>\n",
       "      <td>0.0</td>\n",
       "      <td>0.0</td>\n",
       "      <td>1.0</td>\n",
       "      <td>0.0</td>\n",
       "      <td>0.0</td>\n",
       "      <td>0.0</td>\n",
       "      <td>0.0</td>\n",
       "      <td>0.0</td>\n",
       "    </tr>\n",
       "    <tr>\n",
       "      <th>...</th>\n",
       "      <td>...</td>\n",
       "      <td>...</td>\n",
       "      <td>...</td>\n",
       "      <td>...</td>\n",
       "      <td>...</td>\n",
       "      <td>...</td>\n",
       "      <td>...</td>\n",
       "      <td>...</td>\n",
       "      <td>...</td>\n",
       "      <td>...</td>\n",
       "      <td>...</td>\n",
       "      <td>...</td>\n",
       "      <td>...</td>\n",
       "      <td>...</td>\n",
       "      <td>...</td>\n",
       "      <td>...</td>\n",
       "      <td>...</td>\n",
       "      <td>...</td>\n",
       "      <td>...</td>\n",
       "      <td>...</td>\n",
       "      <td>...</td>\n",
       "    </tr>\n",
       "    <tr>\n",
       "      <th>11929</th>\n",
       "      <td>12.346902</td>\n",
       "      <td>-0.801800</td>\n",
       "      <td>12.346902</td>\n",
       "      <td>0.024123</td>\n",
       "      <td>0.682518</td>\n",
       "      <td>263.293</td>\n",
       "      <td>246.157</td>\n",
       "      <td>263.11575</td>\n",
       "      <td>102.0</td>\n",
       "      <td>0.0</td>\n",
       "      <td>...</td>\n",
       "      <td>0.0</td>\n",
       "      <td>0.0</td>\n",
       "      <td>0.0</td>\n",
       "      <td>0.0</td>\n",
       "      <td>0.0</td>\n",
       "      <td>0.0</td>\n",
       "      <td>0.0</td>\n",
       "      <td>0.0</td>\n",
       "      <td>0.0</td>\n",
       "      <td>0.0</td>\n",
       "    </tr>\n",
       "    <tr>\n",
       "      <th>11930</th>\n",
       "      <td>9.674588</td>\n",
       "      <td>-0.801690</td>\n",
       "      <td>9.674588</td>\n",
       "      <td>0.174259</td>\n",
       "      <td>0.635371</td>\n",
       "      <td>210.229</td>\n",
       "      <td>196.117</td>\n",
       "      <td>210.08920</td>\n",
       "      <td>82.0</td>\n",
       "      <td>0.0</td>\n",
       "      <td>...</td>\n",
       "      <td>0.0</td>\n",
       "      <td>0.0</td>\n",
       "      <td>0.0</td>\n",
       "      <td>0.0</td>\n",
       "      <td>0.0</td>\n",
       "      <td>0.0</td>\n",
       "      <td>0.0</td>\n",
       "      <td>0.0</td>\n",
       "      <td>0.0</td>\n",
       "      <td>0.0</td>\n",
       "    </tr>\n",
       "    <tr>\n",
       "      <th>11931</th>\n",
       "      <td>13.390758</td>\n",
       "      <td>-1.019880</td>\n",
       "      <td>13.390758</td>\n",
       "      <td>0.162294</td>\n",
       "      <td>0.455270</td>\n",
       "      <td>397.427</td>\n",
       "      <td>374.243</td>\n",
       "      <td>397.15253</td>\n",
       "      <td>152.0</td>\n",
       "      <td>0.0</td>\n",
       "      <td>...</td>\n",
       "      <td>0.0</td>\n",
       "      <td>0.0</td>\n",
       "      <td>0.0</td>\n",
       "      <td>0.0</td>\n",
       "      <td>0.0</td>\n",
       "      <td>0.0</td>\n",
       "      <td>0.0</td>\n",
       "      <td>0.0</td>\n",
       "      <td>0.0</td>\n",
       "      <td>0.0</td>\n",
       "    </tr>\n",
       "    <tr>\n",
       "      <th>11932</th>\n",
       "      <td>13.179767</td>\n",
       "      <td>-1.161112</td>\n",
       "      <td>13.179767</td>\n",
       "      <td>0.077392</td>\n",
       "      <td>0.772281</td>\n",
       "      <td>357.406</td>\n",
       "      <td>334.222</td>\n",
       "      <td>357.15762</td>\n",
       "      <td>138.0</td>\n",
       "      <td>0.0</td>\n",
       "      <td>...</td>\n",
       "      <td>0.0</td>\n",
       "      <td>0.0</td>\n",
       "      <td>0.0</td>\n",
       "      <td>0.0</td>\n",
       "      <td>0.0</td>\n",
       "      <td>0.0</td>\n",
       "      <td>0.0</td>\n",
       "      <td>0.0</td>\n",
       "      <td>0.0</td>\n",
       "      <td>0.0</td>\n",
       "    </tr>\n",
       "    <tr>\n",
       "      <th>11933</th>\n",
       "      <td>10.715530</td>\n",
       "      <td>-0.480844</td>\n",
       "      <td>10.715530</td>\n",
       "      <td>0.139962</td>\n",
       "      <td>0.773508</td>\n",
       "      <td>240.259</td>\n",
       "      <td>224.131</td>\n",
       "      <td>240.11101</td>\n",
       "      <td>94.0</td>\n",
       "      <td>0.0</td>\n",
       "      <td>...</td>\n",
       "      <td>0.0</td>\n",
       "      <td>0.0</td>\n",
       "      <td>0.0</td>\n",
       "      <td>0.0</td>\n",
       "      <td>0.0</td>\n",
       "      <td>0.0</td>\n",
       "      <td>0.0</td>\n",
       "      <td>0.0</td>\n",
       "      <td>0.0</td>\n",
       "      <td>0.0</td>\n",
       "    </tr>\n",
       "  </tbody>\n",
       "</table>\n",
       "<p>11934 rows × 208 columns</p>\n",
       "</div>"
      ],
      "text/plain": [
       "       MaxEStateIndex  MinEStateIndex  MaxAbsEStateIndex  MinAbsEStateIndex  \\\n",
       "0           12.820479       -0.183140          12.820479           0.128619   \n",
       "1            6.126257        0.660427           6.126257           0.660427   \n",
       "2            5.719940       -0.219974           5.719940           0.075509   \n",
       "3           12.040634       -0.208718          12.040634           0.006714   \n",
       "4           13.082813       -0.044883          13.082813           0.018472   \n",
       "...               ...             ...                ...                ...   \n",
       "11929       12.346902       -0.801800          12.346902           0.024123   \n",
       "11930        9.674588       -0.801690           9.674588           0.174259   \n",
       "11931       13.390758       -1.019880          13.390758           0.162294   \n",
       "11932       13.179767       -1.161112          13.179767           0.077392   \n",
       "11933       10.715530       -0.480844          10.715530           0.139962   \n",
       "\n",
       "            qed    MolWt  HeavyAtomMolWt  ExactMolWt  NumValenceElectrons  \\\n",
       "0      0.457873  362.476         344.332   362.07590                126.0   \n",
       "1      0.756902  255.708         245.628   255.05632                 88.0   \n",
       "2      0.605920  421.549         390.301   421.25900                164.0   \n",
       "3      0.728361  324.344         308.216   324.13348                122.0   \n",
       "4      0.457249  495.628         458.332   495.29578                194.0   \n",
       "...         ...      ...             ...         ...                  ...   \n",
       "11929  0.682518  263.293         246.157   263.11575                102.0   \n",
       "11930  0.635371  210.229         196.117   210.08920                 82.0   \n",
       "11931  0.455270  397.427         374.243   397.15253                152.0   \n",
       "11932  0.772281  357.406         334.222   357.15762                138.0   \n",
       "11933  0.773508  240.259         224.131   240.11101                 94.0   \n",
       "\n",
       "       NumRadicalElectrons  ...  fr_sulfide  fr_sulfonamd  fr_sulfone  \\\n",
       "0                      0.0  ...         1.0           0.0         0.0   \n",
       "1                      0.0  ...         0.0           0.0         0.0   \n",
       "2                      0.0  ...         0.0           0.0         0.0   \n",
       "3                      0.0  ...         0.0           0.0         0.0   \n",
       "4                      0.0  ...         0.0           0.0         0.0   \n",
       "...                    ...  ...         ...           ...         ...   \n",
       "11929                  0.0  ...         0.0           0.0         0.0   \n",
       "11930                  0.0  ...         0.0           0.0         0.0   \n",
       "11931                  0.0  ...         0.0           0.0         0.0   \n",
       "11932                  0.0  ...         0.0           0.0         0.0   \n",
       "11933                  0.0  ...         0.0           0.0         0.0   \n",
       "\n",
       "       fr_term_acetylene  fr_tetrazole  fr_thiazole  fr_thiocyan  \\\n",
       "0                    0.0           0.0          0.0          0.0   \n",
       "1                    0.0           0.0          0.0          0.0   \n",
       "2                    0.0           1.0          0.0          0.0   \n",
       "3                    0.0           1.0          0.0          0.0   \n",
       "4                    0.0           1.0          0.0          0.0   \n",
       "...                  ...           ...          ...          ...   \n",
       "11929                0.0           0.0          0.0          0.0   \n",
       "11930                0.0           0.0          0.0          0.0   \n",
       "11931                0.0           0.0          0.0          0.0   \n",
       "11932                0.0           0.0          0.0          0.0   \n",
       "11933                0.0           0.0          0.0          0.0   \n",
       "\n",
       "       fr_thiophene  fr_unbrch_alkane  fr_urea  \n",
       "0               0.0               1.0      0.0  \n",
       "1               0.0               0.0      0.0  \n",
       "2               0.0               0.0      0.0  \n",
       "3               0.0               0.0      0.0  \n",
       "4               0.0               0.0      0.0  \n",
       "...             ...               ...      ...  \n",
       "11929           0.0               0.0      0.0  \n",
       "11930           0.0               0.0      0.0  \n",
       "11931           0.0               0.0      0.0  \n",
       "11932           0.0               0.0      0.0  \n",
       "11933           0.0               0.0      0.0  \n",
       "\n",
       "[11934 rows x 208 columns]"
      ]
     },
     "execution_count": 8,
     "metadata": {},
     "output_type": "execute_result"
    }
   ],
   "source": [
    "df_features\n"
   ]
  },
  {
   "attachments": {},
   "cell_type": "markdown",
   "metadata": {},
   "source": [
    "#### 1.1 - Concatenção dos dataframes"
   ]
  },
  {
   "cell_type": "code",
   "execution_count": 9,
   "metadata": {},
   "outputs": [
    {
     "data": {
      "text/html": [
       "<div>\n",
       "<style scoped>\n",
       "    .dataframe tbody tr th:only-of-type {\n",
       "        vertical-align: middle;\n",
       "    }\n",
       "\n",
       "    .dataframe tbody tr th {\n",
       "        vertical-align: top;\n",
       "    }\n",
       "\n",
       "    .dataframe thead th {\n",
       "        text-align: right;\n",
       "    }\n",
       "</style>\n",
       "<table border=\"1\" class=\"dataframe\">\n",
       "  <thead>\n",
       "    <tr style=\"text-align: right;\">\n",
       "      <th></th>\n",
       "      <th>ids</th>\n",
       "      <th>smiles</th>\n",
       "      <th>Y</th>\n",
       "      <th>MaxEStateIndex</th>\n",
       "      <th>MinEStateIndex</th>\n",
       "      <th>MaxAbsEStateIndex</th>\n",
       "      <th>MinAbsEStateIndex</th>\n",
       "      <th>qed</th>\n",
       "      <th>MolWt</th>\n",
       "      <th>HeavyAtomMolWt</th>\n",
       "      <th>...</th>\n",
       "      <th>fr_sulfide</th>\n",
       "      <th>fr_sulfonamd</th>\n",
       "      <th>fr_sulfone</th>\n",
       "      <th>fr_term_acetylene</th>\n",
       "      <th>fr_tetrazole</th>\n",
       "      <th>fr_thiazole</th>\n",
       "      <th>fr_thiocyan</th>\n",
       "      <th>fr_thiophene</th>\n",
       "      <th>fr_unbrch_alkane</th>\n",
       "      <th>fr_urea</th>\n",
       "    </tr>\n",
       "  </thead>\n",
       "  <tbody>\n",
       "    <tr>\n",
       "      <th>0</th>\n",
       "      <td>1960010.0</td>\n",
       "      <td>CCN1C(=O)/C(=C2\\SC(=S)N(CCCOC)C2=O)c2ccccc21</td>\n",
       "      <td>1</td>\n",
       "      <td>12.820479</td>\n",
       "      <td>-0.183140</td>\n",
       "      <td>12.820479</td>\n",
       "      <td>0.128619</td>\n",
       "      <td>0.457873</td>\n",
       "      <td>362.476</td>\n",
       "      <td>344.332</td>\n",
       "      <td>...</td>\n",
       "      <td>1.0</td>\n",
       "      <td>0.0</td>\n",
       "      <td>0.0</td>\n",
       "      <td>0.0</td>\n",
       "      <td>0.0</td>\n",
       "      <td>0.0</td>\n",
       "      <td>0.0</td>\n",
       "      <td>0.0</td>\n",
       "      <td>1.0</td>\n",
       "      <td>0.0</td>\n",
       "    </tr>\n",
       "    <tr>\n",
       "      <th>1</th>\n",
       "      <td>644851.0</td>\n",
       "      <td>Clc1ccccc1-c1nc(-c2ccccc2)n[nH]1</td>\n",
       "      <td>1</td>\n",
       "      <td>6.126257</td>\n",
       "      <td>0.660427</td>\n",
       "      <td>6.126257</td>\n",
       "      <td>0.660427</td>\n",
       "      <td>0.756902</td>\n",
       "      <td>255.708</td>\n",
       "      <td>245.628</td>\n",
       "      <td>...</td>\n",
       "      <td>0.0</td>\n",
       "      <td>0.0</td>\n",
       "      <td>0.0</td>\n",
       "      <td>0.0</td>\n",
       "      <td>0.0</td>\n",
       "      <td>0.0</td>\n",
       "      <td>0.0</td>\n",
       "      <td>0.0</td>\n",
       "      <td>0.0</td>\n",
       "      <td>0.0</td>\n",
       "    </tr>\n",
       "    <tr>\n",
       "      <th>2</th>\n",
       "      <td>644890.0</td>\n",
       "      <td>COc1ccccc1C(c1nnnn1C(C)(C)C)N1CCN(Cc2ccncc2)CC1</td>\n",
       "      <td>1</td>\n",
       "      <td>5.719940</td>\n",
       "      <td>-0.219974</td>\n",
       "      <td>5.719940</td>\n",
       "      <td>0.075509</td>\n",
       "      <td>0.605920</td>\n",
       "      <td>421.549</td>\n",
       "      <td>390.301</td>\n",
       "      <td>...</td>\n",
       "      <td>0.0</td>\n",
       "      <td>0.0</td>\n",
       "      <td>0.0</td>\n",
       "      <td>0.0</td>\n",
       "      <td>1.0</td>\n",
       "      <td>0.0</td>\n",
       "      <td>0.0</td>\n",
       "      <td>0.0</td>\n",
       "      <td>0.0</td>\n",
       "      <td>0.0</td>\n",
       "    </tr>\n",
       "    <tr>\n",
       "      <th>3</th>\n",
       "      <td>644968.0</td>\n",
       "      <td>COc1ccccc1CNC(=O)Cn1nnc(-c2ccncc2)n1</td>\n",
       "      <td>1</td>\n",
       "      <td>12.040634</td>\n",
       "      <td>-0.208718</td>\n",
       "      <td>12.040634</td>\n",
       "      <td>0.006714</td>\n",
       "      <td>0.728361</td>\n",
       "      <td>324.344</td>\n",
       "      <td>308.216</td>\n",
       "      <td>...</td>\n",
       "      <td>0.0</td>\n",
       "      <td>0.0</td>\n",
       "      <td>0.0</td>\n",
       "      <td>0.0</td>\n",
       "      <td>1.0</td>\n",
       "      <td>0.0</td>\n",
       "      <td>0.0</td>\n",
       "      <td>0.0</td>\n",
       "      <td>0.0</td>\n",
       "      <td>0.0</td>\n",
       "    </tr>\n",
       "    <tr>\n",
       "      <th>4</th>\n",
       "      <td>645164.0</td>\n",
       "      <td>CCC(c1nnnn1CC1CCCO1)N(CCN1CCOCC1)Cc1cc2cc(C)cc...</td>\n",
       "      <td>0</td>\n",
       "      <td>13.082813</td>\n",
       "      <td>-0.044883</td>\n",
       "      <td>13.082813</td>\n",
       "      <td>0.018472</td>\n",
       "      <td>0.457249</td>\n",
       "      <td>495.628</td>\n",
       "      <td>458.332</td>\n",
       "      <td>...</td>\n",
       "      <td>0.0</td>\n",
       "      <td>0.0</td>\n",
       "      <td>0.0</td>\n",
       "      <td>0.0</td>\n",
       "      <td>1.0</td>\n",
       "      <td>0.0</td>\n",
       "      <td>0.0</td>\n",
       "      <td>0.0</td>\n",
       "      <td>0.0</td>\n",
       "      <td>0.0</td>\n",
       "    </tr>\n",
       "    <tr>\n",
       "      <th>...</th>\n",
       "      <td>...</td>\n",
       "      <td>...</td>\n",
       "      <td>...</td>\n",
       "      <td>...</td>\n",
       "      <td>...</td>\n",
       "      <td>...</td>\n",
       "      <td>...</td>\n",
       "      <td>...</td>\n",
       "      <td>...</td>\n",
       "      <td>...</td>\n",
       "      <td>...</td>\n",
       "      <td>...</td>\n",
       "      <td>...</td>\n",
       "      <td>...</td>\n",
       "      <td>...</td>\n",
       "      <td>...</td>\n",
       "      <td>...</td>\n",
       "      <td>...</td>\n",
       "      <td>...</td>\n",
       "      <td>...</td>\n",
       "      <td>...</td>\n",
       "    </tr>\n",
       "    <tr>\n",
       "      <th>11929</th>\n",
       "      <td>16758814.0</td>\n",
       "      <td>CCN1C(=O)[C@@H]2[C@@H](CC[C@@H]3C(=O)C=C[C@@H]...</td>\n",
       "      <td>0</td>\n",
       "      <td>12.346902</td>\n",
       "      <td>-0.801800</td>\n",
       "      <td>12.346902</td>\n",
       "      <td>0.024123</td>\n",
       "      <td>0.682518</td>\n",
       "      <td>263.293</td>\n",
       "      <td>246.157</td>\n",
       "      <td>...</td>\n",
       "      <td>0.0</td>\n",
       "      <td>0.0</td>\n",
       "      <td>0.0</td>\n",
       "      <td>0.0</td>\n",
       "      <td>0.0</td>\n",
       "      <td>0.0</td>\n",
       "      <td>0.0</td>\n",
       "      <td>0.0</td>\n",
       "      <td>0.0</td>\n",
       "      <td>0.0</td>\n",
       "    </tr>\n",
       "    <tr>\n",
       "      <th>11930</th>\n",
       "      <td>16758815.0</td>\n",
       "      <td>C=CC1=C[C@@H](O)[C@@H]2O[C@@H]2C12OCCCO2</td>\n",
       "      <td>0</td>\n",
       "      <td>9.674588</td>\n",
       "      <td>-0.801690</td>\n",
       "      <td>9.674588</td>\n",
       "      <td>0.174259</td>\n",
       "      <td>0.635371</td>\n",
       "      <td>210.229</td>\n",
       "      <td>196.117</td>\n",
       "      <td>...</td>\n",
       "      <td>0.0</td>\n",
       "      <td>0.0</td>\n",
       "      <td>0.0</td>\n",
       "      <td>0.0</td>\n",
       "      <td>0.0</td>\n",
       "      <td>0.0</td>\n",
       "      <td>0.0</td>\n",
       "      <td>0.0</td>\n",
       "      <td>0.0</td>\n",
       "      <td>0.0</td>\n",
       "    </tr>\n",
       "    <tr>\n",
       "      <th>11931</th>\n",
       "      <td>16758816.0</td>\n",
       "      <td>O=C1[C@H]2CC=C3[C@@H]([C@H](O)[C@H]4O[C@@H]4C3...</td>\n",
       "      <td>0</td>\n",
       "      <td>13.390758</td>\n",
       "      <td>-1.019880</td>\n",
       "      <td>13.390758</td>\n",
       "      <td>0.162294</td>\n",
       "      <td>0.455270</td>\n",
       "      <td>397.427</td>\n",
       "      <td>374.243</td>\n",
       "      <td>...</td>\n",
       "      <td>0.0</td>\n",
       "      <td>0.0</td>\n",
       "      <td>0.0</td>\n",
       "      <td>0.0</td>\n",
       "      <td>0.0</td>\n",
       "      <td>0.0</td>\n",
       "      <td>0.0</td>\n",
       "      <td>0.0</td>\n",
       "      <td>0.0</td>\n",
       "      <td>0.0</td>\n",
       "    </tr>\n",
       "    <tr>\n",
       "      <th>11932</th>\n",
       "      <td>16758818.0</td>\n",
       "      <td>C[C@H](c1ccccc1)N1C(=O)[C@@H]2[C@@H](CC[C@@H]3...</td>\n",
       "      <td>0</td>\n",
       "      <td>13.179767</td>\n",
       "      <td>-1.161112</td>\n",
       "      <td>13.179767</td>\n",
       "      <td>0.077392</td>\n",
       "      <td>0.772281</td>\n",
       "      <td>357.406</td>\n",
       "      <td>334.222</td>\n",
       "      <td>...</td>\n",
       "      <td>0.0</td>\n",
       "      <td>0.0</td>\n",
       "      <td>0.0</td>\n",
       "      <td>0.0</td>\n",
       "      <td>0.0</td>\n",
       "      <td>0.0</td>\n",
       "      <td>0.0</td>\n",
       "      <td>0.0</td>\n",
       "      <td>0.0</td>\n",
       "      <td>0.0</td>\n",
       "    </tr>\n",
       "    <tr>\n",
       "      <th>11933</th>\n",
       "      <td>10847630.0</td>\n",
       "      <td>COC(=O)NC/C=C\\c1nc(CCCO)co1</td>\n",
       "      <td>0</td>\n",
       "      <td>10.715530</td>\n",
       "      <td>-0.480844</td>\n",
       "      <td>10.715530</td>\n",
       "      <td>0.139962</td>\n",
       "      <td>0.773508</td>\n",
       "      <td>240.259</td>\n",
       "      <td>224.131</td>\n",
       "      <td>...</td>\n",
       "      <td>0.0</td>\n",
       "      <td>0.0</td>\n",
       "      <td>0.0</td>\n",
       "      <td>0.0</td>\n",
       "      <td>0.0</td>\n",
       "      <td>0.0</td>\n",
       "      <td>0.0</td>\n",
       "      <td>0.0</td>\n",
       "      <td>0.0</td>\n",
       "      <td>0.0</td>\n",
       "    </tr>\n",
       "  </tbody>\n",
       "</table>\n",
       "<p>11934 rows × 211 columns</p>\n",
       "</div>"
      ],
      "text/plain": [
       "              ids                                             smiles  Y  \\\n",
       "0       1960010.0       CCN1C(=O)/C(=C2\\SC(=S)N(CCCOC)C2=O)c2ccccc21  1   \n",
       "1        644851.0                   Clc1ccccc1-c1nc(-c2ccccc2)n[nH]1  1   \n",
       "2        644890.0    COc1ccccc1C(c1nnnn1C(C)(C)C)N1CCN(Cc2ccncc2)CC1  1   \n",
       "3        644968.0               COc1ccccc1CNC(=O)Cn1nnc(-c2ccncc2)n1  1   \n",
       "4        645164.0  CCC(c1nnnn1CC1CCCO1)N(CCN1CCOCC1)Cc1cc2cc(C)cc...  0   \n",
       "...           ...                                                ... ..   \n",
       "11929  16758814.0  CCN1C(=O)[C@@H]2[C@@H](CC[C@@H]3C(=O)C=C[C@@H]...  0   \n",
       "11930  16758815.0           C=CC1=C[C@@H](O)[C@@H]2O[C@@H]2C12OCCCO2  0   \n",
       "11931  16758816.0  O=C1[C@H]2CC=C3[C@@H]([C@H](O)[C@H]4O[C@@H]4C3...  0   \n",
       "11932  16758818.0  C[C@H](c1ccccc1)N1C(=O)[C@@H]2[C@@H](CC[C@@H]3...  0   \n",
       "11933  10847630.0                        COC(=O)NC/C=C\\c1nc(CCCO)co1  0   \n",
       "\n",
       "       MaxEStateIndex  MinEStateIndex  MaxAbsEStateIndex  MinAbsEStateIndex  \\\n",
       "0           12.820479       -0.183140          12.820479           0.128619   \n",
       "1            6.126257        0.660427           6.126257           0.660427   \n",
       "2            5.719940       -0.219974           5.719940           0.075509   \n",
       "3           12.040634       -0.208718          12.040634           0.006714   \n",
       "4           13.082813       -0.044883          13.082813           0.018472   \n",
       "...               ...             ...                ...                ...   \n",
       "11929       12.346902       -0.801800          12.346902           0.024123   \n",
       "11930        9.674588       -0.801690           9.674588           0.174259   \n",
       "11931       13.390758       -1.019880          13.390758           0.162294   \n",
       "11932       13.179767       -1.161112          13.179767           0.077392   \n",
       "11933       10.715530       -0.480844          10.715530           0.139962   \n",
       "\n",
       "            qed    MolWt  HeavyAtomMolWt  ...  fr_sulfide  fr_sulfonamd  \\\n",
       "0      0.457873  362.476         344.332  ...         1.0           0.0   \n",
       "1      0.756902  255.708         245.628  ...         0.0           0.0   \n",
       "2      0.605920  421.549         390.301  ...         0.0           0.0   \n",
       "3      0.728361  324.344         308.216  ...         0.0           0.0   \n",
       "4      0.457249  495.628         458.332  ...         0.0           0.0   \n",
       "...         ...      ...             ...  ...         ...           ...   \n",
       "11929  0.682518  263.293         246.157  ...         0.0           0.0   \n",
       "11930  0.635371  210.229         196.117  ...         0.0           0.0   \n",
       "11931  0.455270  397.427         374.243  ...         0.0           0.0   \n",
       "11932  0.772281  357.406         334.222  ...         0.0           0.0   \n",
       "11933  0.773508  240.259         224.131  ...         0.0           0.0   \n",
       "\n",
       "       fr_sulfone  fr_term_acetylene  fr_tetrazole  fr_thiazole  fr_thiocyan  \\\n",
       "0             0.0                0.0           0.0          0.0          0.0   \n",
       "1             0.0                0.0           0.0          0.0          0.0   \n",
       "2             0.0                0.0           1.0          0.0          0.0   \n",
       "3             0.0                0.0           1.0          0.0          0.0   \n",
       "4             0.0                0.0           1.0          0.0          0.0   \n",
       "...           ...                ...           ...          ...          ...   \n",
       "11929         0.0                0.0           0.0          0.0          0.0   \n",
       "11930         0.0                0.0           0.0          0.0          0.0   \n",
       "11931         0.0                0.0           0.0          0.0          0.0   \n",
       "11932         0.0                0.0           0.0          0.0          0.0   \n",
       "11933         0.0                0.0           0.0          0.0          0.0   \n",
       "\n",
       "       fr_thiophene  fr_unbrch_alkane  fr_urea  \n",
       "0               0.0               1.0      0.0  \n",
       "1               0.0               0.0      0.0  \n",
       "2               0.0               0.0      0.0  \n",
       "3               0.0               0.0      0.0  \n",
       "4               0.0               0.0      0.0  \n",
       "...             ...               ...      ...  \n",
       "11929           0.0               0.0      0.0  \n",
       "11930           0.0               0.0      0.0  \n",
       "11931           0.0               0.0      0.0  \n",
       "11932           0.0               0.0      0.0  \n",
       "11933           0.0               0.0      0.0  \n",
       "\n",
       "[11934 rows x 211 columns]"
      ]
     },
     "execution_count": 9,
     "metadata": {},
     "output_type": "execute_result"
    }
   ],
   "source": [
    "df = pd.concat([df_cyp2c9, df_features], axis=1)\n",
    "df"
   ]
  },
  {
   "attachments": {},
   "cell_type": "markdown",
   "metadata": {},
   "source": [
    "## 2. Informações sobre os  dados:"
   ]
  },
  {
   "attachments": {},
   "cell_type": "markdown",
   "metadata": {},
   "source": [
    "### 2.1. Análise Descritiva:\n",
    "\n",
    "O conjunto de dados a ser analisados representa uma coleção de compostos químicos, cada um representado por um ID único, uma string SMILES (uma representação compacta da estrutura molecular) e várias propriedades e características da molécula. Essas propriedades incluem descritores numéricos da estrutura molecular, como MaxEStateIndex, MinEStateIndex, MaxAbsEStateIndex e MinAbsEStateIndex, bem como a presença ou ausência de várias subestruturas moleculares, como fr_sulfide, fr_sulfonamd e fr_sulfone. A coluna Y é uma variável binária que indica se a molécula inibe (valor 1) ou não (valor 0) a enzima cyp2c9 ."
   ]
  },
  {
   "attachments": {},
   "cell_type": "markdown",
   "metadata": {},
   "source": [
    "2.1.1 - Análise dos metadados"
   ]
  },
  {
   "cell_type": "code",
   "execution_count": 10,
   "metadata": {},
   "outputs": [
    {
     "name": "stdout",
     "output_type": "stream",
     "text": [
      "Dimensões: (11934, 3)\n"
     ]
    }
   ],
   "source": [
    "# Ver as dimensões do DataFrame\n",
    "\n",
    "print(\"Dimensões:\", df_cyp2c9.shape)"
   ]
  },
  {
   "cell_type": "code",
   "execution_count": 11,
   "metadata": {},
   "outputs": [
    {
     "name": "stdout",
     "output_type": "stream",
     "text": [
      "         ids                                             smiles  Y\n",
      "0  1960010.0       CCN1C(=O)/C(=C2\\SC(=S)N(CCCOC)C2=O)c2ccccc21  1\n",
      "1   644851.0                   Clc1ccccc1-c1nc(-c2ccccc2)n[nH]1  1\n",
      "2   644890.0    COc1ccccc1C(c1nnnn1C(C)(C)C)N1CCN(Cc2ccncc2)CC1  1\n",
      "3   644968.0               COc1ccccc1CNC(=O)Cn1nnc(-c2ccncc2)n1  1\n",
      "4   645164.0  CCC(c1nnnn1CC1CCCO1)N(CCN1CCOCC1)Cc1cc2cc(C)cc...  0\n"
     ]
    }
   ],
   "source": [
    "# Ver as primeiras linhas do DataFrame\n",
    "\n",
    "print(df_cyp2c9.head())"
   ]
  },
  {
   "cell_type": "code",
   "execution_count": 12,
   "metadata": {},
   "outputs": [
    {
     "name": "stdout",
     "output_type": "stream",
     "text": [
      "ids       float64\n",
      "smiles     object\n",
      "Y           int64\n",
      "dtype: object\n"
     ]
    }
   ],
   "source": [
    "# Ver os tipos de dados de cada coluna\n",
    "\n",
    "print(df_cyp2c9.dtypes)"
   ]
  },
  {
   "cell_type": "code",
   "execution_count": 13,
   "metadata": {},
   "outputs": [
    {
     "name": "stdout",
     "output_type": "stream",
     "text": [
      "ids       11934\n",
      "smiles    11934\n",
      "Y             2\n",
      "dtype: int64\n"
     ]
    }
   ],
   "source": [
    "# Ver o número de valores únicos em cada coluna\n",
    "\n",
    "print(df_cyp2c9.nunique())"
   ]
  },
  {
   "cell_type": "code",
   "execution_count": 14,
   "metadata": {},
   "outputs": [
    {
     "data": {
      "text/plain": [
       "ids       0\n",
       "smiles    0\n",
       "Y         0\n",
       "dtype: int64"
      ]
     },
     "execution_count": 14,
     "metadata": {},
     "output_type": "execute_result"
    }
   ],
   "source": [
    "# Ver a quantidade de valores ausentes em cada coluna\n",
    "\n",
    "df_cyp2c9.isnull().sum()\n",
    "\n"
   ]
  },
  {
   "attachments": {},
   "cell_type": "markdown",
   "metadata": {},
   "source": [
    "\n",
    "- Vimos também que não há valores omissos nem valores duplicados no dataframe  \" df_cyp2c9 \" pelo que este tipo de pré-processamento pode ser ultrapassado."
   ]
  },
  {
   "attachments": {},
   "cell_type": "markdown",
   "metadata": {},
   "source": [
    "2.1.2 - Análise do dados:"
   ]
  },
  {
   "cell_type": "code",
   "execution_count": 15,
   "metadata": {},
   "outputs": [
    {
     "name": "stdout",
     "output_type": "stream",
     "text": [
      "Dimensões:  (11934, 208)\n"
     ]
    }
   ],
   "source": [
    "# Ver as dimensões do DataFrame\n",
    "print(\"Dimensões: \", df_features.shape)"
   ]
  },
  {
   "cell_type": "code",
   "execution_count": 16,
   "metadata": {},
   "outputs": [
    {
     "name": "stdout",
     "output_type": "stream",
     "text": [
      "   MaxEStateIndex  MinEStateIndex  MaxAbsEStateIndex  MinAbsEStateIndex  \\\n",
      "0       12.820479       -0.183140          12.820479           0.128619   \n",
      "1        6.126257        0.660427           6.126257           0.660427   \n",
      "2        5.719940       -0.219974           5.719940           0.075509   \n",
      "3       12.040634       -0.208718          12.040634           0.006714   \n",
      "4       13.082813       -0.044883          13.082813           0.018472   \n",
      "\n",
      "        qed    MolWt  HeavyAtomMolWt  ExactMolWt  NumValenceElectrons  \\\n",
      "0  0.457873  362.476         344.332   362.07590                126.0   \n",
      "1  0.756902  255.708         245.628   255.05632                 88.0   \n",
      "2  0.605920  421.549         390.301   421.25900                164.0   \n",
      "3  0.728361  324.344         308.216   324.13348                122.0   \n",
      "4  0.457249  495.628         458.332   495.29578                194.0   \n",
      "\n",
      "   NumRadicalElectrons  ...  fr_sulfide  fr_sulfonamd  fr_sulfone  \\\n",
      "0                  0.0  ...         1.0           0.0         0.0   \n",
      "1                  0.0  ...         0.0           0.0         0.0   \n",
      "2                  0.0  ...         0.0           0.0         0.0   \n",
      "3                  0.0  ...         0.0           0.0         0.0   \n",
      "4                  0.0  ...         0.0           0.0         0.0   \n",
      "\n",
      "   fr_term_acetylene  fr_tetrazole  fr_thiazole  fr_thiocyan  fr_thiophene  \\\n",
      "0                0.0           0.0          0.0          0.0           0.0   \n",
      "1                0.0           0.0          0.0          0.0           0.0   \n",
      "2                0.0           1.0          0.0          0.0           0.0   \n",
      "3                0.0           1.0          0.0          0.0           0.0   \n",
      "4                0.0           1.0          0.0          0.0           0.0   \n",
      "\n",
      "   fr_unbrch_alkane  fr_urea  \n",
      "0               1.0      0.0  \n",
      "1               0.0      0.0  \n",
      "2               0.0      0.0  \n",
      "3               0.0      0.0  \n",
      "4               0.0      0.0  \n",
      "\n",
      "[5 rows x 208 columns]\n"
     ]
    }
   ],
   "source": [
    "# Ver as primeiras linhas do DataFrame\n",
    "print(df_features.head())"
   ]
  },
  {
   "cell_type": "code",
   "execution_count": 17,
   "metadata": {},
   "outputs": [
    {
     "name": "stdout",
     "output_type": "stream",
     "text": [
      "MaxEStateIndex       float64\n",
      "MinEStateIndex       float64\n",
      "MaxAbsEStateIndex    float64\n",
      "MinAbsEStateIndex    float64\n",
      "qed                  float64\n",
      "                      ...   \n",
      "fr_thiazole          float64\n",
      "fr_thiocyan          float64\n",
      "fr_thiophene         float64\n",
      "fr_unbrch_alkane     float64\n",
      "fr_urea              float64\n",
      "Length: 208, dtype: object\n"
     ]
    }
   ],
   "source": [
    "# Ver os tipos de dados de cada coluna\n",
    "print(df_features.dtypes)"
   ]
  },
  {
   "cell_type": "code",
   "execution_count": 18,
   "metadata": {},
   "outputs": [
    {
     "name": "stdout",
     "output_type": "stream",
     "text": [
      "MaxEStateIndex       11574\n",
      "MinEStateIndex       11439\n",
      "MaxAbsEStateIndex    11574\n",
      "MinAbsEStateIndex    11304\n",
      "qed                  10876\n",
      "                     ...  \n",
      "fr_thiazole              4\n",
      "fr_thiocyan              2\n",
      "fr_thiophene             3\n",
      "fr_unbrch_alkane        20\n",
      "fr_urea                  5\n",
      "Length: 208, dtype: int64\n"
     ]
    }
   ],
   "source": [
    "# Ver o número de valores únicos em cada coluna\n",
    "print(df_features.nunique())"
   ]
  },
  {
   "cell_type": "code",
   "execution_count": 19,
   "metadata": {},
   "outputs": [
    {
     "name": "stdout",
     "output_type": "stream",
     "text": [
      "MaxEStateIndex       0\n",
      "MinEStateIndex       0\n",
      "MaxAbsEStateIndex    0\n",
      "MinAbsEStateIndex    0\n",
      "qed                  0\n",
      "                    ..\n",
      "fr_thiazole          0\n",
      "fr_thiocyan          0\n",
      "fr_thiophene         0\n",
      "fr_unbrch_alkane     0\n",
      "fr_urea              0\n",
      "Length: 208, dtype: int64\n"
     ]
    }
   ],
   "source": [
    "# Ver a quantidade de valores ausentes em cada coluna\n",
    "print(df_features.isnull().sum())"
   ]
  },
  {
   "attachments": {},
   "cell_type": "markdown",
   "metadata": {},
   "source": [
    "### Descrição das Features"
   ]
  },
  {
   "attachments": {},
   "cell_type": "markdown",
   "metadata": {},
   "source": [
    "Nas colunas do dataframe features estão representadas algumas propriedades dos compostos químicos que são avaliadas neste tipo de estudo, onde se pretende demonstrar se um composto tem capacidade de inibição de um certo gene.\n",
    "\n",
    "A escolha das propriedades a ser analisadas vai ser baseada na sua possível importância biológica. \n",
    "\n",
    "As propriedades a ser analisadas são:\n",
    "\n",
    "- BertzCT : Representa a complexidade estrutural.\n",
    "\n",
    "- MaxAbsEStateIndex :  Pode ser usado para identificar o átomo mais doador ou retirador de eletrões no composto, o que pode ser importante para entender a reatividade ou atividade biológica do composto.\n",
    "\n",
    "- MinAbsEStateIndex : Pode ser usado para identificar o átomo menos doador ou retirador de eletrões no composto, o que pode ser importante para entender a reatividade ou atividade biológica do composto.\n",
    "\n",
    "- qed :  Estima de forma quantitativa a drug-likeness. Varia de 0 a 1, com pontuações mais altas indicando uma maior probabilidade de o composto ser oralmente biodisponível e ter propriedades farmacológicas desejáveis.\n",
    "\n",
    "- MolWt : MolWt é um descritor que representa o peso molecular de um composto. \n",
    "\n",
    "- NumValenceElectrons : Número de elétrões de valência\n",
    "\n",
    "- FpDensityMorgan3 : Grau de semelhança entre moleculas diferentes no nível 3, sendo usado para prever as suas propriedades, tais como solubilidade, toxicidade e atividade contra um alvo específico.\n"
   ]
  },
  {
   "cell_type": "code",
   "execution_count": 69,
   "metadata": {},
   "outputs": [
    {
     "data": {
      "text/plain": [
       "0         745.10614\n",
       "1         661.56570\n",
       "2         974.84500\n",
       "3         818.19965\n",
       "4        1197.71120\n",
       "            ...    \n",
       "11929     483.83765\n",
       "11930     316.54962\n",
       "11931     891.82336\n",
       "11932     747.82825\n",
       "11933     373.30325\n",
       "Name: BertzCT, Length: 11934, dtype: float64"
      ]
     },
     "execution_count": 69,
     "metadata": {},
     "output_type": "execute_result"
    }
   ],
   "source": [
    "df[\"BertzCT\"]"
   ]
  },
  {
   "cell_type": "code",
   "execution_count": 66,
   "metadata": {},
   "outputs": [
    {
     "name": "stdout",
     "output_type": "stream",
     "text": [
      "ids\n",
      "smiles\n",
      "Y\n",
      "MaxEStateIndex\n",
      "MinEStateIndex\n",
      "MaxAbsEStateIndex\n",
      "MinAbsEStateIndex\n",
      "qed\n",
      "MolWt\n",
      "HeavyAtomMolWt\n",
      "ExactMolWt\n",
      "NumValenceElectrons\n",
      "NumRadicalElectrons\n",
      "MaxPartialCharge\n",
      "MinPartialCharge\n",
      "MaxAbsPartialCharge\n",
      "MinAbsPartialCharge\n",
      "FpDensityMorgan1\n",
      "FpDensityMorgan2\n",
      "FpDensityMorgan3\n",
      "BCUT2D_MWHI\n",
      "BCUT2D_MWLOW\n",
      "BCUT2D_CHGHI\n",
      "BCUT2D_CHGLO\n",
      "BCUT2D_LOGPHI\n",
      "BCUT2D_LOGPLOW\n",
      "BCUT2D_MRHI\n",
      "BCUT2D_MRLOW\n",
      "BalabanJ\n",
      "BertzCT\n",
      "Chi0\n",
      "Chi0n\n",
      "Chi0v\n",
      "Chi1\n",
      "Chi1n\n",
      "Chi1v\n",
      "Chi2n\n",
      "Chi2v\n",
      "Chi3n\n",
      "Chi3v\n",
      "Chi4n\n",
      "Chi4v\n",
      "HallKierAlpha\n",
      "Ipc\n",
      "Kappa1\n",
      "Kappa2\n",
      "Kappa3\n",
      "LabuteASA\n",
      "PEOE_VSA1\n",
      "PEOE_VSA10\n",
      "PEOE_VSA11\n",
      "PEOE_VSA12\n",
      "PEOE_VSA13\n",
      "PEOE_VSA14\n",
      "PEOE_VSA2\n",
      "PEOE_VSA3\n",
      "PEOE_VSA4\n",
      "PEOE_VSA5\n",
      "PEOE_VSA6\n",
      "PEOE_VSA7\n",
      "PEOE_VSA8\n",
      "PEOE_VSA9\n",
      "SMR_VSA1\n",
      "SMR_VSA10\n",
      "SMR_VSA2\n",
      "SMR_VSA3\n",
      "SMR_VSA4\n",
      "SMR_VSA5\n",
      "SMR_VSA6\n",
      "SMR_VSA7\n",
      "SMR_VSA8\n",
      "SMR_VSA9\n",
      "SlogP_VSA1\n",
      "SlogP_VSA10\n",
      "SlogP_VSA11\n",
      "SlogP_VSA12\n",
      "SlogP_VSA2\n",
      "SlogP_VSA3\n",
      "SlogP_VSA4\n",
      "SlogP_VSA5\n",
      "SlogP_VSA6\n",
      "SlogP_VSA7\n",
      "SlogP_VSA8\n",
      "SlogP_VSA9\n",
      "TPSA\n",
      "EState_VSA1\n",
      "EState_VSA10\n",
      "EState_VSA11\n",
      "EState_VSA2\n",
      "EState_VSA3\n",
      "EState_VSA4\n",
      "EState_VSA5\n",
      "EState_VSA6\n",
      "EState_VSA7\n",
      "EState_VSA8\n",
      "EState_VSA9\n",
      "VSA_EState1\n",
      "VSA_EState10\n",
      "VSA_EState2\n",
      "VSA_EState3\n",
      "VSA_EState4\n",
      "VSA_EState5\n",
      "VSA_EState6\n",
      "VSA_EState7\n",
      "VSA_EState8\n",
      "VSA_EState9\n",
      "FractionCSP3\n",
      "HeavyAtomCount\n",
      "NHOHCount\n",
      "NOCount\n",
      "NumAliphaticCarbocycles\n",
      "NumAliphaticHeterocycles\n",
      "NumAliphaticRings\n",
      "NumAromaticCarbocycles\n",
      "NumAromaticHeterocycles\n",
      "NumAromaticRings\n",
      "NumHAcceptors\n",
      "NumHDonors\n",
      "NumHeteroatoms\n",
      "NumRotatableBonds\n",
      "NumSaturatedCarbocycles\n",
      "NumSaturatedHeterocycles\n",
      "NumSaturatedRings\n",
      "RingCount\n",
      "MolLogP\n",
      "MolMR\n",
      "fr_Al_COO\n",
      "fr_Al_OH\n",
      "fr_Al_OH_noTert\n",
      "fr_ArN\n",
      "fr_Ar_COO\n",
      "fr_Ar_N\n",
      "fr_Ar_NH\n",
      "fr_Ar_OH\n",
      "fr_COO\n",
      "fr_COO2\n",
      "fr_C_O\n",
      "fr_C_O_noCOO\n",
      "fr_C_S\n",
      "fr_HOCCN\n",
      "fr_Imine\n",
      "fr_NH0\n",
      "fr_NH1\n",
      "fr_NH2\n",
      "fr_N_O\n",
      "fr_Ndealkylation1\n",
      "fr_Ndealkylation2\n",
      "fr_Nhpyrrole\n",
      "fr_SH\n",
      "fr_aldehyde\n",
      "fr_alkyl_carbamate\n",
      "fr_alkyl_halide\n",
      "fr_allylic_oxid\n",
      "fr_amide\n",
      "fr_amidine\n",
      "fr_aniline\n",
      "fr_aryl_methyl\n",
      "fr_azide\n",
      "fr_azo\n",
      "fr_barbitur\n",
      "fr_benzene\n",
      "fr_benzodiazepine\n",
      "fr_bicyclic\n",
      "fr_diazo\n",
      "fr_dihydropyridine\n",
      "fr_epoxide\n",
      "fr_ester\n",
      "fr_ether\n",
      "fr_furan\n",
      "fr_guanido\n",
      "fr_halogen\n",
      "fr_hdrzine\n",
      "fr_hdrzone\n",
      "fr_imidazole\n",
      "fr_imide\n",
      "fr_isocyan\n",
      "fr_isothiocyan\n",
      "fr_ketone\n",
      "fr_ketone_Topliss\n",
      "fr_lactam\n",
      "fr_lactone\n",
      "fr_methoxy\n",
      "fr_morpholine\n",
      "fr_nitrile\n",
      "fr_nitro\n",
      "fr_nitro_arom\n",
      "fr_nitro_arom_nonortho\n",
      "fr_nitroso\n",
      "fr_oxazole\n",
      "fr_oxime\n",
      "fr_para_hydroxylation\n",
      "fr_phenol\n",
      "fr_phenol_noOrthoHbond\n",
      "fr_phos_acid\n",
      "fr_phos_ester\n",
      "fr_piperdine\n",
      "fr_piperzine\n",
      "fr_priamide\n",
      "fr_prisulfonamd\n",
      "fr_pyridine\n",
      "fr_quatN\n",
      "fr_sulfide\n",
      "fr_sulfonamd\n",
      "fr_sulfone\n",
      "fr_term_acetylene\n",
      "fr_tetrazole\n",
      "fr_thiazole\n",
      "fr_thiocyan\n",
      "fr_thiophene\n",
      "fr_unbrch_alkane\n",
      "fr_urea\n"
     ]
    }
   ],
   "source": [
    "for x in df:\n",
    "    print(x)"
   ]
  },
  {
   "attachments": {},
   "cell_type": "markdown",
   "metadata": {},
   "source": [
    "# 3. Pré - processamento (normalização\n",
    ")\n",
    "\n",
    "\n",
    "\n",
    "- Algumas tarefas de pré-processamento que podem ser necessárias incluem:\n",
    "\n",
    "- Remoção de valores duplicados\n",
    "- Tratamento de valores ausentes\n",
    "- Conversão de tipos de dados\n",
    "- Normalização de dados\n",
    "- Remoção de colunas irrelevantes"
   ]
  },
  {
   "attachments": {},
   "cell_type": "markdown",
   "metadata": {},
   "source": [
    "##### - Neste caso, não há necessidade de realizar nenhum pré-processamento nos dados, visto que não há valores omissos nem duplicados. No entanto, para a análise estatística univariada e multivariada, é necessário separar os dados em grupos, um para os compostos que inibem a enzima CYP2C9 e outro para os que não inibem."
   ]
  },
  {
   "attachments": {},
   "cell_type": "markdown",
   "metadata": {},
   "source": [
    "###  3.1 - Criação e Divisão em dataframes dos compostos que inibiam e não inibiam o CYP2C9"
   ]
  },
  {
   "cell_type": "code",
   "execution_count": 20,
   "metadata": {},
   "outputs": [],
   "source": [
    "df_cyp2c9_y_1 = df_cyp2c9[df_cyp2c9['Y'] == 1]\n",
    "df_cyp2c9_y_0 = df_cyp2c9[df_cyp2c9[\"Y\"] == 0]"
   ]
  },
  {
   "attachments": {},
   "cell_type": "markdown",
   "metadata": {},
   "source": [
    "# 4 - Sumarização dos dados\n",
    "\n",
    "\n",
    "### 4.1 - Estatística Descritiva"
   ]
  },
  {
   "cell_type": "code",
   "execution_count": 21,
   "metadata": {},
   "outputs": [
    {
     "name": "stdout",
     "output_type": "stream",
     "text": [
      "<class 'pandas.core.frame.DataFrame'>\n",
      "RangeIndex: 11934 entries, 0 to 11933\n",
      "Data columns (total 3 columns):\n",
      " #   Column  Non-Null Count  Dtype  \n",
      "---  ------  --------------  -----  \n",
      " 0   ids     11934 non-null  float64\n",
      " 1   smiles  11934 non-null  object \n",
      " 2   Y       11934 non-null  int64  \n",
      "dtypes: float64(1), int64(1), object(1)\n",
      "memory usage: 279.8+ KB\n"
     ]
    }
   ],
   "source": [
    "df_cyp2c9.info()"
   ]
  },
  {
   "cell_type": "code",
   "execution_count": 22,
   "metadata": {},
   "outputs": [
    {
     "data": {
      "text/html": [
       "<div>\n",
       "<style scoped>\n",
       "    .dataframe tbody tr th:only-of-type {\n",
       "        vertical-align: middle;\n",
       "    }\n",
       "\n",
       "    .dataframe tbody tr th {\n",
       "        vertical-align: top;\n",
       "    }\n",
       "\n",
       "    .dataframe thead th {\n",
       "        text-align: right;\n",
       "    }\n",
       "</style>\n",
       "<table border=\"1\" class=\"dataframe\">\n",
       "  <thead>\n",
       "    <tr style=\"text-align: right;\">\n",
       "      <th></th>\n",
       "      <th>MaxEStateIndex</th>\n",
       "      <th>MinEStateIndex</th>\n",
       "      <th>MaxAbsEStateIndex</th>\n",
       "      <th>MinAbsEStateIndex</th>\n",
       "      <th>qed</th>\n",
       "      <th>MolWt</th>\n",
       "      <th>HeavyAtomMolWt</th>\n",
       "      <th>ExactMolWt</th>\n",
       "      <th>NumValenceElectrons</th>\n",
       "      <th>NumRadicalElectrons</th>\n",
       "      <th>...</th>\n",
       "      <th>fr_sulfide</th>\n",
       "      <th>fr_sulfonamd</th>\n",
       "      <th>fr_sulfone</th>\n",
       "      <th>fr_term_acetylene</th>\n",
       "      <th>fr_tetrazole</th>\n",
       "      <th>fr_thiazole</th>\n",
       "      <th>fr_thiocyan</th>\n",
       "      <th>fr_thiophene</th>\n",
       "      <th>fr_unbrch_alkane</th>\n",
       "      <th>fr_urea</th>\n",
       "    </tr>\n",
       "  </thead>\n",
       "  <tbody>\n",
       "    <tr>\n",
       "      <th>count</th>\n",
       "      <td>11934.000000</td>\n",
       "      <td>11934.000000</td>\n",
       "      <td>11934.000000</td>\n",
       "      <td>11934.000000</td>\n",
       "      <td>11934.000000</td>\n",
       "      <td>11934.000000</td>\n",
       "      <td>11934.000000</td>\n",
       "      <td>11934.000000</td>\n",
       "      <td>11934.000000</td>\n",
       "      <td>11934.0</td>\n",
       "      <td>...</td>\n",
       "      <td>11934.000000</td>\n",
       "      <td>11934.000000</td>\n",
       "      <td>11934.000000</td>\n",
       "      <td>11934.000000</td>\n",
       "      <td>11934.000000</td>\n",
       "      <td>11934.000000</td>\n",
       "      <td>11934.000000</td>\n",
       "      <td>11934.000000</td>\n",
       "      <td>11934.000000</td>\n",
       "      <td>11934.000000</td>\n",
       "    </tr>\n",
       "    <tr>\n",
       "      <th>mean</th>\n",
       "      <td>11.274808</td>\n",
       "      <td>-0.879382</td>\n",
       "      <td>11.274808</td>\n",
       "      <td>0.192623</td>\n",
       "      <td>0.611521</td>\n",
       "      <td>355.016700</td>\n",
       "      <td>334.581007</td>\n",
       "      <td>354.626917</td>\n",
       "      <td>131.051114</td>\n",
       "      <td>0.0</td>\n",
       "      <td>...</td>\n",
       "      <td>0.101894</td>\n",
       "      <td>0.073571</td>\n",
       "      <td>0.011061</td>\n",
       "      <td>0.004190</td>\n",
       "      <td>0.009804</td>\n",
       "      <td>0.032261</td>\n",
       "      <td>0.000168</td>\n",
       "      <td>0.062929</td>\n",
       "      <td>0.127786</td>\n",
       "      <td>0.044076</td>\n",
       "    </tr>\n",
       "    <tr>\n",
       "      <th>std</th>\n",
       "      <td>2.689638</td>\n",
       "      <td>1.442954</td>\n",
       "      <td>2.689638</td>\n",
       "      <td>0.224866</td>\n",
       "      <td>0.191307</td>\n",
       "      <td>108.988404</td>\n",
       "      <td>103.017461</td>\n",
       "      <td>108.873587</td>\n",
       "      <td>40.828041</td>\n",
       "      <td>0.0</td>\n",
       "      <td>...</td>\n",
       "      <td>0.325473</td>\n",
       "      <td>0.271160</td>\n",
       "      <td>0.104592</td>\n",
       "      <td>0.064595</td>\n",
       "      <td>0.101878</td>\n",
       "      <td>0.189071</td>\n",
       "      <td>0.012945</td>\n",
       "      <td>0.250991</td>\n",
       "      <td>0.774506</td>\n",
       "      <td>0.213281</td>\n",
       "    </tr>\n",
       "    <tr>\n",
       "      <th>min</th>\n",
       "      <td>2.269884</td>\n",
       "      <td>-7.603764</td>\n",
       "      <td>2.269884</td>\n",
       "      <td>0.000000</td>\n",
       "      <td>0.021258</td>\n",
       "      <td>33.030000</td>\n",
       "      <td>30.006000</td>\n",
       "      <td>33.021465</td>\n",
       "      <td>14.000000</td>\n",
       "      <td>0.0</td>\n",
       "      <td>...</td>\n",
       "      <td>0.000000</td>\n",
       "      <td>0.000000</td>\n",
       "      <td>0.000000</td>\n",
       "      <td>0.000000</td>\n",
       "      <td>0.000000</td>\n",
       "      <td>0.000000</td>\n",
       "      <td>0.000000</td>\n",
       "      <td>0.000000</td>\n",
       "      <td>0.000000</td>\n",
       "      <td>0.000000</td>\n",
       "    </tr>\n",
       "    <tr>\n",
       "      <th>25%</th>\n",
       "      <td>10.896393</td>\n",
       "      <td>-1.063285</td>\n",
       "      <td>10.896393</td>\n",
       "      <td>0.043124</td>\n",
       "      <td>0.481696</td>\n",
       "      <td>289.292000</td>\n",
       "      <td>272.175000</td>\n",
       "      <td>289.024430</td>\n",
       "      <td>106.000000</td>\n",
       "      <td>0.0</td>\n",
       "      <td>...</td>\n",
       "      <td>0.000000</td>\n",
       "      <td>0.000000</td>\n",
       "      <td>0.000000</td>\n",
       "      <td>0.000000</td>\n",
       "      <td>0.000000</td>\n",
       "      <td>0.000000</td>\n",
       "      <td>0.000000</td>\n",
       "      <td>0.000000</td>\n",
       "      <td>0.000000</td>\n",
       "      <td>0.000000</td>\n",
       "    </tr>\n",
       "    <tr>\n",
       "      <th>50%</th>\n",
       "      <td>12.242406</td>\n",
       "      <td>-0.402087</td>\n",
       "      <td>12.242406</td>\n",
       "      <td>0.116725</td>\n",
       "      <td>0.632182</td>\n",
       "      <td>347.435000</td>\n",
       "      <td>327.159000</td>\n",
       "      <td>347.133635</td>\n",
       "      <td>128.000000</td>\n",
       "      <td>0.0</td>\n",
       "      <td>...</td>\n",
       "      <td>0.000000</td>\n",
       "      <td>0.000000</td>\n",
       "      <td>0.000000</td>\n",
       "      <td>0.000000</td>\n",
       "      <td>0.000000</td>\n",
       "      <td>0.000000</td>\n",
       "      <td>0.000000</td>\n",
       "      <td>0.000000</td>\n",
       "      <td>0.000000</td>\n",
       "      <td>0.000000</td>\n",
       "    </tr>\n",
       "    <tr>\n",
       "      <th>75%</th>\n",
       "      <td>12.924319</td>\n",
       "      <td>-0.062750</td>\n",
       "      <td>12.924319</td>\n",
       "      <td>0.237865</td>\n",
       "      <td>0.772312</td>\n",
       "      <td>409.507250</td>\n",
       "      <td>386.231750</td>\n",
       "      <td>409.140095</td>\n",
       "      <td>152.000000</td>\n",
       "      <td>0.0</td>\n",
       "      <td>...</td>\n",
       "      <td>0.000000</td>\n",
       "      <td>0.000000</td>\n",
       "      <td>0.000000</td>\n",
       "      <td>0.000000</td>\n",
       "      <td>0.000000</td>\n",
       "      <td>0.000000</td>\n",
       "      <td>0.000000</td>\n",
       "      <td>0.000000</td>\n",
       "      <td>0.000000</td>\n",
       "      <td>0.000000</td>\n",
       "    </tr>\n",
       "    <tr>\n",
       "      <th>max</th>\n",
       "      <td>17.398045</td>\n",
       "      <td>3.500000</td>\n",
       "      <td>17.398045</td>\n",
       "      <td>3.811700</td>\n",
       "      <td>0.947210</td>\n",
       "      <td>1664.922000</td>\n",
       "      <td>1579.242000</td>\n",
       "      <td>1663.492300</td>\n",
       "      <td>606.000000</td>\n",
       "      <td>0.0</td>\n",
       "      <td>...</td>\n",
       "      <td>4.000000</td>\n",
       "      <td>3.000000</td>\n",
       "      <td>1.000000</td>\n",
       "      <td>1.000000</td>\n",
       "      <td>2.000000</td>\n",
       "      <td>4.000000</td>\n",
       "      <td>1.000000</td>\n",
       "      <td>2.000000</td>\n",
       "      <td>26.000000</td>\n",
       "      <td>4.000000</td>\n",
       "    </tr>\n",
       "  </tbody>\n",
       "</table>\n",
       "<p>8 rows × 208 columns</p>\n",
       "</div>"
      ],
      "text/plain": [
       "       MaxEStateIndex  MinEStateIndex  MaxAbsEStateIndex  MinAbsEStateIndex  \\\n",
       "count    11934.000000    11934.000000       11934.000000       11934.000000   \n",
       "mean        11.274808       -0.879382          11.274808           0.192623   \n",
       "std          2.689638        1.442954           2.689638           0.224866   \n",
       "min          2.269884       -7.603764           2.269884           0.000000   \n",
       "25%         10.896393       -1.063285          10.896393           0.043124   \n",
       "50%         12.242406       -0.402087          12.242406           0.116725   \n",
       "75%         12.924319       -0.062750          12.924319           0.237865   \n",
       "max         17.398045        3.500000          17.398045           3.811700   \n",
       "\n",
       "                qed         MolWt  HeavyAtomMolWt    ExactMolWt  \\\n",
       "count  11934.000000  11934.000000    11934.000000  11934.000000   \n",
       "mean       0.611521    355.016700      334.581007    354.626917   \n",
       "std        0.191307    108.988404      103.017461    108.873587   \n",
       "min        0.021258     33.030000       30.006000     33.021465   \n",
       "25%        0.481696    289.292000      272.175000    289.024430   \n",
       "50%        0.632182    347.435000      327.159000    347.133635   \n",
       "75%        0.772312    409.507250      386.231750    409.140095   \n",
       "max        0.947210   1664.922000     1579.242000   1663.492300   \n",
       "\n",
       "       NumValenceElectrons  NumRadicalElectrons  ...    fr_sulfide  \\\n",
       "count         11934.000000              11934.0  ...  11934.000000   \n",
       "mean            131.051114                  0.0  ...      0.101894   \n",
       "std              40.828041                  0.0  ...      0.325473   \n",
       "min              14.000000                  0.0  ...      0.000000   \n",
       "25%             106.000000                  0.0  ...      0.000000   \n",
       "50%             128.000000                  0.0  ...      0.000000   \n",
       "75%             152.000000                  0.0  ...      0.000000   \n",
       "max             606.000000                  0.0  ...      4.000000   \n",
       "\n",
       "       fr_sulfonamd    fr_sulfone  fr_term_acetylene  fr_tetrazole  \\\n",
       "count  11934.000000  11934.000000       11934.000000  11934.000000   \n",
       "mean       0.073571      0.011061           0.004190      0.009804   \n",
       "std        0.271160      0.104592           0.064595      0.101878   \n",
       "min        0.000000      0.000000           0.000000      0.000000   \n",
       "25%        0.000000      0.000000           0.000000      0.000000   \n",
       "50%        0.000000      0.000000           0.000000      0.000000   \n",
       "75%        0.000000      0.000000           0.000000      0.000000   \n",
       "max        3.000000      1.000000           1.000000      2.000000   \n",
       "\n",
       "        fr_thiazole   fr_thiocyan  fr_thiophene  fr_unbrch_alkane  \\\n",
       "count  11934.000000  11934.000000  11934.000000      11934.000000   \n",
       "mean       0.032261      0.000168      0.062929          0.127786   \n",
       "std        0.189071      0.012945      0.250991          0.774506   \n",
       "min        0.000000      0.000000      0.000000          0.000000   \n",
       "25%        0.000000      0.000000      0.000000          0.000000   \n",
       "50%        0.000000      0.000000      0.000000          0.000000   \n",
       "75%        0.000000      0.000000      0.000000          0.000000   \n",
       "max        4.000000      1.000000      2.000000         26.000000   \n",
       "\n",
       "            fr_urea  \n",
       "count  11934.000000  \n",
       "mean       0.044076  \n",
       "std        0.213281  \n",
       "min        0.000000  \n",
       "25%        0.000000  \n",
       "50%        0.000000  \n",
       "75%        0.000000  \n",
       "max        4.000000  \n",
       "\n",
       "[8 rows x 208 columns]"
      ]
     },
     "execution_count": 22,
     "metadata": {},
     "output_type": "execute_result"
    }
   ],
   "source": [
    "df_features.describe()"
   ]
  },
  {
   "cell_type": "code",
   "execution_count": 23,
   "metadata": {},
   "outputs": [
    {
     "name": "stdout",
     "output_type": "stream",
     "text": [
      "<class 'pandas.core.frame.DataFrame'>\n",
      "RangeIndex: 11934 entries, 0 to 11933\n",
      "Columns: 208 entries, MaxEStateIndex to fr_urea\n",
      "dtypes: float64(208)\n",
      "memory usage: 18.9 MB\n"
     ]
    }
   ],
   "source": [
    "df_features.info()"
   ]
  },
  {
   "attachments": {},
   "cell_type": "markdown",
   "metadata": {},
   "source": [
    "### 4.2 - Apoio gráfico à Sumarização"
   ]
  },
  {
   "cell_type": "code",
   "execution_count": 24,
   "metadata": {},
   "outputs": [
    {
     "data": {
      "image/png": "[encoded data removed]",
      "text/plain": [
       "<Figure size 432x288 with 1 Axes>"
      ]
     },
     "metadata": {},
     "output_type": "display_data"
    }
   ],
   "source": [
    "counts = df_cyp2c9['Y'].value_counts()\n",
    "colours = sns.color_palette(\"pastel\")[0:2]\n",
    "plt.pie(counts.values, labels=counts.index, autopct='%1.1f%%', colors=colours)\n",
    "\n",
    "\n",
    "plt.title('Comportamento dos Compostos no CYP2C9')\n",
    "plt.legend([\"Não Inibem\",\"Inibem\"])\n",
    "plt.show()"
   ]
  },
  {
   "attachments": {},
   "cell_type": "markdown",
   "metadata": {},
   "source": [
    "**Conclusão** : Pelo gráfico conseguimos perceber que há mais compostos que não inibem a enzima cyp2c9 (66.3%) do que os que inibem (33.7%)"
   ]
  },
  {
   "attachments": {},
   "cell_type": "markdown",
   "metadata": {},
   "source": [
    "De seguida, apresentam-se gráficos para uma análise da distribuição das variáveis numéricas em estudo:"
   ]
  },
  {
   "cell_type": "code",
   "execution_count": 83,
   "metadata": {},
   "outputs": [
    {
     "data": {
      "image/png": "[encoded data removed]",
      "text/plain": [
       "<Figure size 360x360 with 1 Axes>"
      ]
     },
     "metadata": {
      "needs_background": "light"
     },
     "output_type": "display_data"
    },
    {
     "data": {
      "image/png": "[encoded data removed]",
      "text/plain": [
       "<Figure size 360x360 with 1 Axes>"
      ]
     },
     "metadata": {
      "needs_background": "light"
     },
     "output_type": "display_data"
    },
    {
     "data": {
      "image/png": "[encoded data removed]",
      "text/plain": [
       "<Figure size 360x360 with 1 Axes>"
      ]
     },
     "metadata": {
      "needs_background": "light"
     },
     "output_type": "display_data"
    },
    {
     "data": {
      "image/png": "[encoded data removed]",
      "text/plain": [
       "<Figure size 360x360 with 1 Axes>"
      ]
     },
     "metadata": {
      "needs_background": "light"
     },
     "output_type": "display_data"
    },
    {
     "data": {
      "image/png": "[encoded data removed]",
      "text/plain": [
       "<Figure size 360x360 with 1 Axes>"
      ]
     },
     "metadata": {
      "needs_background": "light"
     },
     "output_type": "display_data"
    },
    {
     "data": {
      "image/png": "[encoded data removed]",
      "text/plain": [
       "<Figure size 360x360 with 1 Axes>"
      ]
     },
     "metadata": {
      "needs_background": "light"
     },
     "output_type": "display_data"
    },
    {
     "data": {
      "image/png": "[encoded data removed]",
      "text/plain": [
       "<Figure size 360x360 with 1 Axes>"
      ]
     },
     "metadata": {
      "needs_background": "light"
     },
     "output_type": "display_data"
    },
    {
     "data": {
      "image/png": "[encoded data removed]",
      "text/plain": [
       "<Figure size 360x360 with 1 Axes>"
      ]
     },
     "metadata": {
      "needs_background": "light"
     },
     "output_type": "display_data"
    },
    {
     "data": {
      "image/png": "[encoded data removed]",
      "text/plain": [
       "<Figure size 360x360 with 1 Axes>"
      ]
     },
     "metadata": {
      "needs_background": "light"
     },
     "output_type": "display_data"
    }
   ],
   "source": [
    "l = [\"MaxAbsEStateIndex\",\"MinAbsEStateIndex\",\"NumValenceElectrons\",\"FpDensityMorgan3\",\"FpDensityMorgan2\",\"FpDensityMorgan1\",\"MolWt\",\"qed\",\"BertzCT\"]\n",
    "for col in l:\n",
    "    sns.displot(df[col], kde=True)\n",
    "    plt.show()\n"
   ]
  },
  {
   "cell_type": "code",
   "execution_count": 27,
   "metadata": {},
   "outputs": [
    {
     "data": {
      "image/png": "[encoded data removed]",
      "text/plain": [
       "<Figure size 360x360 with 1 Axes>"
      ]
     },
     "metadata": {
      "needs_background": "light"
     },
     "output_type": "display_data"
    },
    {
     "data": {
      "image/png": "[encoded data removed]",
      "text/plain": [
       "<Figure size 360x360 with 1 Axes>"
      ]
     },
     "metadata": {
      "needs_background": "light"
     },
     "output_type": "display_data"
    },
    {
     "data": {
      "image/png": "[encoded data removed]",
      "text/plain": [
       "<Figure size 360x360 with 1 Axes>"
      ]
     },
     "metadata": {
      "needs_background": "light"
     },
     "output_type": "display_data"
    },
    {
     "data": {
      "image/png": "[encoded data removed]",
      "text/plain": [
       "<Figure size 360x360 with 1 Axes>"
      ]
     },
     "metadata": {
      "needs_background": "light"
     },
     "output_type": "display_data"
    },
    {
     "data": {
      "image/png": "[encoded data removed]",
      "text/plain": [
       "<Figure size 360x360 with 1 Axes>"
      ]
     },
     "metadata": {
      "needs_background": "light"
     },
     "output_type": "display_data"
    },
    {
     "data": {
      "image/png": "[encoded data removed]",
      "text/plain": [
       "<Figure size 360x360 with 1 Axes>"
      ]
     },
     "metadata": {
      "needs_background": "light"
     },
     "output_type": "display_data"
    },
    {
     "data": {
      "image/png": "[encoded data removed]",
      "text/plain": [
       "<Figure size 360x360 with 1 Axes>"
      ]
     },
     "metadata": {
      "needs_background": "light"
     },
     "output_type": "display_data"
    },
    {
     "data": {
      "image/png": "[encoded data removed]",
      "text/plain": [
       "<Figure size 360x360 with 1 Axes>"
      ]
     },
     "metadata": {
      "needs_background": "light"
     },
     "output_type": "display_data"
    },
    {
     "data": {
      "image/png": "[encoded data removed]",
      "text/plain": [
       "<Figure size 360x360 with 1 Axes>"
      ]
     },
     "metadata": {
      "needs_background": "light"
     },
     "output_type": "display_data"
    },
    {
     "data": {
      "image/png": "[encoded data removed]",
      "text/plain": [
       "<Figure size 360x360 with 1 Axes>"
      ]
     },
     "metadata": {
      "needs_background": "light"
     },
     "output_type": "display_data"
    },
    {
     "data": {
      "image/png": "[encoded data removed]",
      "text/plain": [
       "<Figure size 360x360 with 1 Axes>"
      ]
     },
     "metadata": {
      "needs_background": "light"
     },
     "output_type": "display_data"
    },
    {
     "data": {
      "image/png": "[encoded data removed]",
      "text/plain": [
       "<Figure size 360x360 with 1 Axes>"
      ]
     },
     "metadata": {
      "needs_background": "light"
     },
     "output_type": "display_data"
    },
    {
     "data": {
      "image/png": "[encoded data removed]",
      "text/plain": [
       "<Figure size 360x360 with 1 Axes>"
      ]
     },
     "metadata": {
      "needs_background": "light"
     },
     "output_type": "display_data"
    },
    {
     "data": {
      "image/png": "[encoded data removed]",
      "text/plain": [
       "<Figure size 360x360 with 1 Axes>"
      ]
     },
     "metadata": {
      "needs_background": "light"
     },
     "output_type": "display_data"
    },
    {
     "data": {
      "image/png": "[encoded data removed]",
      "text/plain": [
       "<Figure size 360x360 with 1 Axes>"
      ]
     },
     "metadata": {
      "needs_background": "light"
     },
     "output_type": "display_data"
    },
    {
     "data": {
      "image/png": "[encoded data removed]",
      "text/plain": [
       "<Figure size 360x360 with 1 Axes>"
      ]
     },
     "metadata": {
      "needs_background": "light"
     },
     "output_type": "display_data"
    },
    {
     "data": {
      "image/png": "[encoded data removed]",
      "text/plain": [
       "<Figure size 360x360 with 1 Axes>"
      ]
     },
     "metadata": {
      "needs_background": "light"
     },
     "output_type": "display_data"
    },
    {
     "data": {
      "image/png": "[encoded data removed]",
      "text/plain": [
       "<Figure size 360x360 with 1 Axes>"
      ]
     },
     "metadata": {
      "needs_background": "light"
     },
     "output_type": "display_data"
    }
   ],
   "source": [
    "import matplotlib.ticker as ticker\n",
    "\n",
    "for col in df.select_dtypes(include=np.number).columns[190:208]:\n",
    "    g = sns.displot(df[col], kde=False, color='red')\n",
    "    g.set(ylim=(0, 15000))\n",
    "    g.set(xlim=(0,5))   \n",
    "    g.ax.xaxis.set_major_locator(ticker.MaxNLocator(integer=True))\n",
    "    plt.show()"
   ]
  },
  {
   "attachments": {},
   "cell_type": "markdown",
   "metadata": {},
   "source": [
    "# 5.  Análise estatística univariada"
   ]
  },
  {
   "attachments": {},
   "cell_type": "markdown",
   "metadata": {},
   "source": [
    "Para a análise estatística univariada, podemos ainda usar testes estatísticos para identificar compostos com características diferentes em relação à variável 'Y'. Como Y é uma variável binária, podemos usar o teste t de Student para comparar as médias das variáveis independentes entre as duas classes de Y."
   ]
  },
  {
   "attachments": {},
   "cell_type": "markdown",
   "metadata": {},
   "source": [
    "### Testes Estatísticos\n",
    "\n",
    "**H0:** Não há diferenças significativas entre o descritor químico em estudo e a presença de inibição da enzima CYP2C9.\n",
    "\n",
    "\n",
    "**H1:** Há diferenças significativas entre descritor químico em estudo e a presença de inibição da enzima CYP2C9."
   ]
  },
  {
   "cell_type": "code",
   "execution_count": 61,
   "metadata": {},
   "outputs": [
    {
     "name": "stdout",
     "output_type": "stream",
     "text": [
      "Número de descritores químicos que apresentam diferenças significativas na inibição da enzima: 107\n",
      "Número de descritores químicos que não apresentam diferenças significativas na inibição da enzima: 16\n",
      "Lista de descritores químicos que apresentam diferenças significativas na inibição da enzima: ['MaxEStateIndex', 'MinEStateIndex', 'MaxAbsEStateIndex', 'MinAbsEStateIndex', 'qed', 'MolWt', 'HeavyAtomMolWt', 'ExactMolWt', 'NumValenceElectrons', 'MaxPartialCharge', 'MinAbsPartialCharge', 'FpDensityMorgan1', 'FpDensityMorgan2', 'BCUT2D_MWHI', 'BCUT2D_MWLOW', 'BCUT2D_CHGLO', 'BCUT2D_LOGPHI', 'BCUT2D_LOGPLOW', 'BCUT2D_MRHI', 'BalabanJ', 'BertzCT', 'Chi0', 'Chi0n', 'Chi0v', 'Chi1', 'Chi1n', 'Chi1v', 'Chi2n', 'Chi2v', 'Chi3n', 'Chi3v', 'Chi4n', 'Chi4v', 'HallKierAlpha', 'Kappa1', 'Kappa2', 'Kappa3', 'LabuteASA', 'PEOE_VSA1', 'PEOE_VSA11', 'PEOE_VSA13', 'PEOE_VSA14', 'PEOE_VSA2', 'PEOE_VSA3', 'PEOE_VSA4', 'PEOE_VSA5', 'PEOE_VSA6', 'PEOE_VSA7', 'PEOE_VSA9', 'SMR_VSA1', 'SMR_VSA10', 'SMR_VSA2', 'SMR_VSA4', 'SMR_VSA5', 'SMR_VSA6', 'SMR_VSA7', 'SMR_VSA9', 'SlogP_VSA1', 'SlogP_VSA10', 'SlogP_VSA11', 'SlogP_VSA12', 'SlogP_VSA2', 'SlogP_VSA3', 'SlogP_VSA5', 'SlogP_VSA6', 'SlogP_VSA7', 'SlogP_VSA8', 'TPSA', 'EState_VSA1', 'EState_VSA10', 'EState_VSA11', 'EState_VSA2', 'EState_VSA3', 'EState_VSA5', 'EState_VSA6', 'EState_VSA7', 'EState_VSA8', 'EState_VSA9', 'VSA_EState1', 'VSA_EState10', 'VSA_EState2', 'VSA_EState3', 'VSA_EState4', 'VSA_EState5', 'VSA_EState6', 'VSA_EState7', 'VSA_EState8', 'VSA_EState9', 'FractionCSP3', 'HeavyAtomCount', 'NHOHCount', 'NumAliphaticCarbocycles', 'NumAliphaticHeterocycles', 'NumAliphaticRings', 'NumAromaticCarbocycles', 'NumAromaticHeterocycles', 'NumAromaticRings', 'NumHAcceptors', 'NumHDonors', 'NumHeteroatoms', 'NumRotatableBonds', 'NumSaturatedCarbocycles', 'NumSaturatedHeterocycles', 'NumSaturatedRings', 'RingCount', 'MolLogP', 'MolMR']\n",
      "Lista de descritores químicos que não apresentam diferenças significativas na inibição da enzima: ['NumRadicalElectrons', 'MinPartialCharge', 'MaxAbsPartialCharge', 'FpDensityMorgan3', 'BCUT2D_CHGHI', 'BCUT2D_MRLOW', 'Ipc', 'PEOE_VSA10', 'PEOE_VSA12', 'PEOE_VSA8', 'SMR_VSA3', 'SMR_VSA8', 'SlogP_VSA4', 'SlogP_VSA9', 'EState_VSA4', 'NOCount'] \n"
     ]
    }
   ],
   "source": [
    "# T-test geral\n",
    "\n",
    "descritores = df.iloc[:, 3:126:]\n",
    "\n",
    "S=[]\n",
    "NS=[]\n",
    "for x, t in enumerate(descritores):\n",
    "    not_inibited = df[df['Y'] == 0][t]\n",
    "    inibited = df[df['Y'] == 1][t]\n",
    "    p_value = ttest_ind(not_inibited, inibited)[1]\n",
    "    if p_value < 0.05:\n",
    "        S.append(t)\n",
    "    else:\n",
    "        NS.append(t)\n",
    "\n",
    "print(f\"Número de descritores químicos que apresentam diferenças significativas na inibição da enzima: {len(S)}\")\n",
    "print(f\"Número de descritores químicos que não apresentam diferenças significativas na inibição da enzima: {len(NS)}\")\n",
    "print(f\"Lista de descritores químicos que apresentam diferenças significativas na inibição da enzima: {S}\")\n",
    "print(f\"Lista de descritores químicos que não apresentam diferenças significativas na inibição da enzima: {NS} \")"
   ]
  },
  {
   "attachments": {},
   "cell_type": "markdown",
   "metadata": {},
   "source": [
    "##### **Qed**"
   ]
  },
  {
   "cell_type": "code",
   "execution_count": 29,
   "metadata": {},
   "outputs": [
    {
     "data": {
      "text/plain": [
       "Ttest_indResult(statistic=-16.600203456391156, pvalue=3.366466874219499e-61)"
      ]
     },
     "execution_count": 29,
     "metadata": {},
     "output_type": "execute_result"
    }
   ],
   "source": [
    "med_inhib = df[df[\"Y\"] == 1][\"qed\"]\n",
    "med_not_inhib = df[df[\"Y\"] == 0][\"qed\"]\n",
    "ttest_ind(med_inhib, med_not_inhib)\n"
   ]
  },
  {
   "attachments": {},
   "cell_type": "markdown",
   "metadata": {},
   "source": [
    "**Conclusão:** Como a estatistica é de 16.6 e o valor-p é menor que 0.05 (p-value = 3.37e-611.05e-95), a hipótese nula é rejeitada portanto, podemos concluir que há diferenças significativas entre os valores de qed para os compostos com e sem inibição."
   ]
  },
  {
   "attachments": {},
   "cell_type": "markdown",
   "metadata": {},
   "source": [
    "##### **BertzCT**"
   ]
  },
  {
   "cell_type": "code",
   "execution_count": 70,
   "metadata": {},
   "outputs": [
    {
     "data": {
      "text/plain": [
       "Ttest_indResult(statistic=35.58160782492257, pvalue=1.2079120315516387e-263)"
      ]
     },
     "execution_count": 70,
     "metadata": {},
     "output_type": "execute_result"
    }
   ],
   "source": [
    "med_inhib = df[df[\"Y\"] == 1][\"BertzCT\"]\n",
    "med_not_inhib = df[df[\"Y\"] == 0][\"BertzCT\"]\n",
    "ttest_ind(med_inhib, med_not_inhib)"
   ]
  },
  {
   "attachments": {},
   "cell_type": "markdown",
   "metadata": {},
   "source": [
    "**Conclusão:** Como a estatistica é de 35.58 e o valor-p é menor que 0.05 (p-value = 1.21e-263), a hipótese nula é rejeitada portanto, podemos concluir que há diferenças significativas entre os valores de BertzCT para os compostos com e sem inibição."
   ]
  },
  {
   "attachments": {},
   "cell_type": "markdown",
   "metadata": {},
   "source": [
    "##### **FpDensityMorgan3**"
   ]
  },
  {
   "cell_type": "code",
   "execution_count": 73,
   "metadata": {},
   "outputs": [
    {
     "data": {
      "text/plain": [
       "Ttest_indResult(statistic=-0.04940446432587252, pvalue=0.9605977973988798)"
      ]
     },
     "execution_count": 73,
     "metadata": {},
     "output_type": "execute_result"
    }
   ],
   "source": [
    "med_inhib = df[df[\"Y\"] == 1][\"FpDensityMorgan3\"]\n",
    "med_not_inhib = df[df[\"Y\"] == 0][\"FpDensityMorgan3\"]\n",
    "ttest_ind(med_inhib, med_not_inhib)"
   ]
  },
  {
   "attachments": {},
   "cell_type": "markdown",
   "metadata": {},
   "source": [
    "**Conclusão:** Como a estatistica é de 0.049 e o valor-p é menor que 0.05 (p-value = 0.96), a hipótese nula não é rejeitada portanto, podemos concluir que não há diferenças significativas entre os valores de FpDensityMorgan3 para os compostos com e sem inibição."
   ]
  },
  {
   "attachments": {},
   "cell_type": "markdown",
   "metadata": {},
   "source": [
    "##### **MinAbsEStateIndex**"
   ]
  },
  {
   "cell_type": "code",
   "execution_count": 32,
   "metadata": {},
   "outputs": [
    {
     "data": {
      "text/plain": [
       "Ttest_indResult(statistic=-12.4565577597981, pvalue=2.1377206519735e-35)"
      ]
     },
     "execution_count": 32,
     "metadata": {},
     "output_type": "execute_result"
    }
   ],
   "source": [
    "med_inhib = df[df[\"Y\"] == 1][\"MinAbsEStateIndex\"]\n",
    "med_not_inhib = df[df[\"Y\"] == 0][\"MinAbsEStateIndex\"]\n",
    "ttest_ind(med_inhib, med_not_inhib)"
   ]
  },
  {
   "attachments": {},
   "cell_type": "markdown",
   "metadata": {},
   "source": [
    "**Conclusão:** Como a estatistica é de -12.46 e o valor-p é menor que 0.05 (p-value = 2.14e-35), a hipótese nula é rejeitada portanto, podemos concluir que há diferenças significativas entre os valores de MinAbsEStateIndex para os compostos com e sem inibição."
   ]
  },
  {
   "attachments": {},
   "cell_type": "markdown",
   "metadata": {},
   "source": [
    "##### **MaxAbsEStateIndex**"
   ]
  },
  {
   "cell_type": "code",
   "execution_count": 33,
   "metadata": {},
   "outputs": [
    {
     "data": {
      "text/plain": [
       "Ttest_indResult(statistic=20.94654931453465, pvalue=1.0532128801057078e-95)"
      ]
     },
     "execution_count": 33,
     "metadata": {},
     "output_type": "execute_result"
    }
   ],
   "source": [
    "med_inhib = df[df[\"Y\"] == 1][\"MaxAbsEStateIndex\"]\n",
    "med_not_inhib = df[df[\"Y\"] == 0][\"MaxAbsEStateIndex\"]\n",
    "ttest_ind(med_inhib, med_not_inhib)"
   ]
  },
  {
   "attachments": {},
   "cell_type": "markdown",
   "metadata": {},
   "source": [
    "**Conclusão:** Como a estatistica é de 20.95 e o valor-p é menor que 0.05 (p-value = 1.05e-95), a hipótese nula é rejeitada portanto, podemos concluir que há diferenças significativas entre os valores de MaxAbsEStateIndex para os compostos com e sem inibição."
   ]
  },
  {
   "attachments": {},
   "cell_type": "markdown",
   "metadata": {},
   "source": [
    "##### **MolWt**"
   ]
  },
  {
   "cell_type": "code",
   "execution_count": 34,
   "metadata": {},
   "outputs": [
    {
     "data": {
      "text/plain": [
       "Ttest_indResult(statistic=25.98903245803305, pvalue=6.786164710564847e-145)"
      ]
     },
     "execution_count": 34,
     "metadata": {},
     "output_type": "execute_result"
    }
   ],
   "source": [
    "med_inhib = df[df[\"Y\"] == 1][\"MolWt\"]\n",
    "med_not_inhib = df[df[\"Y\"] == 0][\"MolWt\"]\n",
    "ttest_ind(med_inhib, med_not_inhib)\n"
   ]
  },
  {
   "attachments": {},
   "cell_type": "markdown",
   "metadata": {},
   "source": [
    "**Conclusão:** Como a estatistica é de 25.90 e o valor-p é menor que 0.05 (p-value = 6.79e-145), a hipótese nula é rejeitada portanto, podemos concluir que há diferenças significativas entre os valores de MolWt para os compostos com e sem inibição."
   ]
  },
  {
   "attachments": {},
   "cell_type": "markdown",
   "metadata": {},
   "source": [
    "##### **NumValenceElectrons**"
   ]
  },
  {
   "cell_type": "code",
   "execution_count": 36,
   "metadata": {},
   "outputs": [
    {
     "data": {
      "text/plain": [
       "Ttest_indResult(statistic=19.978910057061732, pvalue=2.2378971679479476e-87)"
      ]
     },
     "execution_count": 36,
     "metadata": {},
     "output_type": "execute_result"
    }
   ],
   "source": [
    "med_inhib = df[df[\"Y\"] == 1][\"NumValenceElectrons\"]\n",
    "med_not_inhib = df[df[\"Y\"] == 0][\"NumValenceElectrons\"]\n",
    "ttest_ind(med_inhib, med_not_inhib)\n"
   ]
  },
  {
   "attachments": {},
   "cell_type": "markdown",
   "metadata": {},
   "source": [
    "**Conclusão:** Como a estatistica é de 19.98 e o valor-p é menor que 0.05 (p-value = 2.24e-87), a hipótese nula é rejeitada portanto, podemos concluir que há diferenças significativas entre os valores de NumValenceElectrons para os compostos com e sem inibição."
   ]
  },
  {
   "attachments": {},
   "cell_type": "markdown",
   "metadata": {},
   "source": [
    "**H0:** O descritor químico tem expressão diferencial significativa\n",
    "\n",
    "**H1:** O descritor químico não tem expressão diferencial significativa"
   ]
  },
  {
   "attachments": {},
   "cell_type": "markdown",
   "metadata": {},
   "source": [
    "### Teste do Qui-Quadrado"
   ]
  },
  {
   "attachments": {},
   "cell_type": "markdown",
   "metadata": {},
   "source": [
    "**H0:** A quantidade de grupos funcionais em cada composto influência na inibição do gene CYP2C9.\n",
    "\n",
    "\n",
    "**H1:** A quantidade de  grupos funcionais em cada composto não influência na inibição do gene CYP2C9."
   ]
  },
  {
   "cell_type": "code",
   "execution_count": 64,
   "metadata": {},
   "outputs": [
    {
     "name": "stdout",
     "output_type": "stream",
     "text": [
      "Número de grupos funcionais que apresentam diferenças significativas na inibição da enzima: 66\n",
      "Número de grupos funcionais que não apresentam diferenças significativas na inibição da enzima: 19\n",
      "Lista de grupos funcionais que apresentam diferenças significativas na inibição da enzima: ['fr_Al_COO', 'fr_Al_OH', 'fr_Al_OH_noTert', 'fr_ArN', 'fr_Ar_COO', 'fr_Ar_N', 'fr_Ar_NH', 'fr_COO', 'fr_COO2', 'fr_C_O', 'fr_C_O_noCOO', 'fr_C_S', 'fr_HOCCN', 'fr_Imine', 'fr_NH0', 'fr_NH1', 'fr_NH2', 'fr_N_O', 'fr_Ndealkylation1', 'fr_Ndealkylation2', 'fr_Nhpyrrole', 'fr_alkyl_carbamate', 'fr_alkyl_halide', 'fr_allylic_oxid', 'fr_amide', 'fr_aniline', 'fr_aryl_methyl', 'fr_benzene', 'fr_bicyclic', 'fr_dihydropyridine', 'fr_epoxide', 'fr_ester', 'fr_ether', 'fr_furan', 'fr_guanido', 'fr_halogen', 'fr_hdrzone', 'fr_imidazole', 'fr_imide', 'fr_ketone', 'fr_ketone_Topliss', 'fr_lactam', 'fr_lactone', 'fr_methoxy', 'fr_morpholine', 'fr_nitrile', 'fr_nitro', 'fr_nitro_arom', 'fr_nitro_arom_nonortho', 'fr_oxazole', 'fr_oxime', 'fr_para_hydroxylation', 'fr_phos_acid', 'fr_phos_ester', 'fr_piperdine', 'fr_priamide', 'fr_pyridine', 'fr_quatN', 'fr_sulfide', 'fr_sulfonamd', 'fr_sulfone', 'fr_tetrazole', 'fr_thiazole', 'fr_thiophene', 'fr_unbrch_alkane', 'fr_urea']\n",
      "Lista de grupos funcionais que não apresentam diferenças significativas na inibição da enzima: ['fr_Ar_OH', 'fr_SH', 'fr_aldehyde', 'fr_amidine', 'fr_azide', 'fr_azo', 'fr_barbitur', 'fr_benzodiazepine', 'fr_diazo', 'fr_hdrzine', 'fr_isocyan', 'fr_isothiocyan', 'fr_nitroso', 'fr_phenol', 'fr_phenol_noOrthoHbond', 'fr_piperzine', 'fr_prisulfonamd', 'fr_term_acetylene', 'fr_thiocyan'] \n"
     ]
    }
   ],
   "source": [
    "import scipy.stats\n",
    "from scipy.stats import chi2\n",
    "compostos = df.iloc[:, 126:]\n",
    "compostos1 = compostos.insert(loc = 0,\n",
    "          column = 'Y',\n",
    "          value = df[\"Y\"])\n",
    "S = []\n",
    "NS = []\n",
    "\n",
    "for x, y in enumerate(compostos):\n",
    "    a = pd.crosstab(compostos[\"Y\"],compostos[y])\n",
    "    b = scipy.stats.chi2_contingency(a)[1]\n",
    "    if b > 0.05:\n",
    "        NS.append(y)\n",
    "    else:\n",
    "        S.append(y)\n",
    "S.pop(0) \n",
    "\n",
    "print(f\"Número de grupos funcionais que apresentam diferenças significativas na inibição da enzima: {len(S)}\")\n",
    "print(f\"Número de grupos funcionais que não apresentam diferenças significativas na inibição da enzima: {len(NS)}\")\n",
    "print(f\"Lista de grupos funcionais que apresentam diferenças significativas na inibição da enzima: {S}\")\n",
    "print(f\"Lista de grupos funcionais que não apresentam diferenças significativas na inibição da enzima: {NS} \")"
   ]
  },
  {
   "attachments": {},
   "cell_type": "markdown",
   "metadata": {},
   "source": [
    "**Conclusão** : Segundo a análise estatística anterior conseguímos concluir que existem 66 grupos funcionais que influenciam significativamente para um nivel de significância para 0.05 a inibição do gene CYP2C9 e 19 grupos funcionais não influenciam significativamente para um nivel de significância para 0.05 a inibição do gene CYP2C9. "
   ]
  },
  {
   "attachments": {},
   "cell_type": "markdown",
   "metadata": {},
   "source": [
    "Podemos por fim avaliar a correlação entre os descritores químicos escolhidos,  gerarando uma matriz de correlação:"
   ]
  },
  {
   "cell_type": "code",
   "execution_count": 119,
   "metadata": {},
   "outputs": [
    {
     "data": {
      "image/png": "[encoded data removed]",
      "text/plain": [
       "<Figure size 432x288 with 2 Axes>"
      ]
     },
     "metadata": {
      "needs_background": "light"
     },
     "output_type": "display_data"
    }
   ],
   "source": [
    "sns.heatmap(df[l].corr(), cmap='coolwarm', annot= True, fmt=\".2f\")\n",
    "plt.title('Matriz de correlações entre os descritores químicos')\n",
    "plt.show()"
   ]
  },
  {
   "attachments": {},
   "cell_type": "markdown",
   "metadata": {},
   "source": [
    "# 6. - Análise estatística multivariada (não supervisionada): clustering, redução de dimensionalidade/ visualização"
   ]
  },
  {
   "attachments": {},
   "cell_type": "markdown",
   "metadata": {},
   "source": [
    "Para começar o último tópico começamos por retirar colunas desnecessáriaS para esta análise nomeadamente a variável categórica \"smiles\" e os \"ids\".\n"
   ]
  },
  {
   "cell_type": "code",
   "execution_count": 40,
   "metadata": {},
   "outputs": [
    {
     "data": {
      "text/html": [
       "<div>\n",
       "<style scoped>\n",
       "    .dataframe tbody tr th:only-of-type {\n",
       "        vertical-align: middle;\n",
       "    }\n",
       "\n",
       "    .dataframe tbody tr th {\n",
       "        vertical-align: top;\n",
       "    }\n",
       "\n",
       "    .dataframe thead th {\n",
       "        text-align: right;\n",
       "    }\n",
       "</style>\n",
       "<table border=\"1\" class=\"dataframe\">\n",
       "  <thead>\n",
       "    <tr style=\"text-align: right;\">\n",
       "      <th></th>\n",
       "      <th>MaxEStateIndex</th>\n",
       "      <th>MinEStateIndex</th>\n",
       "      <th>MaxAbsEStateIndex</th>\n",
       "      <th>MinAbsEStateIndex</th>\n",
       "      <th>qed</th>\n",
       "      <th>MolWt</th>\n",
       "      <th>HeavyAtomMolWt</th>\n",
       "      <th>ExactMolWt</th>\n",
       "      <th>NumValenceElectrons</th>\n",
       "      <th>NumRadicalElectrons</th>\n",
       "      <th>...</th>\n",
       "      <th>fr_sulfide</th>\n",
       "      <th>fr_sulfonamd</th>\n",
       "      <th>fr_sulfone</th>\n",
       "      <th>fr_term_acetylene</th>\n",
       "      <th>fr_tetrazole</th>\n",
       "      <th>fr_thiazole</th>\n",
       "      <th>fr_thiocyan</th>\n",
       "      <th>fr_thiophene</th>\n",
       "      <th>fr_unbrch_alkane</th>\n",
       "      <th>fr_urea</th>\n",
       "    </tr>\n",
       "  </thead>\n",
       "  <tbody>\n",
       "    <tr>\n",
       "      <th>0</th>\n",
       "      <td>12.820479</td>\n",
       "      <td>-0.183140</td>\n",
       "      <td>12.820479</td>\n",
       "      <td>0.128619</td>\n",
       "      <td>0.457873</td>\n",
       "      <td>362.476</td>\n",
       "      <td>344.332</td>\n",
       "      <td>362.07590</td>\n",
       "      <td>126.0</td>\n",
       "      <td>0.0</td>\n",
       "      <td>...</td>\n",
       "      <td>1.0</td>\n",
       "      <td>0.0</td>\n",
       "      <td>0.0</td>\n",
       "      <td>0.0</td>\n",
       "      <td>0.0</td>\n",
       "      <td>0.0</td>\n",
       "      <td>0.0</td>\n",
       "      <td>0.0</td>\n",
       "      <td>1.0</td>\n",
       "      <td>0.0</td>\n",
       "    </tr>\n",
       "    <tr>\n",
       "      <th>1</th>\n",
       "      <td>6.126257</td>\n",
       "      <td>0.660427</td>\n",
       "      <td>6.126257</td>\n",
       "      <td>0.660427</td>\n",
       "      <td>0.756902</td>\n",
       "      <td>255.708</td>\n",
       "      <td>245.628</td>\n",
       "      <td>255.05632</td>\n",
       "      <td>88.0</td>\n",
       "      <td>0.0</td>\n",
       "      <td>...</td>\n",
       "      <td>0.0</td>\n",
       "      <td>0.0</td>\n",
       "      <td>0.0</td>\n",
       "      <td>0.0</td>\n",
       "      <td>0.0</td>\n",
       "      <td>0.0</td>\n",
       "      <td>0.0</td>\n",
       "      <td>0.0</td>\n",
       "      <td>0.0</td>\n",
       "      <td>0.0</td>\n",
       "    </tr>\n",
       "    <tr>\n",
       "      <th>2</th>\n",
       "      <td>5.719940</td>\n",
       "      <td>-0.219974</td>\n",
       "      <td>5.719940</td>\n",
       "      <td>0.075509</td>\n",
       "      <td>0.605920</td>\n",
       "      <td>421.549</td>\n",
       "      <td>390.301</td>\n",
       "      <td>421.25900</td>\n",
       "      <td>164.0</td>\n",
       "      <td>0.0</td>\n",
       "      <td>...</td>\n",
       "      <td>0.0</td>\n",
       "      <td>0.0</td>\n",
       "      <td>0.0</td>\n",
       "      <td>0.0</td>\n",
       "      <td>1.0</td>\n",
       "      <td>0.0</td>\n",
       "      <td>0.0</td>\n",
       "      <td>0.0</td>\n",
       "      <td>0.0</td>\n",
       "      <td>0.0</td>\n",
       "    </tr>\n",
       "    <tr>\n",
       "      <th>3</th>\n",
       "      <td>12.040634</td>\n",
       "      <td>-0.208718</td>\n",
       "      <td>12.040634</td>\n",
       "      <td>0.006714</td>\n",
       "      <td>0.728361</td>\n",
       "      <td>324.344</td>\n",
       "      <td>308.216</td>\n",
       "      <td>324.13348</td>\n",
       "      <td>122.0</td>\n",
       "      <td>0.0</td>\n",
       "      <td>...</td>\n",
       "      <td>0.0</td>\n",
       "      <td>0.0</td>\n",
       "      <td>0.0</td>\n",
       "      <td>0.0</td>\n",
       "      <td>1.0</td>\n",
       "      <td>0.0</td>\n",
       "      <td>0.0</td>\n",
       "      <td>0.0</td>\n",
       "      <td>0.0</td>\n",
       "      <td>0.0</td>\n",
       "    </tr>\n",
       "    <tr>\n",
       "      <th>4</th>\n",
       "      <td>13.082813</td>\n",
       "      <td>-0.044883</td>\n",
       "      <td>13.082813</td>\n",
       "      <td>0.018472</td>\n",
       "      <td>0.457249</td>\n",
       "      <td>495.628</td>\n",
       "      <td>458.332</td>\n",
       "      <td>495.29578</td>\n",
       "      <td>194.0</td>\n",
       "      <td>0.0</td>\n",
       "      <td>...</td>\n",
       "      <td>0.0</td>\n",
       "      <td>0.0</td>\n",
       "      <td>0.0</td>\n",
       "      <td>0.0</td>\n",
       "      <td>1.0</td>\n",
       "      <td>0.0</td>\n",
       "      <td>0.0</td>\n",
       "      <td>0.0</td>\n",
       "      <td>0.0</td>\n",
       "      <td>0.0</td>\n",
       "    </tr>\n",
       "    <tr>\n",
       "      <th>...</th>\n",
       "      <td>...</td>\n",
       "      <td>...</td>\n",
       "      <td>...</td>\n",
       "      <td>...</td>\n",
       "      <td>...</td>\n",
       "      <td>...</td>\n",
       "      <td>...</td>\n",
       "      <td>...</td>\n",
       "      <td>...</td>\n",
       "      <td>...</td>\n",
       "      <td>...</td>\n",
       "      <td>...</td>\n",
       "      <td>...</td>\n",
       "      <td>...</td>\n",
       "      <td>...</td>\n",
       "      <td>...</td>\n",
       "      <td>...</td>\n",
       "      <td>...</td>\n",
       "      <td>...</td>\n",
       "      <td>...</td>\n",
       "      <td>...</td>\n",
       "    </tr>\n",
       "    <tr>\n",
       "      <th>11929</th>\n",
       "      <td>12.346902</td>\n",
       "      <td>-0.801800</td>\n",
       "      <td>12.346902</td>\n",
       "      <td>0.024123</td>\n",
       "      <td>0.682518</td>\n",
       "      <td>263.293</td>\n",
       "      <td>246.157</td>\n",
       "      <td>263.11575</td>\n",
       "      <td>102.0</td>\n",
       "      <td>0.0</td>\n",
       "      <td>...</td>\n",
       "      <td>0.0</td>\n",
       "      <td>0.0</td>\n",
       "      <td>0.0</td>\n",
       "      <td>0.0</td>\n",
       "      <td>0.0</td>\n",
       "      <td>0.0</td>\n",
       "      <td>0.0</td>\n",
       "      <td>0.0</td>\n",
       "      <td>0.0</td>\n",
       "      <td>0.0</td>\n",
       "    </tr>\n",
       "    <tr>\n",
       "      <th>11930</th>\n",
       "      <td>9.674588</td>\n",
       "      <td>-0.801690</td>\n",
       "      <td>9.674588</td>\n",
       "      <td>0.174259</td>\n",
       "      <td>0.635371</td>\n",
       "      <td>210.229</td>\n",
       "      <td>196.117</td>\n",
       "      <td>210.08920</td>\n",
       "      <td>82.0</td>\n",
       "      <td>0.0</td>\n",
       "      <td>...</td>\n",
       "      <td>0.0</td>\n",
       "      <td>0.0</td>\n",
       "      <td>0.0</td>\n",
       "      <td>0.0</td>\n",
       "      <td>0.0</td>\n",
       "      <td>0.0</td>\n",
       "      <td>0.0</td>\n",
       "      <td>0.0</td>\n",
       "      <td>0.0</td>\n",
       "      <td>0.0</td>\n",
       "    </tr>\n",
       "    <tr>\n",
       "      <th>11931</th>\n",
       "      <td>13.390758</td>\n",
       "      <td>-1.019880</td>\n",
       "      <td>13.390758</td>\n",
       "      <td>0.162294</td>\n",
       "      <td>0.455270</td>\n",
       "      <td>397.427</td>\n",
       "      <td>374.243</td>\n",
       "      <td>397.15253</td>\n",
       "      <td>152.0</td>\n",
       "      <td>0.0</td>\n",
       "      <td>...</td>\n",
       "      <td>0.0</td>\n",
       "      <td>0.0</td>\n",
       "      <td>0.0</td>\n",
       "      <td>0.0</td>\n",
       "      <td>0.0</td>\n",
       "      <td>0.0</td>\n",
       "      <td>0.0</td>\n",
       "      <td>0.0</td>\n",
       "      <td>0.0</td>\n",
       "      <td>0.0</td>\n",
       "    </tr>\n",
       "    <tr>\n",
       "      <th>11932</th>\n",
       "      <td>13.179767</td>\n",
       "      <td>-1.161112</td>\n",
       "      <td>13.179767</td>\n",
       "      <td>0.077392</td>\n",
       "      <td>0.772281</td>\n",
       "      <td>357.406</td>\n",
       "      <td>334.222</td>\n",
       "      <td>357.15762</td>\n",
       "      <td>138.0</td>\n",
       "      <td>0.0</td>\n",
       "      <td>...</td>\n",
       "      <td>0.0</td>\n",
       "      <td>0.0</td>\n",
       "      <td>0.0</td>\n",
       "      <td>0.0</td>\n",
       "      <td>0.0</td>\n",
       "      <td>0.0</td>\n",
       "      <td>0.0</td>\n",
       "      <td>0.0</td>\n",
       "      <td>0.0</td>\n",
       "      <td>0.0</td>\n",
       "    </tr>\n",
       "    <tr>\n",
       "      <th>11933</th>\n",
       "      <td>10.715530</td>\n",
       "      <td>-0.480844</td>\n",
       "      <td>10.715530</td>\n",
       "      <td>0.139962</td>\n",
       "      <td>0.773508</td>\n",
       "      <td>240.259</td>\n",
       "      <td>224.131</td>\n",
       "      <td>240.11101</td>\n",
       "      <td>94.0</td>\n",
       "      <td>0.0</td>\n",
       "      <td>...</td>\n",
       "      <td>0.0</td>\n",
       "      <td>0.0</td>\n",
       "      <td>0.0</td>\n",
       "      <td>0.0</td>\n",
       "      <td>0.0</td>\n",
       "      <td>0.0</td>\n",
       "      <td>0.0</td>\n",
       "      <td>0.0</td>\n",
       "      <td>0.0</td>\n",
       "      <td>0.0</td>\n",
       "    </tr>\n",
       "  </tbody>\n",
       "</table>\n",
       "<p>11934 rows × 208 columns</p>\n",
       "</div>"
      ],
      "text/plain": [
       "       MaxEStateIndex  MinEStateIndex  MaxAbsEStateIndex  MinAbsEStateIndex  \\\n",
       "0           12.820479       -0.183140          12.820479           0.128619   \n",
       "1            6.126257        0.660427           6.126257           0.660427   \n",
       "2            5.719940       -0.219974           5.719940           0.075509   \n",
       "3           12.040634       -0.208718          12.040634           0.006714   \n",
       "4           13.082813       -0.044883          13.082813           0.018472   \n",
       "...               ...             ...                ...                ...   \n",
       "11929       12.346902       -0.801800          12.346902           0.024123   \n",
       "11930        9.674588       -0.801690           9.674588           0.174259   \n",
       "11931       13.390758       -1.019880          13.390758           0.162294   \n",
       "11932       13.179767       -1.161112          13.179767           0.077392   \n",
       "11933       10.715530       -0.480844          10.715530           0.139962   \n",
       "\n",
       "            qed    MolWt  HeavyAtomMolWt  ExactMolWt  NumValenceElectrons  \\\n",
       "0      0.457873  362.476         344.332   362.07590                126.0   \n",
       "1      0.756902  255.708         245.628   255.05632                 88.0   \n",
       "2      0.605920  421.549         390.301   421.25900                164.0   \n",
       "3      0.728361  324.344         308.216   324.13348                122.0   \n",
       "4      0.457249  495.628         458.332   495.29578                194.0   \n",
       "...         ...      ...             ...         ...                  ...   \n",
       "11929  0.682518  263.293         246.157   263.11575                102.0   \n",
       "11930  0.635371  210.229         196.117   210.08920                 82.0   \n",
       "11931  0.455270  397.427         374.243   397.15253                152.0   \n",
       "11932  0.772281  357.406         334.222   357.15762                138.0   \n",
       "11933  0.773508  240.259         224.131   240.11101                 94.0   \n",
       "\n",
       "       NumRadicalElectrons  ...  fr_sulfide  fr_sulfonamd  fr_sulfone  \\\n",
       "0                      0.0  ...         1.0           0.0         0.0   \n",
       "1                      0.0  ...         0.0           0.0         0.0   \n",
       "2                      0.0  ...         0.0           0.0         0.0   \n",
       "3                      0.0  ...         0.0           0.0         0.0   \n",
       "4                      0.0  ...         0.0           0.0         0.0   \n",
       "...                    ...  ...         ...           ...         ...   \n",
       "11929                  0.0  ...         0.0           0.0         0.0   \n",
       "11930                  0.0  ...         0.0           0.0         0.0   \n",
       "11931                  0.0  ...         0.0           0.0         0.0   \n",
       "11932                  0.0  ...         0.0           0.0         0.0   \n",
       "11933                  0.0  ...         0.0           0.0         0.0   \n",
       "\n",
       "       fr_term_acetylene  fr_tetrazole  fr_thiazole  fr_thiocyan  \\\n",
       "0                    0.0           0.0          0.0          0.0   \n",
       "1                    0.0           0.0          0.0          0.0   \n",
       "2                    0.0           1.0          0.0          0.0   \n",
       "3                    0.0           1.0          0.0          0.0   \n",
       "4                    0.0           1.0          0.0          0.0   \n",
       "...                  ...           ...          ...          ...   \n",
       "11929                0.0           0.0          0.0          0.0   \n",
       "11930                0.0           0.0          0.0          0.0   \n",
       "11931                0.0           0.0          0.0          0.0   \n",
       "11932                0.0           0.0          0.0          0.0   \n",
       "11933                0.0           0.0          0.0          0.0   \n",
       "\n",
       "       fr_thiophene  fr_unbrch_alkane  fr_urea  \n",
       "0               0.0               1.0      0.0  \n",
       "1               0.0               0.0      0.0  \n",
       "2               0.0               0.0      0.0  \n",
       "3               0.0               0.0      0.0  \n",
       "4               0.0               0.0      0.0  \n",
       "...             ...               ...      ...  \n",
       "11929           0.0               0.0      0.0  \n",
       "11930           0.0               0.0      0.0  \n",
       "11931           0.0               0.0      0.0  \n",
       "11932           0.0               0.0      0.0  \n",
       "11933           0.0               0.0      0.0  \n",
       "\n",
       "[11934 rows x 208 columns]"
      ]
     },
     "execution_count": 40,
     "metadata": {},
     "output_type": "execute_result"
    }
   ],
   "source": [
    "df_1 = df.drop(['ids', 'smiles', 'Y'], axis=1)\n",
    "df_1"
   ]
  },
  {
   "attachments": {},
   "cell_type": "markdown",
   "metadata": {},
   "source": [
    "Posteriormente procedemos á padronização dos dados númericos para que estes tenham média zero e desvio padrão 1"
   ]
  },
  {
   "cell_type": "code",
   "execution_count": 41,
   "metadata": {},
   "outputs": [
    {
     "data": {
      "text/plain": [
       "array([[ 0.57470029,  0.48253239,  0.57470029, ..., -0.25073392,\n",
       "         1.12620206, -0.20666472],\n",
       "       [-1.91429792,  1.06716821, -1.91429792, ..., -0.25073392,\n",
       "        -0.16499742, -0.20666472],\n",
       "       [-2.06537174,  0.45700395, -2.06537174, ..., -0.25073392,\n",
       "        -0.16499742, -0.20666472],\n",
       "       ...,\n",
       "       [ 0.78673737, -0.09737207,  0.78673737, ..., -0.25073392,\n",
       "        -0.16499742, -0.20666472],\n",
       "       [ 0.7082882 , -0.19525339,  0.7082882 , ..., -0.25073392,\n",
       "        -0.16499742, -0.20666472],\n",
       "       [-0.20794688,  0.27620809, -0.20794688, ..., -0.25073392,\n",
       "        -0.16499742, -0.20666472]])"
      ]
     },
     "execution_count": 41,
     "metadata": {},
     "output_type": "execute_result"
    }
   ],
   "source": [
    "scaler = StandardScaler()\n",
    "df_scaled = scaler.fit_transform(df_1)\n",
    "df_scaled"
   ]
  },
  {
   "attachments": {},
   "cell_type": "markdown",
   "metadata": {},
   "source": [
    "### 6.1 Redução da Dimensionalidade (PCA):"
   ]
  },
  {
   "cell_type": "code",
   "execution_count": 42,
   "metadata": {},
   "outputs": [
    {
     "name": "stdout",
     "output_type": "stream",
     "text": [
      "Número de componentes que explicam 70% dos dados: 31\n"
     ]
    }
   ],
   "source": [
    "componentes = 2     \n",
    "for x in range(2,50):\n",
    "    pca = PCA(n_components=x)\n",
    "    pca.fit(df_scaled)\n",
    "    reduced = pca.transform(df_scaled)\n",
    "    if (sum(pca.explained_variance_ratio_)) > 0.7:\n",
    "        break\n",
    "    componentes +=1\n",
    "\n",
    "print(f\"Número de componentes que explicam 70% dos dados: {componentes}\")"
   ]
  },
  {
   "cell_type": "code",
   "execution_count": 43,
   "metadata": {},
   "outputs": [
    {
     "data": {
      "text/plain": [
       "array([[ 0.4981168 ,  0.84724437, -0.30488119, ..., -0.72117425,\n",
       "        -0.03855355,  0.60136652],\n",
       "       [-7.57567416, -4.8428423 , -0.50453467, ...,  0.96926862,\n",
       "         1.0227337 , -0.78670478],\n",
       "       [ 2.99776214, -3.1733436 , -4.05587678, ...,  0.17488758,\n",
       "        -1.3107439 , -1.41961557],\n",
       "       ...,\n",
       "       [ 7.04824228,  6.7086907 , -4.13194913, ...,  3.63728524,\n",
       "        -0.58400604,  0.22003603],\n",
       "       [ 4.64439591,  7.34678252, -3.04706227, ..., -0.20017946,\n",
       "         1.49619291,  0.46777651],\n",
       "       [-5.93013716,  3.60475958,  3.07415219, ...,  1.20917204,\n",
       "        -1.9269606 ,  0.25042437]])"
      ]
     },
     "execution_count": 43,
     "metadata": {},
     "output_type": "execute_result"
    }
   ],
   "source": [
    "pca = PCA(n_components=31)\n",
    "df_pca = pca.fit_transform(df_scaled)\n",
    "df_pca"
   ]
  },
  {
   "cell_type": "code",
   "execution_count": 44,
   "metadata": {},
   "outputs": [
    {
     "data": {
      "image/png": "[encoded data removed]",
      "text/plain": [
       "<Figure size 432x288 with 1 Axes>"
      ]
     },
     "metadata": {
      "needs_background": "light"
     },
     "output_type": "display_data"
    }
   ],
   "source": [
    "for inib in df['Y'].unique():\n",
    "    ini = df.index[df['Y']==inib]-1\n",
    "    plt.plot(df_pca[ini,0],df_pca[ini,1], 'o' , label=inib)\n",
    "plt.title(\"PCA\")\n",
    "plt.legend(loc='best', shadow=False)\n",
    "plt.show()"
   ]
  },
  {
   "attachments": {},
   "cell_type": "markdown",
   "metadata": {},
   "source": [
    "### 6.2. K-means Clustering"
   ]
  },
  {
   "attachments": {},
   "cell_type": "markdown",
   "metadata": {},
   "source": [
    "Determinação do k"
   ]
  },
  {
   "cell_type": "code",
   "execution_count": 45,
   "metadata": {},
   "outputs": [
    {
     "data": {
      "image/png": "[encoded data removed]",
      "text/plain": [
       "<Figure size 432x288 with 1 Axes>"
      ]
     },
     "metadata": {
      "needs_background": "light"
     },
     "output_type": "display_data"
    }
   ],
   "source": [
    "from sklearn.cluster import KMeans\n",
    "k_values = range(1, 11)\n",
    "lista = []\n",
    "\n",
    "for k in k_values:\n",
    "    kmeans = KMeans(n_clusters=k, random_state=42)\n",
    "    kmeans.fit(df_scaled)\n",
    "    lista.append(kmeans.inertia_)\n",
    "plt.plot(k_values, lista, 'bx-')\n",
    "plt.xlabel('clusters')\n",
    "plt.ylabel('distancias')\n",
    "plt.show()"
   ]
  },
  {
   "cell_type": "code",
   "execution_count": 46,
   "metadata": {},
   "outputs": [],
   "source": [
    "from sklearn.cluster import KMeans   \n",
    "from sklearn.metrics import silhouette_score\n",
    "\n",
    "silhouette_coefficients = []\n",
    "\n",
    "for k in range(2, 11):\n",
    "    kmeans = KMeans(n_clusters=k) \n",
    "    kmeans.fit(df_scaled)\n",
    "    score = silhouette_score(df_scaled, kmeans.labels_)\n",
    "    silhouette_coefficients.append(score)"
   ]
  },
  {
   "cell_type": "code",
   "execution_count": 47,
   "metadata": {},
   "outputs": [
    {
     "data": {
      "text/plain": [
       "[0.11629598107878637,\n",
       " 0.07199199913726706,\n",
       " 0.0691847497851926,\n",
       " 0.04455379206415769,\n",
       " 0.047021529339512265,\n",
       " 0.049046121593553614,\n",
       " 0.041376685713536615,\n",
       " 0.05596120544564896,\n",
       " 0.05123953116887452]"
      ]
     },
     "execution_count": 47,
     "metadata": {},
     "output_type": "execute_result"
    }
   ],
   "source": [
    "silhouette_coefficients"
   ]
  },
  {
   "attachments": {},
   "cell_type": "markdown",
   "metadata": {},
   "source": [
    "**Conclusão**: De acordo com as análises feitas anteriormente, determinamos um valor de k=2, no entanto estes métodos não são exatos, sendo apenas uma aproximação."
   ]
  },
  {
   "cell_type": "code",
   "execution_count": 124,
   "metadata": {},
   "outputs": [
    {
     "data": {
      "text/html": [
       "<div>\n",
       "<style scoped>\n",
       "    .dataframe tbody tr th:only-of-type {\n",
       "        vertical-align: middle;\n",
       "    }\n",
       "\n",
       "    .dataframe tbody tr th {\n",
       "        vertical-align: top;\n",
       "    }\n",
       "\n",
       "    .dataframe thead th {\n",
       "        text-align: right;\n",
       "    }\n",
       "</style>\n",
       "<table border=\"1\" class=\"dataframe\">\n",
       "  <thead>\n",
       "    <tr style=\"text-align: right;\">\n",
       "      <th>Y</th>\n",
       "      <th>0</th>\n",
       "      <th>1</th>\n",
       "    </tr>\n",
       "    <tr>\n",
       "      <th>clusters</th>\n",
       "      <th></th>\n",
       "      <th></th>\n",
       "    </tr>\n",
       "  </thead>\n",
       "  <tbody>\n",
       "    <tr>\n",
       "      <th>0</th>\n",
       "      <td>936</td>\n",
       "      <td>102</td>\n",
       "    </tr>\n",
       "    <tr>\n",
       "      <th>1</th>\n",
       "      <td>6973</td>\n",
       "      <td>3923</td>\n",
       "    </tr>\n",
       "  </tbody>\n",
       "</table>\n",
       "</div>"
      ],
      "text/plain": [
       "Y            0     1\n",
       "clusters            \n",
       "0          936   102\n",
       "1         6973  3923"
      ]
     },
     "execution_count": 124,
     "metadata": {},
     "output_type": "execute_result"
    }
   ],
   "source": [
    "k=2   \n",
    "km1 = KMeans(n_clusters=k, max_iter=1000)\n",
    "km1.fit(df_scaled)\n",
    "labels=km1.predict(df_scaled)\n",
    "centroids=km1.cluster_centers_\n",
    "\n",
    "pd.crosstab(labels, df[\"Y\"], rownames=[\"clusters\"])"
   ]
  },
  {
   "attachments": {},
   "cell_type": "markdown",
   "metadata": {},
   "source": [
    "**Conclusão**: Através das análises das diferentes analises de PCA e K-means clustering, é possível concluir que  "
   ]
  },
  {
   "attachments": {},
   "cell_type": "markdown",
   "metadata": {},
   "source": [
    "Visualização"
   ]
  },
  {
   "cell_type": "code",
   "execution_count": 50,
   "metadata": {},
   "outputs": [
    {
     "data": {
      "image/png": "[encoded data removed]",
      "text/plain": [
       "<Figure size 432x288 with 1 Axes>"
      ]
     },
     "metadata": {
      "needs_background": "light"
     },
     "output_type": "display_data"
    }
   ],
   "source": [
    "plt.scatter(df_pca[:,0], df_pca[:,1], c=clusters, cmap='viridis')\n",
    "plt.xlabel('PCA 1')\n",
    "plt.ylabel('PCA 2')\n",
    "plt.title('Clusters')\n",
    "plt.show()\n"
   ]
  },
  {
   "attachments": {},
   "cell_type": "markdown",
   "metadata": {},
   "source": [
    "SÓ COM AS VARIAVEIS NÚMÉRICAS"
   ]
  },
  {
   "cell_type": "code",
   "execution_count": 51,
   "metadata": {},
   "outputs": [
    {
     "data": {
      "text/html": [
       "<div>\n",
       "<style scoped>\n",
       "    .dataframe tbody tr th:only-of-type {\n",
       "        vertical-align: middle;\n",
       "    }\n",
       "\n",
       "    .dataframe tbody tr th {\n",
       "        vertical-align: top;\n",
       "    }\n",
       "\n",
       "    .dataframe thead th {\n",
       "        text-align: right;\n",
       "    }\n",
       "</style>\n",
       "<table border=\"1\" class=\"dataframe\">\n",
       "  <thead>\n",
       "    <tr style=\"text-align: right;\">\n",
       "      <th></th>\n",
       "      <th>MaxEStateIndex</th>\n",
       "      <th>MinEStateIndex</th>\n",
       "      <th>MaxAbsEStateIndex</th>\n",
       "      <th>MinAbsEStateIndex</th>\n",
       "      <th>qed</th>\n",
       "      <th>MolWt</th>\n",
       "      <th>HeavyAtomMolWt</th>\n",
       "      <th>ExactMolWt</th>\n",
       "      <th>NumValenceElectrons</th>\n",
       "      <th>NumRadicalElectrons</th>\n",
       "      <th>...</th>\n",
       "      <th>NumHAcceptors</th>\n",
       "      <th>NumHDonors</th>\n",
       "      <th>NumHeteroatoms</th>\n",
       "      <th>NumRotatableBonds</th>\n",
       "      <th>NumSaturatedCarbocycles</th>\n",
       "      <th>NumSaturatedHeterocycles</th>\n",
       "      <th>NumSaturatedRings</th>\n",
       "      <th>RingCount</th>\n",
       "      <th>MolLogP</th>\n",
       "      <th>MolMR</th>\n",
       "    </tr>\n",
       "  </thead>\n",
       "  <tbody>\n",
       "    <tr>\n",
       "      <th>0</th>\n",
       "      <td>12.820479</td>\n",
       "      <td>-0.183140</td>\n",
       "      <td>12.820479</td>\n",
       "      <td>0.128619</td>\n",
       "      <td>0.457873</td>\n",
       "      <td>362.476</td>\n",
       "      <td>344.332</td>\n",
       "      <td>362.07590</td>\n",
       "      <td>126.0</td>\n",
       "      <td>0.0</td>\n",
       "      <td>...</td>\n",
       "      <td>5.0</td>\n",
       "      <td>0.0</td>\n",
       "      <td>7.0</td>\n",
       "      <td>5.0</td>\n",
       "      <td>0.0</td>\n",
       "      <td>1.0</td>\n",
       "      <td>1.0</td>\n",
       "      <td>3.0</td>\n",
       "      <td>2.66100</td>\n",
       "      <td>99.7840</td>\n",
       "    </tr>\n",
       "    <tr>\n",
       "      <th>1</th>\n",
       "      <td>6.126257</td>\n",
       "      <td>0.660427</td>\n",
       "      <td>6.126257</td>\n",
       "      <td>0.660427</td>\n",
       "      <td>0.756902</td>\n",
       "      <td>255.708</td>\n",
       "      <td>245.628</td>\n",
       "      <td>255.05632</td>\n",
       "      <td>88.0</td>\n",
       "      <td>0.0</td>\n",
       "      <td>...</td>\n",
       "      <td>2.0</td>\n",
       "      <td>1.0</td>\n",
       "      <td>4.0</td>\n",
       "      <td>2.0</td>\n",
       "      <td>0.0</td>\n",
       "      <td>0.0</td>\n",
       "      <td>0.0</td>\n",
       "      <td>3.0</td>\n",
       "      <td>3.79210</td>\n",
       "      <td>72.2647</td>\n",
       "    </tr>\n",
       "    <tr>\n",
       "      <th>2</th>\n",
       "      <td>5.719940</td>\n",
       "      <td>-0.219974</td>\n",
       "      <td>5.719940</td>\n",
       "      <td>0.075509</td>\n",
       "      <td>0.605920</td>\n",
       "      <td>421.549</td>\n",
       "      <td>390.301</td>\n",
       "      <td>421.25900</td>\n",
       "      <td>164.0</td>\n",
       "      <td>0.0</td>\n",
       "      <td>...</td>\n",
       "      <td>8.0</td>\n",
       "      <td>0.0</td>\n",
       "      <td>8.0</td>\n",
       "      <td>6.0</td>\n",
       "      <td>0.0</td>\n",
       "      <td>1.0</td>\n",
       "      <td>1.0</td>\n",
       "      <td>4.0</td>\n",
       "      <td>2.73890</td>\n",
       "      <td>118.7370</td>\n",
       "    </tr>\n",
       "    <tr>\n",
       "      <th>3</th>\n",
       "      <td>12.040634</td>\n",
       "      <td>-0.208718</td>\n",
       "      <td>12.040634</td>\n",
       "      <td>0.006714</td>\n",
       "      <td>0.728361</td>\n",
       "      <td>324.344</td>\n",
       "      <td>308.216</td>\n",
       "      <td>324.13348</td>\n",
       "      <td>122.0</td>\n",
       "      <td>0.0</td>\n",
       "      <td>...</td>\n",
       "      <td>7.0</td>\n",
       "      <td>1.0</td>\n",
       "      <td>8.0</td>\n",
       "      <td>6.0</td>\n",
       "      <td>0.0</td>\n",
       "      <td>0.0</td>\n",
       "      <td>0.0</td>\n",
       "      <td>3.0</td>\n",
       "      <td>1.06010</td>\n",
       "      <td>85.8887</td>\n",
       "    </tr>\n",
       "    <tr>\n",
       "      <th>4</th>\n",
       "      <td>13.082813</td>\n",
       "      <td>-0.044883</td>\n",
       "      <td>13.082813</td>\n",
       "      <td>0.018472</td>\n",
       "      <td>0.457249</td>\n",
       "      <td>495.628</td>\n",
       "      <td>458.332</td>\n",
       "      <td>495.29578</td>\n",
       "      <td>194.0</td>\n",
       "      <td>0.0</td>\n",
       "      <td>...</td>\n",
       "      <td>9.0</td>\n",
       "      <td>1.0</td>\n",
       "      <td>10.0</td>\n",
       "      <td>10.0</td>\n",
       "      <td>0.0</td>\n",
       "      <td>2.0</td>\n",
       "      <td>2.0</td>\n",
       "      <td>5.0</td>\n",
       "      <td>2.28752</td>\n",
       "      <td>136.7977</td>\n",
       "    </tr>\n",
       "    <tr>\n",
       "      <th>...</th>\n",
       "      <td>...</td>\n",
       "      <td>...</td>\n",
       "      <td>...</td>\n",
       "      <td>...</td>\n",
       "      <td>...</td>\n",
       "      <td>...</td>\n",
       "      <td>...</td>\n",
       "      <td>...</td>\n",
       "      <td>...</td>\n",
       "      <td>...</td>\n",
       "      <td>...</td>\n",
       "      <td>...</td>\n",
       "      <td>...</td>\n",
       "      <td>...</td>\n",
       "      <td>...</td>\n",
       "      <td>...</td>\n",
       "      <td>...</td>\n",
       "      <td>...</td>\n",
       "      <td>...</td>\n",
       "      <td>...</td>\n",
       "      <td>...</td>\n",
       "    </tr>\n",
       "    <tr>\n",
       "      <th>11929</th>\n",
       "      <td>12.346902</td>\n",
       "      <td>-0.801800</td>\n",
       "      <td>12.346902</td>\n",
       "      <td>0.024123</td>\n",
       "      <td>0.682518</td>\n",
       "      <td>263.293</td>\n",
       "      <td>246.157</td>\n",
       "      <td>263.11575</td>\n",
       "      <td>102.0</td>\n",
       "      <td>0.0</td>\n",
       "      <td>...</td>\n",
       "      <td>4.0</td>\n",
       "      <td>1.0</td>\n",
       "      <td>5.0</td>\n",
       "      <td>1.0</td>\n",
       "      <td>1.0</td>\n",
       "      <td>1.0</td>\n",
       "      <td>2.0</td>\n",
       "      <td>3.0</td>\n",
       "      <td>0.13350</td>\n",
       "      <td>65.7418</td>\n",
       "    </tr>\n",
       "    <tr>\n",
       "      <th>11930</th>\n",
       "      <td>9.674588</td>\n",
       "      <td>-0.801690</td>\n",
       "      <td>9.674588</td>\n",
       "      <td>0.174259</td>\n",
       "      <td>0.635371</td>\n",
       "      <td>210.229</td>\n",
       "      <td>196.117</td>\n",
       "      <td>210.08920</td>\n",
       "      <td>82.0</td>\n",
       "      <td>0.0</td>\n",
       "      <td>...</td>\n",
       "      <td>4.0</td>\n",
       "      <td>1.0</td>\n",
       "      <td>4.0</td>\n",
       "      <td>1.0</td>\n",
       "      <td>0.0</td>\n",
       "      <td>2.0</td>\n",
       "      <td>2.0</td>\n",
       "      <td>3.0</td>\n",
       "      <td>0.37390</td>\n",
       "      <td>52.1998</td>\n",
       "    </tr>\n",
       "    <tr>\n",
       "      <th>11931</th>\n",
       "      <td>13.390758</td>\n",
       "      <td>-1.019880</td>\n",
       "      <td>13.390758</td>\n",
       "      <td>0.162294</td>\n",
       "      <td>0.455270</td>\n",
       "      <td>397.427</td>\n",
       "      <td>374.243</td>\n",
       "      <td>397.15253</td>\n",
       "      <td>152.0</td>\n",
       "      <td>0.0</td>\n",
       "      <td>...</td>\n",
       "      <td>6.0</td>\n",
       "      <td>1.0</td>\n",
       "      <td>7.0</td>\n",
       "      <td>2.0</td>\n",
       "      <td>1.0</td>\n",
       "      <td>3.0</td>\n",
       "      <td>4.0</td>\n",
       "      <td>6.0</td>\n",
       "      <td>1.00920</td>\n",
       "      <td>99.0888</td>\n",
       "    </tr>\n",
       "    <tr>\n",
       "      <th>11932</th>\n",
       "      <td>13.179767</td>\n",
       "      <td>-1.161112</td>\n",
       "      <td>13.179767</td>\n",
       "      <td>0.077392</td>\n",
       "      <td>0.772281</td>\n",
       "      <td>357.406</td>\n",
       "      <td>334.222</td>\n",
       "      <td>357.15762</td>\n",
       "      <td>138.0</td>\n",
       "      <td>0.0</td>\n",
       "      <td>...</td>\n",
       "      <td>5.0</td>\n",
       "      <td>2.0</td>\n",
       "      <td>6.0</td>\n",
       "      <td>2.0</td>\n",
       "      <td>2.0</td>\n",
       "      <td>1.0</td>\n",
       "      <td>3.0</td>\n",
       "      <td>4.0</td>\n",
       "      <td>1.06960</td>\n",
       "      <td>91.5416</td>\n",
       "    </tr>\n",
       "    <tr>\n",
       "      <th>11933</th>\n",
       "      <td>10.715530</td>\n",
       "      <td>-0.480844</td>\n",
       "      <td>10.715530</td>\n",
       "      <td>0.139962</td>\n",
       "      <td>0.773508</td>\n",
       "      <td>240.259</td>\n",
       "      <td>224.131</td>\n",
       "      <td>240.11101</td>\n",
       "      <td>94.0</td>\n",
       "      <td>0.0</td>\n",
       "      <td>...</td>\n",
       "      <td>5.0</td>\n",
       "      <td>2.0</td>\n",
       "      <td>6.0</td>\n",
       "      <td>6.0</td>\n",
       "      <td>0.0</td>\n",
       "      <td>0.0</td>\n",
       "      <td>0.0</td>\n",
       "      <td>1.0</td>\n",
       "      <td>0.96870</td>\n",
       "      <td>61.3515</td>\n",
       "    </tr>\n",
       "  </tbody>\n",
       "</table>\n",
       "<p>11934 rows × 123 columns</p>\n",
       "</div>"
      ],
      "text/plain": [
       "       MaxEStateIndex  MinEStateIndex  MaxAbsEStateIndex  MinAbsEStateIndex  \\\n",
       "0           12.820479       -0.183140          12.820479           0.128619   \n",
       "1            6.126257        0.660427           6.126257           0.660427   \n",
       "2            5.719940       -0.219974           5.719940           0.075509   \n",
       "3           12.040634       -0.208718          12.040634           0.006714   \n",
       "4           13.082813       -0.044883          13.082813           0.018472   \n",
       "...               ...             ...                ...                ...   \n",
       "11929       12.346902       -0.801800          12.346902           0.024123   \n",
       "11930        9.674588       -0.801690           9.674588           0.174259   \n",
       "11931       13.390758       -1.019880          13.390758           0.162294   \n",
       "11932       13.179767       -1.161112          13.179767           0.077392   \n",
       "11933       10.715530       -0.480844          10.715530           0.139962   \n",
       "\n",
       "            qed    MolWt  HeavyAtomMolWt  ExactMolWt  NumValenceElectrons  \\\n",
       "0      0.457873  362.476         344.332   362.07590                126.0   \n",
       "1      0.756902  255.708         245.628   255.05632                 88.0   \n",
       "2      0.605920  421.549         390.301   421.25900                164.0   \n",
       "3      0.728361  324.344         308.216   324.13348                122.0   \n",
       "4      0.457249  495.628         458.332   495.29578                194.0   \n",
       "...         ...      ...             ...         ...                  ...   \n",
       "11929  0.682518  263.293         246.157   263.11575                102.0   \n",
       "11930  0.635371  210.229         196.117   210.08920                 82.0   \n",
       "11931  0.455270  397.427         374.243   397.15253                152.0   \n",
       "11932  0.772281  357.406         334.222   357.15762                138.0   \n",
       "11933  0.773508  240.259         224.131   240.11101                 94.0   \n",
       "\n",
       "       NumRadicalElectrons  ...  NumHAcceptors  NumHDonors  NumHeteroatoms  \\\n",
       "0                      0.0  ...            5.0         0.0             7.0   \n",
       "1                      0.0  ...            2.0         1.0             4.0   \n",
       "2                      0.0  ...            8.0         0.0             8.0   \n",
       "3                      0.0  ...            7.0         1.0             8.0   \n",
       "4                      0.0  ...            9.0         1.0            10.0   \n",
       "...                    ...  ...            ...         ...             ...   \n",
       "11929                  0.0  ...            4.0         1.0             5.0   \n",
       "11930                  0.0  ...            4.0         1.0             4.0   \n",
       "11931                  0.0  ...            6.0         1.0             7.0   \n",
       "11932                  0.0  ...            5.0         2.0             6.0   \n",
       "11933                  0.0  ...            5.0         2.0             6.0   \n",
       "\n",
       "       NumRotatableBonds  NumSaturatedCarbocycles  NumSaturatedHeterocycles  \\\n",
       "0                    5.0                      0.0                       1.0   \n",
       "1                    2.0                      0.0                       0.0   \n",
       "2                    6.0                      0.0                       1.0   \n",
       "3                    6.0                      0.0                       0.0   \n",
       "4                   10.0                      0.0                       2.0   \n",
       "...                  ...                      ...                       ...   \n",
       "11929                1.0                      1.0                       1.0   \n",
       "11930                1.0                      0.0                       2.0   \n",
       "11931                2.0                      1.0                       3.0   \n",
       "11932                2.0                      2.0                       1.0   \n",
       "11933                6.0                      0.0                       0.0   \n",
       "\n",
       "       NumSaturatedRings  RingCount  MolLogP     MolMR  \n",
       "0                    1.0        3.0  2.66100   99.7840  \n",
       "1                    0.0        3.0  3.79210   72.2647  \n",
       "2                    1.0        4.0  2.73890  118.7370  \n",
       "3                    0.0        3.0  1.06010   85.8887  \n",
       "4                    2.0        5.0  2.28752  136.7977  \n",
       "...                  ...        ...      ...       ...  \n",
       "11929                2.0        3.0  0.13350   65.7418  \n",
       "11930                2.0        3.0  0.37390   52.1998  \n",
       "11931                4.0        6.0  1.00920   99.0888  \n",
       "11932                3.0        4.0  1.06960   91.5416  \n",
       "11933                0.0        1.0  0.96870   61.3515  \n",
       "\n",
       "[11934 rows x 123 columns]"
      ]
     },
     "execution_count": 51,
     "metadata": {},
     "output_type": "execute_result"
    }
   ],
   "source": [
    "df_2 = df_1.drop(df_1.iloc[:, 123:], axis=1)\n",
    "df_2"
   ]
  },
  {
   "cell_type": "code",
   "execution_count": 52,
   "metadata": {},
   "outputs": [
    {
     "data": {
      "text/plain": [
       "array([[ 0.57470029,  0.48253239,  0.57470029, ..., -0.12146359,\n",
       "        -0.14705449,  0.1342937 ],\n",
       "       [-1.91429792,  1.06716821, -1.91429792, ..., -0.12146359,\n",
       "         0.47438237, -0.81980567],\n",
       "       [-2.06537174,  0.45700395, -2.06537174, ...,  0.6022241 ,\n",
       "        -0.1042555 ,  0.79139782],\n",
       "       ...,\n",
       "       [ 0.78673737, -0.09737207,  0.78673737, ...,  2.04959948,\n",
       "        -1.05456877,  0.11019099],\n",
       "       [ 0.7082882 , -0.19525339,  0.7082882 , ...,  0.6022241 ,\n",
       "        -1.02138445, -0.15147188],\n",
       "       [-0.20794688,  0.27620809, -0.20794688, ..., -1.56883897,\n",
       "        -1.07681985, -1.19816839]])"
      ]
     },
     "execution_count": 52,
     "metadata": {},
     "output_type": "execute_result"
    }
   ],
   "source": [
    "scaler = StandardScaler()\n",
    "df_scaled = scaler.fit_transform(df_2)\n",
    "df_scaled"
   ]
  },
  {
   "cell_type": "code",
   "execution_count": 53,
   "metadata": {},
   "outputs": [
    {
     "data": {
      "text/plain": [
       "array([[ 0.20644811,  0.86789906],\n",
       "       [-7.2404753 , -5.03751091],\n",
       "       [ 3.45785287, -1.46308907],\n",
       "       ...,\n",
       "       [ 5.90686488,  6.1728759 ],\n",
       "       [ 3.5585227 ,  6.30768167],\n",
       "       [-6.3239353 ,  3.05493246]])"
      ]
     },
     "execution_count": 53,
     "metadata": {},
     "output_type": "execute_result"
    }
   ],
   "source": [
    "pca = PCA(n_components=2)\n",
    "df_pca = pca.fit_transform(df_scaled)\n",
    "df_pca"
   ]
  },
  {
   "cell_type": "code",
   "execution_count": 54,
   "metadata": {},
   "outputs": [],
   "source": [
    "kmeans = KMeans(n_clusters=4, random_state=50) #PODEMOS DEFENIR O NÚMERO DE CLUSTERS?? PARECE QUE HÁ 2 OU 3!!\n",
    "kmeans.fit(df_scaled)\n",
    "clusters = kmeans.predict(df_scaled)"
   ]
  },
  {
   "cell_type": "code",
   "execution_count": 55,
   "metadata": {},
   "outputs": [
    {
     "data": {
      "image/png": "[encoded data removed]",
      "text/plain": [
       "<Figure size 432x288 with 1 Axes>"
      ]
     },
     "metadata": {
      "needs_background": "light"
     },
     "output_type": "display_data"
    }
   ],
   "source": [
    "plt.scatter(df_pca[:,0], df_pca[:,1], c=clusters, cmap='viridis')\n",
    "plt.xlabel('PCA 1')\n",
    "plt.ylabel('PCA 2')\n",
    "plt.title('Clusters')\n",
    "plt.show()"
   ]
  },
  {
   "attachments": {},
   "cell_type": "markdown",
   "metadata": {},
   "source": [
    "SÓ COM AS VARIÁVEIS FR_..."
   ]
  },
  {
   "cell_type": "code",
   "execution_count": 56,
   "metadata": {},
   "outputs": [
    {
     "data": {
      "text/html": [
       "<div>\n",
       "<style scoped>\n",
       "    .dataframe tbody tr th:only-of-type {\n",
       "        vertical-align: middle;\n",
       "    }\n",
       "\n",
       "    .dataframe tbody tr th {\n",
       "        vertical-align: top;\n",
       "    }\n",
       "\n",
       "    .dataframe thead th {\n",
       "        text-align: right;\n",
       "    }\n",
       "</style>\n",
       "<table border=\"1\" class=\"dataframe\">\n",
       "  <thead>\n",
       "    <tr style=\"text-align: right;\">\n",
       "      <th></th>\n",
       "      <th>fr_Al_COO</th>\n",
       "      <th>fr_Al_OH</th>\n",
       "      <th>fr_Al_OH_noTert</th>\n",
       "      <th>fr_ArN</th>\n",
       "      <th>fr_Ar_COO</th>\n",
       "      <th>fr_Ar_N</th>\n",
       "      <th>fr_Ar_NH</th>\n",
       "      <th>fr_Ar_OH</th>\n",
       "      <th>fr_COO</th>\n",
       "      <th>fr_COO2</th>\n",
       "      <th>...</th>\n",
       "      <th>fr_sulfide</th>\n",
       "      <th>fr_sulfonamd</th>\n",
       "      <th>fr_sulfone</th>\n",
       "      <th>fr_term_acetylene</th>\n",
       "      <th>fr_tetrazole</th>\n",
       "      <th>fr_thiazole</th>\n",
       "      <th>fr_thiocyan</th>\n",
       "      <th>fr_thiophene</th>\n",
       "      <th>fr_unbrch_alkane</th>\n",
       "      <th>fr_urea</th>\n",
       "    </tr>\n",
       "  </thead>\n",
       "  <tbody>\n",
       "    <tr>\n",
       "      <th>0</th>\n",
       "      <td>0.0</td>\n",
       "      <td>0.0</td>\n",
       "      <td>0.0</td>\n",
       "      <td>0.0</td>\n",
       "      <td>0.0</td>\n",
       "      <td>0.0</td>\n",
       "      <td>0.0</td>\n",
       "      <td>0.0</td>\n",
       "      <td>0.0</td>\n",
       "      <td>0.0</td>\n",
       "      <td>...</td>\n",
       "      <td>1.0</td>\n",
       "      <td>0.0</td>\n",
       "      <td>0.0</td>\n",
       "      <td>0.0</td>\n",
       "      <td>0.0</td>\n",
       "      <td>0.0</td>\n",
       "      <td>0.0</td>\n",
       "      <td>0.0</td>\n",
       "      <td>1.0</td>\n",
       "      <td>0.0</td>\n",
       "    </tr>\n",
       "    <tr>\n",
       "      <th>1</th>\n",
       "      <td>0.0</td>\n",
       "      <td>0.0</td>\n",
       "      <td>0.0</td>\n",
       "      <td>0.0</td>\n",
       "      <td>0.0</td>\n",
       "      <td>3.0</td>\n",
       "      <td>1.0</td>\n",
       "      <td>0.0</td>\n",
       "      <td>0.0</td>\n",
       "      <td>0.0</td>\n",
       "      <td>...</td>\n",
       "      <td>0.0</td>\n",
       "      <td>0.0</td>\n",
       "      <td>0.0</td>\n",
       "      <td>0.0</td>\n",
       "      <td>0.0</td>\n",
       "      <td>0.0</td>\n",
       "      <td>0.0</td>\n",
       "      <td>0.0</td>\n",
       "      <td>0.0</td>\n",
       "      <td>0.0</td>\n",
       "    </tr>\n",
       "    <tr>\n",
       "      <th>2</th>\n",
       "      <td>0.0</td>\n",
       "      <td>0.0</td>\n",
       "      <td>0.0</td>\n",
       "      <td>0.0</td>\n",
       "      <td>0.0</td>\n",
       "      <td>5.0</td>\n",
       "      <td>0.0</td>\n",
       "      <td>0.0</td>\n",
       "      <td>0.0</td>\n",
       "      <td>0.0</td>\n",
       "      <td>...</td>\n",
       "      <td>0.0</td>\n",
       "      <td>0.0</td>\n",
       "      <td>0.0</td>\n",
       "      <td>0.0</td>\n",
       "      <td>1.0</td>\n",
       "      <td>0.0</td>\n",
       "      <td>0.0</td>\n",
       "      <td>0.0</td>\n",
       "      <td>0.0</td>\n",
       "      <td>0.0</td>\n",
       "    </tr>\n",
       "    <tr>\n",
       "      <th>3</th>\n",
       "      <td>0.0</td>\n",
       "      <td>0.0</td>\n",
       "      <td>0.0</td>\n",
       "      <td>0.0</td>\n",
       "      <td>0.0</td>\n",
       "      <td>5.0</td>\n",
       "      <td>0.0</td>\n",
       "      <td>0.0</td>\n",
       "      <td>0.0</td>\n",
       "      <td>0.0</td>\n",
       "      <td>...</td>\n",
       "      <td>0.0</td>\n",
       "      <td>0.0</td>\n",
       "      <td>0.0</td>\n",
       "      <td>0.0</td>\n",
       "      <td>1.0</td>\n",
       "      <td>0.0</td>\n",
       "      <td>0.0</td>\n",
       "      <td>0.0</td>\n",
       "      <td>0.0</td>\n",
       "      <td>0.0</td>\n",
       "    </tr>\n",
       "    <tr>\n",
       "      <th>4</th>\n",
       "      <td>0.0</td>\n",
       "      <td>0.0</td>\n",
       "      <td>0.0</td>\n",
       "      <td>0.0</td>\n",
       "      <td>0.0</td>\n",
       "      <td>5.0</td>\n",
       "      <td>1.0</td>\n",
       "      <td>0.0</td>\n",
       "      <td>0.0</td>\n",
       "      <td>0.0</td>\n",
       "      <td>...</td>\n",
       "      <td>0.0</td>\n",
       "      <td>0.0</td>\n",
       "      <td>0.0</td>\n",
       "      <td>0.0</td>\n",
       "      <td>1.0</td>\n",
       "      <td>0.0</td>\n",
       "      <td>0.0</td>\n",
       "      <td>0.0</td>\n",
       "      <td>0.0</td>\n",
       "      <td>0.0</td>\n",
       "    </tr>\n",
       "    <tr>\n",
       "      <th>...</th>\n",
       "      <td>...</td>\n",
       "      <td>...</td>\n",
       "      <td>...</td>\n",
       "      <td>...</td>\n",
       "      <td>...</td>\n",
       "      <td>...</td>\n",
       "      <td>...</td>\n",
       "      <td>...</td>\n",
       "      <td>...</td>\n",
       "      <td>...</td>\n",
       "      <td>...</td>\n",
       "      <td>...</td>\n",
       "      <td>...</td>\n",
       "      <td>...</td>\n",
       "      <td>...</td>\n",
       "      <td>...</td>\n",
       "      <td>...</td>\n",
       "      <td>...</td>\n",
       "      <td>...</td>\n",
       "      <td>...</td>\n",
       "      <td>...</td>\n",
       "    </tr>\n",
       "    <tr>\n",
       "      <th>11929</th>\n",
       "      <td>0.0</td>\n",
       "      <td>1.0</td>\n",
       "      <td>1.0</td>\n",
       "      <td>0.0</td>\n",
       "      <td>0.0</td>\n",
       "      <td>0.0</td>\n",
       "      <td>0.0</td>\n",
       "      <td>0.0</td>\n",
       "      <td>0.0</td>\n",
       "      <td>0.0</td>\n",
       "      <td>...</td>\n",
       "      <td>0.0</td>\n",
       "      <td>0.0</td>\n",
       "      <td>0.0</td>\n",
       "      <td>0.0</td>\n",
       "      <td>0.0</td>\n",
       "      <td>0.0</td>\n",
       "      <td>0.0</td>\n",
       "      <td>0.0</td>\n",
       "      <td>0.0</td>\n",
       "      <td>0.0</td>\n",
       "    </tr>\n",
       "    <tr>\n",
       "      <th>11930</th>\n",
       "      <td>0.0</td>\n",
       "      <td>1.0</td>\n",
       "      <td>1.0</td>\n",
       "      <td>0.0</td>\n",
       "      <td>0.0</td>\n",
       "      <td>0.0</td>\n",
       "      <td>0.0</td>\n",
       "      <td>0.0</td>\n",
       "      <td>0.0</td>\n",
       "      <td>0.0</td>\n",
       "      <td>...</td>\n",
       "      <td>0.0</td>\n",
       "      <td>0.0</td>\n",
       "      <td>0.0</td>\n",
       "      <td>0.0</td>\n",
       "      <td>0.0</td>\n",
       "      <td>0.0</td>\n",
       "      <td>0.0</td>\n",
       "      <td>0.0</td>\n",
       "      <td>0.0</td>\n",
       "      <td>0.0</td>\n",
       "    </tr>\n",
       "    <tr>\n",
       "      <th>11931</th>\n",
       "      <td>0.0</td>\n",
       "      <td>1.0</td>\n",
       "      <td>1.0</td>\n",
       "      <td>0.0</td>\n",
       "      <td>0.0</td>\n",
       "      <td>0.0</td>\n",
       "      <td>0.0</td>\n",
       "      <td>0.0</td>\n",
       "      <td>0.0</td>\n",
       "      <td>0.0</td>\n",
       "      <td>...</td>\n",
       "      <td>0.0</td>\n",
       "      <td>0.0</td>\n",
       "      <td>0.0</td>\n",
       "      <td>0.0</td>\n",
       "      <td>0.0</td>\n",
       "      <td>0.0</td>\n",
       "      <td>0.0</td>\n",
       "      <td>0.0</td>\n",
       "      <td>0.0</td>\n",
       "      <td>0.0</td>\n",
       "    </tr>\n",
       "    <tr>\n",
       "      <th>11932</th>\n",
       "      <td>0.0</td>\n",
       "      <td>2.0</td>\n",
       "      <td>2.0</td>\n",
       "      <td>0.0</td>\n",
       "      <td>0.0</td>\n",
       "      <td>0.0</td>\n",
       "      <td>0.0</td>\n",
       "      <td>0.0</td>\n",
       "      <td>0.0</td>\n",
       "      <td>0.0</td>\n",
       "      <td>...</td>\n",
       "      <td>0.0</td>\n",
       "      <td>0.0</td>\n",
       "      <td>0.0</td>\n",
       "      <td>0.0</td>\n",
       "      <td>0.0</td>\n",
       "      <td>0.0</td>\n",
       "      <td>0.0</td>\n",
       "      <td>0.0</td>\n",
       "      <td>0.0</td>\n",
       "      <td>0.0</td>\n",
       "    </tr>\n",
       "    <tr>\n",
       "      <th>11933</th>\n",
       "      <td>0.0</td>\n",
       "      <td>1.0</td>\n",
       "      <td>1.0</td>\n",
       "      <td>0.0</td>\n",
       "      <td>0.0</td>\n",
       "      <td>1.0</td>\n",
       "      <td>0.0</td>\n",
       "      <td>0.0</td>\n",
       "      <td>0.0</td>\n",
       "      <td>0.0</td>\n",
       "      <td>...</td>\n",
       "      <td>0.0</td>\n",
       "      <td>0.0</td>\n",
       "      <td>0.0</td>\n",
       "      <td>0.0</td>\n",
       "      <td>0.0</td>\n",
       "      <td>0.0</td>\n",
       "      <td>0.0</td>\n",
       "      <td>0.0</td>\n",
       "      <td>0.0</td>\n",
       "      <td>0.0</td>\n",
       "    </tr>\n",
       "  </tbody>\n",
       "</table>\n",
       "<p>11934 rows × 85 columns</p>\n",
       "</div>"
      ],
      "text/plain": [
       "       fr_Al_COO  fr_Al_OH  fr_Al_OH_noTert  fr_ArN  fr_Ar_COO  fr_Ar_N  \\\n",
       "0            0.0       0.0              0.0     0.0        0.0      0.0   \n",
       "1            0.0       0.0              0.0     0.0        0.0      3.0   \n",
       "2            0.0       0.0              0.0     0.0        0.0      5.0   \n",
       "3            0.0       0.0              0.0     0.0        0.0      5.0   \n",
       "4            0.0       0.0              0.0     0.0        0.0      5.0   \n",
       "...          ...       ...              ...     ...        ...      ...   \n",
       "11929        0.0       1.0              1.0     0.0        0.0      0.0   \n",
       "11930        0.0       1.0              1.0     0.0        0.0      0.0   \n",
       "11931        0.0       1.0              1.0     0.0        0.0      0.0   \n",
       "11932        0.0       2.0              2.0     0.0        0.0      0.0   \n",
       "11933        0.0       1.0              1.0     0.0        0.0      1.0   \n",
       "\n",
       "       fr_Ar_NH  fr_Ar_OH  fr_COO  fr_COO2  ...  fr_sulfide  fr_sulfonamd  \\\n",
       "0           0.0       0.0     0.0      0.0  ...         1.0           0.0   \n",
       "1           1.0       0.0     0.0      0.0  ...         0.0           0.0   \n",
       "2           0.0       0.0     0.0      0.0  ...         0.0           0.0   \n",
       "3           0.0       0.0     0.0      0.0  ...         0.0           0.0   \n",
       "4           1.0       0.0     0.0      0.0  ...         0.0           0.0   \n",
       "...         ...       ...     ...      ...  ...         ...           ...   \n",
       "11929       0.0       0.0     0.0      0.0  ...         0.0           0.0   \n",
       "11930       0.0       0.0     0.0      0.0  ...         0.0           0.0   \n",
       "11931       0.0       0.0     0.0      0.0  ...         0.0           0.0   \n",
       "11932       0.0       0.0     0.0      0.0  ...         0.0           0.0   \n",
       "11933       0.0       0.0     0.0      0.0  ...         0.0           0.0   \n",
       "\n",
       "       fr_sulfone  fr_term_acetylene  fr_tetrazole  fr_thiazole  fr_thiocyan  \\\n",
       "0             0.0                0.0           0.0          0.0          0.0   \n",
       "1             0.0                0.0           0.0          0.0          0.0   \n",
       "2             0.0                0.0           1.0          0.0          0.0   \n",
       "3             0.0                0.0           1.0          0.0          0.0   \n",
       "4             0.0                0.0           1.0          0.0          0.0   \n",
       "...           ...                ...           ...          ...          ...   \n",
       "11929         0.0                0.0           0.0          0.0          0.0   \n",
       "11930         0.0                0.0           0.0          0.0          0.0   \n",
       "11931         0.0                0.0           0.0          0.0          0.0   \n",
       "11932         0.0                0.0           0.0          0.0          0.0   \n",
       "11933         0.0                0.0           0.0          0.0          0.0   \n",
       "\n",
       "       fr_thiophene  fr_unbrch_alkane  fr_urea  \n",
       "0               0.0               1.0      0.0  \n",
       "1               0.0               0.0      0.0  \n",
       "2               0.0               0.0      0.0  \n",
       "3               0.0               0.0      0.0  \n",
       "4               0.0               0.0      0.0  \n",
       "...             ...               ...      ...  \n",
       "11929           0.0               0.0      0.0  \n",
       "11930           0.0               0.0      0.0  \n",
       "11931           0.0               0.0      0.0  \n",
       "11932           0.0               0.0      0.0  \n",
       "11933           0.0               0.0      0.0  \n",
       "\n",
       "[11934 rows x 85 columns]"
      ]
     },
     "execution_count": 56,
     "metadata": {},
     "output_type": "execute_result"
    }
   ],
   "source": [
    "df_3 = df_1.drop(df_1.iloc[:, :123], axis=1)\n",
    "df_3"
   ]
  },
  {
   "cell_type": "code",
   "execution_count": 57,
   "metadata": {},
   "outputs": [
    {
     "data": {
      "text/plain": [
       "array([[-0.24717643, -0.27274669, -0.25915659, ..., -0.25073392,\n",
       "         1.12620206, -0.20666472],\n",
       "       [-0.24717643, -0.27274669, -0.25915659, ..., -0.25073392,\n",
       "        -0.16499742, -0.20666472],\n",
       "       [-0.24717643, -0.27274669, -0.25915659, ..., -0.25073392,\n",
       "        -0.16499742, -0.20666472],\n",
       "       ...,\n",
       "       [-0.24717643,  1.07061237,  1.19969942, ..., -0.25073392,\n",
       "        -0.16499742, -0.20666472],\n",
       "       [-0.24717643,  2.41397142,  2.65855543, ..., -0.25073392,\n",
       "        -0.16499742, -0.20666472],\n",
       "       [-0.24717643,  1.07061237,  1.19969942, ..., -0.25073392,\n",
       "        -0.16499742, -0.20666472]])"
      ]
     },
     "execution_count": 57,
     "metadata": {},
     "output_type": "execute_result"
    }
   ],
   "source": [
    "scaler = StandardScaler()\n",
    "df_scaled = scaler.fit_transform(df_3)\n",
    "df_scaled"
   ]
  },
  {
   "cell_type": "code",
   "execution_count": 58,
   "metadata": {},
   "outputs": [
    {
     "data": {
      "text/plain": [
       "array([[ 1.11532008, -1.12223472],\n",
       "       [-2.23852155,  0.39448316],\n",
       "       [-3.657164  , -0.73877625],\n",
       "       ...,\n",
       "       [ 4.70222603, -1.43799113],\n",
       "       [ 5.42540058, -1.07277783],\n",
       "       [ 1.12563441, -0.63197585]])"
      ]
     },
     "execution_count": 58,
     "metadata": {},
     "output_type": "execute_result"
    }
   ],
   "source": [
    "pca = PCA(n_components=2)\n",
    "df_pca = pca.fit_transform(df_scaled)\n",
    "df_pca"
   ]
  },
  {
   "cell_type": "code",
   "execution_count": 59,
   "metadata": {},
   "outputs": [],
   "source": [
    "kmeans = KMeans(n_clusters=4, random_state=50) #PODEMOS DEFENIR O NÚMERO DE CLUSTERS?? PARECE QUE HÁ 2 OU 3!!\n",
    "kmeans.fit(df_scaled)\n",
    "clusters = kmeans.predict(df_scaled)"
   ]
  },
  {
   "cell_type": "code",
   "execution_count": 60,
   "metadata": {},
   "outputs": [
    {
     "data": {
      "image/png": "[encoded data removed]",
      "text/plain": [
       "<Figure size 432x288 with 1 Axes>"
      ]
     },
     "metadata": {
      "needs_background": "light"
     },
     "output_type": "display_data"
    }
   ],
   "source": [
    "plt.scatter(df_pca[:,0], df_pca[:,1], c=clusters, cmap='viridis')\n",
    "plt.xlabel('PCA 1')\n",
    "plt.ylabel('PCA 2')\n",
    "plt.title('Clusters')\n",
    "plt.show()"
   ]
  }
 ],
 "metadata": {
  "kernelspec": {
   "display_name": "Python 3",
   "language": "python",
   "name": "python3"
  },
  "language_info": {
   "codemirror_mode": {
    "name": "ipython",
    "version": 3
   },
   "file_extension": ".py",
   "mimetype": "text/x-python",
   "name": "python",
   "nbconvert_exporter": "python",
   "pygments_lexer": "ipython3",
   "version": "3.9.12"
  },
  "orig_nbformat": 4
 },
 "nbformat": 4,
 "nbformat_minor": 2
}
